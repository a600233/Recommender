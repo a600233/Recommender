{
 "cells": [
  {
   "cell_type": "code",
   "execution_count": 1,
   "metadata": {},
   "outputs": [],
   "source": [
    "from spotlight.cross_validation import user_based_train_test_split\n",
    "from spotlight.datasets.movielens import get_movielens_dataset\n",
    "from spotlight.evaluation import rmse_score,mrr_score,precision_recall_score,sequence_mrr_score\n",
    "from spotlight.factorization.explicit import ExplicitFactorizationModel\n",
    "import pandas as pd\n",
    "import numpy as np\n",
    "import os\n"
   ]
  },
  {
   "cell_type": "code",
   "execution_count": 2,
   "metadata": {},
   "outputs": [],
   "source": [
    "ratings_df = pd.read_csv(\"ml-latest-small/ratings.csv\")\n",
    "movies_df = pd.read_csv(\"ml-latest-small/movies.csv\")\n",
    "\n",
    "from collections import defaultdict\n",
    "from itertools import count\n",
    "\n",
    "uid_map = defaultdict(count().__next__)\n",
    "iid_map = defaultdict(count().__next__)\n",
    "uids = np.array([uid_map[uid] for uid in ratings_df[\"userId\"].values ], dtype=np.int32)\n",
    "iids = np.array([iid_map[iid] for iid in ratings_df[\"movieId\"].values ], dtype=np.int32)\n",
    "\n",
    "\n",
    "uid_rev_map = {v: k for k, v in uid_map.items()}\n",
    "iid_rev_map = {v: k for k, v in iid_map.items()}\n",
    "\n",
    "\n",
    "ratings = ratings_df[\"rating\"].values.astype(np.float32)\n",
    "timestamps = ratings_df[\"timestamp\"].values.astype(np.int32)\n",
    "\n",
    "from spotlight.interactions import Interactions\n",
    "from spotlight.cross_validation import random_train_test_split\n",
    "\n",
    "dataset = Interactions(user_ids=uids,item_ids=iids,ratings=ratings,timestamps=timestamps)\n",
    "\n",
    "#lets initialise the seed, so that its repeatable and reproducible \n",
    "train, test = random_train_test_split(dataset, test_percentage=0.2)\n"
   ]
  },
  {
   "cell_type": "code",
   "execution_count": 3,
   "metadata": {},
   "outputs": [
    {
     "data": {
      "text/plain": [
       "<Interactions dataset (610 users x 9724 items x 100836 interactions)>"
      ]
     },
     "execution_count": 3,
     "metadata": {},
     "output_type": "execute_result"
    }
   ],
   "source": [
    "dataset\n"
   ]
  },
  {
   "cell_type": "code",
   "execution_count": 4,
   "metadata": {},
   "outputs": [
    {
     "data": {
      "text/plain": [
       "<Interactions dataset (610 users x 9724 items x 80668 interactions)>"
      ]
     },
     "execution_count": 4,
     "metadata": {},
     "output_type": "execute_result"
    }
   ],
   "source": [
    "train"
   ]
  },
  {
   "cell_type": "code",
   "execution_count": 5,
   "metadata": {},
   "outputs": [
    {
     "data": {
      "text/plain": [
       "<Interactions dataset (610 users x 9724 items x 20168 interactions)>"
      ]
     },
     "execution_count": 5,
     "metadata": {},
     "output_type": "execute_result"
    }
   ],
   "source": [
    "test"
   ]
  },
  {
   "cell_type": "code",
   "execution_count": 6,
   "metadata": {},
   "outputs": [
    {
     "name": "stdout",
     "output_type": "stream",
     "text": [
      "55253\n"
     ]
    }
   ],
   "source": [
    "import os\n",
    "print(os.getpid())"
   ]
  },
  {
   "cell_type": "code",
   "execution_count": 7,
   "metadata": {},
   "outputs": [
    {
     "name": "stdout",
     "output_type": "stream",
     "text": [
      "<Interactions dataset (610 users x 9724 items x 80668 interactions)>\n",
      "The total time is 1.6982049942016602 seconds\n"
     ]
    }
   ],
   "source": [
    "import tracemalloc\n",
    "import time\n",
    "\n",
    "\n",
    "#tracemalloc.start()\n",
    "model = ExplicitFactorizationModel(n_iter=1)\n",
    "intial_time = time.time()\n",
    "print(train)\n",
    "model.fit(train)\n",
    "#current, peak = tracemalloc.get_traced_memory()\n",
    "\n",
    "#print(f\"Inital memory usage was {current / 10**6} MB; Peak was {peak / 10**6} MB; and difference is {(peak / 10**6) - (current / 10**6)} MB\")\n",
    "print(f\"The total time is {time.time() - intial_time} seconds\")\n",
    "\n",
    "tracemalloc.stop()\n",
    "#snapshot2 = tracemalloc.take_snapshot()\n",
    "\n"
   ]
  },
  {
   "cell_type": "code",
   "execution_count": 8,
   "metadata": {},
   "outputs": [
    {
     "name": "stdout",
     "output_type": "stream",
     "text": [
      "[1.97830028e-03 1.32348464e-03 4.26648429e-04 4.25224809e-03\n",
      " 4.04760911e-03 1.64795621e-02 3.58404429e-03 4.01385307e-02\n",
      " 2.26558484e-03 4.37119993e-03 2.50656350e-03 1.52048584e-03\n",
      " 2.09952994e-03 1.06512674e-02 1.35801667e-02 1.49458877e-02\n",
      " 9.34945142e-03 2.00936699e-03 1.08172499e-03 3.12793302e-03\n",
      " 1.57944407e-03 3.94716387e-03 1.11355405e-02 1.16505311e-03\n",
      " 1.33868809e-03 8.24520801e-03 2.95887170e-03 6.84064013e-03\n",
      " 4.33439251e-03 4.18660170e-03 2.38551301e-03 5.69734319e-03\n",
      " 1.71671831e-03 1.37671105e-03 5.59044678e-03 6.21054373e-03\n",
      " 1.24529849e-03 1.18882827e-02 6.32633473e-03 2.58366039e-03\n",
      " 5.68765388e-03 2.25031581e-03 1.89176384e-03 2.04665838e-03\n",
      " 2.24350644e-03 2.91154436e-03 1.63015419e-03 1.96878542e-02\n",
      " 9.70455468e-04 3.68756306e-03 2.73579448e-03 2.39986100e-03\n",
      " 5.31918742e-03 1.64280170e-02 1.43445934e-03 1.06611341e-02\n",
      " 5.11186874e-03 5.29947098e-03 6.98755270e-03 1.20304728e-02\n",
      " 1.73025388e-02 1.70905278e-03 4.06617680e-03 2.53961798e-03\n",
      " 3.34927265e-03 4.42849288e-03 7.37177135e-03 1.54069818e-03\n",
      " 2.88341077e-03 2.38203915e-03 1.11514406e-03 1.76792242e-02\n",
      " 4.68850280e-03 2.86074290e-03 7.70522292e-03 7.75362971e-03\n",
      " 2.56707758e-02 5.82428626e-03 9.71451908e-03 1.16670906e-03\n",
      " 8.49424252e-02 9.92168003e-04 4.07104581e-03 2.16754309e-03\n",
      " 1.91008994e-03 4.18871867e-03 1.21761825e-03 1.26696008e-03\n",
      " 2.37892562e-03 9.05605929e-04 3.06348839e-03 3.03874166e-04\n",
      " 2.48940712e-03 1.08424301e-01 4.14644815e-03 2.80255684e-03\n",
      " 1.14320150e-03 1.69175486e-03 5.72919742e-03 1.96638831e-03\n",
      " 1.19193652e-03 8.44772792e-03 3.39965932e-03 2.12602780e-03\n",
      " 2.46618945e-03 7.44999819e-04 9.77208983e-04 8.93853694e-03\n",
      " 5.37283098e-03 1.25548950e-02 1.87459068e-03 6.82250005e-03\n",
      " 6.28548068e-03 1.25397302e-03 1.74293819e-03 5.51253260e-03\n",
      " 5.97382737e-03 1.61987890e-03 1.30003263e-03 2.21619476e-03\n",
      " 1.52956319e-02 6.07483428e-03 1.41825818e-03 7.89426159e-03\n",
      " 4.08352746e-03 8.02773960e-02 6.31989989e-04 1.78647599e-02\n",
      " 2.40717869e-03 5.26837474e-02 8.48307072e-03 2.51337192e-03\n",
      " 1.85127701e-02 1.83561875e-02 2.02778396e-03 5.34185085e-03\n",
      " 6.78038031e-03 1.60498835e-03 3.74967752e-03 4.93478960e-03\n",
      " 1.83650204e-03 1.52302890e-02 7.45513236e-04 4.64540082e-03\n",
      " 1.23715342e-02 1.01785376e-03 6.85746423e-04 2.41395485e-03\n",
      " 2.42333097e-03 3.21949630e-02 3.96966708e-04 3.22252119e-03\n",
      " 4.39332068e-03 6.12342086e-03 1.88970393e-03 7.86967355e-03\n",
      " 6.68662953e-02 4.25115917e-04 3.27201522e-03 1.18654663e-03\n",
      " 1.76591292e-03 1.57853394e-03 1.91818619e-03 1.32080315e-03\n",
      " 2.11725624e-03 4.96799296e-03 1.12511054e-02 1.35756803e-02\n",
      " 1.38541257e-03 1.36490282e-02 3.11143581e-03 5.47293859e-03\n",
      " 9.12065028e-03 4.66770644e-02 3.14220728e-04 7.46126355e-03\n",
      " 2.59134650e-03 1.40415309e-02 3.85942202e-03 7.67770957e-03\n",
      " 6.74274188e-02 1.11091143e-02 3.29920918e-03 7.78917261e-04\n",
      " 2.49070781e-03 5.97570849e-03 4.89213311e-03 2.36442273e-03\n",
      " 4.23833586e-03 4.81802490e-03 3.88163189e-03 1.81818182e-01\n",
      " 3.48244827e-03 3.24255476e-03 2.02668519e-03 7.48685525e-03\n",
      " 2.79480629e-03 3.42299775e-03 5.48843310e-03 1.40517198e-03\n",
      " 2.00982298e-03 5.14960746e-03 5.12534687e-03 6.15971903e-03\n",
      " 5.44112030e-03 2.08339691e-03 1.85341674e-03 4.87757291e-03\n",
      " 1.08106870e-02 1.21840870e-03 4.67472448e-03 3.66640713e-03\n",
      " 9.73885580e-04 5.66588122e-04 1.71526159e-02 4.19503844e-03\n",
      " 4.10461838e-03 1.37027295e-03 3.26156016e-03 1.59956849e-03\n",
      " 3.52621730e-03 1.21594042e-03 2.33773642e-03 5.23909741e-03\n",
      " 8.33286216e-04 2.74933574e-03 5.09161945e-03 5.78999629e-03\n",
      " 3.25656042e-03 3.34313421e-03 2.62725780e-02 1.72656596e-03\n",
      " 8.18706697e-03 1.26598436e-03 5.79341424e-03 3.77804808e-04\n",
      " 7.15240139e-04 9.49443370e-03 3.10073732e-03 5.84215616e-03\n",
      " 3.04146700e-03 4.72986586e-03 1.64940438e-03 7.80587212e-03\n",
      " 5.01768243e-03 3.48122748e-03 5.81656703e-03 1.00191629e-03\n",
      " 1.98608742e-03 9.49336936e-04 5.01122522e-03 1.31184170e-03\n",
      " 8.66472317e-04 1.06072396e-02 1.86065153e-03 1.25478210e-03\n",
      " 7.94976010e-04 1.63190185e-03 2.78595175e-03 2.18990982e-02\n",
      " 4.76465541e-03 3.34392314e-02 3.45243123e-03 4.40487150e-03\n",
      " 3.53144731e-03 3.94594856e-03 7.39361847e-03 1.92525375e-03\n",
      " 1.47073176e-02 1.57711741e-03 8.03143524e-04 8.52615739e-04\n",
      " 1.34099429e-02 3.11242586e-03 4.78422310e-03 1.28246805e-03\n",
      " 1.94194932e-03 5.33907044e-04 3.71837412e-03 9.69567933e-04\n",
      " 1.03436767e-03 2.96588477e-03 3.69054254e-03 6.35520233e-03\n",
      " 1.72637263e-02 4.51053226e-03 1.39165056e-03 1.82877867e-03\n",
      " 6.95314702e-04 6.03181798e-03 2.78869396e-03 9.98491154e-04\n",
      " 5.88235294e-02 1.74750301e-03 4.38041524e-04 2.27054809e-03\n",
      " 2.06060844e-03 8.06321015e-03 3.35312357e-04 6.45356986e-03\n",
      " 1.80919264e-03 6.06622179e-03 3.53975196e-02 2.64134081e-03\n",
      " 3.06073080e-03 2.98433857e-03 2.00417723e-03 2.02926337e-03\n",
      " 2.92998116e-03 6.67861267e-03 1.10898481e-03 3.65901977e-03\n",
      " 2.59133232e-03 1.92249109e-03 4.48506328e-03 1.02770662e-03\n",
      " 7.04455673e-03 1.63820571e-03 1.02422240e-03 8.23696654e-04\n",
      " 9.17139518e-02 3.47103536e-03 2.93034334e-03 2.04081633e-02\n",
      " 1.80817192e-03 3.15666707e-03 4.01010402e-03 4.91537810e-03\n",
      " 6.01423693e-03 7.88390762e-03 5.75967131e-03 5.97380329e-03\n",
      " 9.75785622e-02 3.03555749e-03 4.77391049e-04 3.49584466e-03\n",
      " 4.02832879e-03 3.89107203e-03 3.48354252e-03 8.80877415e-03\n",
      " 7.76479188e-04 1.96948708e-03 5.74052774e-03 3.74222985e-03\n",
      " 1.60194531e-03 1.28162011e-02 6.68572957e-02 1.43164859e-02\n",
      " 7.37930086e-03 1.42982402e-03 2.90986767e-03 4.22790930e-03\n",
      " 1.42059610e-02 5.58979871e-03 1.70567198e-04 4.09494509e-03\n",
      " 3.22094653e-03 5.03751558e-03 1.51090611e-03 9.42082608e-04\n",
      " 7.45307972e-04 2.23982915e-03 8.27326673e-04 1.72423915e-03\n",
      " 1.88677575e-03 3.17321983e-03 2.13236382e-03 2.82722415e-03\n",
      " 2.71809269e-03 1.03335576e-02 1.57472269e-03 7.78001609e-03\n",
      " 1.43905573e-02 4.01059203e-03 4.94836541e-04 4.07883065e-03\n",
      " 6.42675680e-04 2.69558906e-03 1.95154323e-02 1.53167816e-03\n",
      " 2.00037141e-03 3.72522946e-03 8.45507587e-04 9.63124160e-04\n",
      " 1.24195557e-02 7.12358449e-03 2.34048025e-03 1.00611450e-03\n",
      " 6.19970062e-04 2.40282285e-03 2.03520053e-02 3.78681634e-03\n",
      " 2.76761778e-03 2.50807041e-02 2.29177293e-03 4.03718881e-03\n",
      " 7.07356809e-03 4.21757861e-03 2.91237681e-03 1.52706733e-03\n",
      " 4.71829173e-03 2.04888243e-02 2.78867289e-03 1.50666923e-02\n",
      " 1.76227057e-03 3.70547366e-04 2.11346326e-03 5.63474714e-03\n",
      " 1.61692403e-03 3.00116133e-03 6.51660013e-03 2.53291891e-03\n",
      " 3.37676828e-03 2.25411955e-03 5.92386810e-03 2.96112335e-03\n",
      " 1.69767031e-03 3.23571787e-03 2.42664032e-03 3.72785918e-03\n",
      " 4.05443103e-03 1.54412569e-02 1.42076615e-02 5.83918768e-03\n",
      " 1.61866196e-03 2.65474893e-03 3.02377711e-03 1.39848787e-03\n",
      " 9.58723909e-03 1.56520303e-03 1.32248914e-03 1.50473265e-03\n",
      " 3.51864884e-04 4.10990641e-03 4.60098242e-03 1.01880576e-03\n",
      " 2.02384615e-03 1.92481957e-03 2.45276773e-03 9.58170457e-04\n",
      " 3.73301208e-03 1.13833915e-03 3.20712071e-03 4.25415861e-03\n",
      " 4.94790063e-03 1.42673925e-02 9.13089720e-03 1.93965558e-03\n",
      " 7.18410032e-03 1.17294207e-02 1.26004424e-03 4.83528311e-03\n",
      " 1.69772060e-03 9.96879855e-03 2.32460097e-03 1.04034579e-03\n",
      " 5.36143780e-02 1.32876333e-03 1.48206706e-03 2.67913917e-03\n",
      " 3.77791578e-03 1.00587019e-03 3.25209687e-03 1.09420885e-02\n",
      " 3.99682905e-03 5.94602953e-03 1.66313442e-02 1.57784168e-02\n",
      " 7.03243094e-03 6.50377322e-03 8.00898068e-03 6.04835582e-03\n",
      " 4.83224364e-03 2.45127003e-03 6.21530575e-03 3.10739968e-03\n",
      " 2.13034459e-02 7.18634843e-04 2.58633964e-03 3.39393481e-04\n",
      " 1.95899405e-03 2.68625678e-03 9.03562216e-04 6.34671051e-03\n",
      " 5.63267872e-03 1.00369825e-02 1.32535503e-02 1.95354980e-03\n",
      " 8.33922506e-03 1.71213717e-03 2.38708850e-03 1.10481013e-02\n",
      " 2.58095499e-03 2.73083900e-03 5.80579997e-02 8.61822006e-03\n",
      " 3.40728400e-03 2.67862095e-04 8.15010720e-03 4.57931429e-03\n",
      " 3.52382536e-03 1.45101615e-03 9.31347340e-04 1.78746410e-03\n",
      " 2.72954873e-03 2.36345296e-01 1.61801425e-03 3.31050382e-03\n",
      " 1.76412529e-03 5.14663811e-03 2.63334779e-02 1.14775724e-02\n",
      " 2.00554755e-03 3.26704088e-03 1.94351200e-03 4.53694519e-03\n",
      " 4.05863101e-03 1.80018320e-03 1.44568430e-03 6.72533612e-04\n",
      " 1.06345201e-02 3.11723341e-03 9.45580551e-03 4.83762620e-03\n",
      " 3.55339098e-03 1.39813639e-03 2.42775064e-03 1.35439217e-02\n",
      " 7.92706904e-03 6.20702827e-03 5.49813470e-03 1.65422333e-03\n",
      " 1.73934556e-03 8.26465266e-04 5.29520668e-03 3.33392703e-03\n",
      " 3.62876762e-03 4.06791400e-03 1.66770946e-03 1.74671672e-02\n",
      " 3.77644845e-03 3.23580886e-03 1.14029266e-03 5.01464622e-04\n",
      " 8.85990915e-04 5.19810357e-02 1.33085488e-03 3.34448161e-03\n",
      " 3.21424538e-03 1.93718601e-03 1.61833244e-03 4.35327511e-03\n",
      " 4.14149689e-03 2.39432494e-03 8.01705718e-04 4.47139835e-03\n",
      " 8.67222735e-04 6.19711227e-03 2.01446537e-03 2.81361357e-03\n",
      " 2.44628899e-03 2.31044461e-03 3.87090148e-03 1.02000036e-02\n",
      " 7.40770117e-03 2.55948500e-03 4.39489264e-03 3.84615385e-02\n",
      " 3.93085352e-03 8.79513283e-04 3.11652649e-03 2.47145698e-03\n",
      " 2.35724544e-03 7.08907456e-04 5.32504669e-04 3.84403770e-03\n",
      " 1.49595139e-03 1.48420973e-03 5.16470773e-03 3.75378283e-03\n",
      " 7.62331013e-03 1.10848808e-03 1.45994862e-02 4.57998314e-03\n",
      " 9.57478671e-04 1.38718876e-03 2.78252863e-02 8.84723125e-03\n",
      " 2.68675230e-03 1.25256751e-03 1.66131961e-02 1.85635570e-03\n",
      " 1.02129180e-03 3.85385287e-03 1.13734783e-03 1.46179194e-02\n",
      " 2.50375641e-03 2.02613277e-03 3.51112530e-03 9.04101598e-03\n",
      " 1.02190746e-02 1.87943905e-03 3.25227933e-03 1.72649483e-03\n",
      " 3.02711935e-03 7.64006641e-03 1.97574601e-03 3.78059945e-03\n",
      " 1.59343941e-03]\n",
      "54274\n",
      "The total time is 1.124553918838501 seconds\n"
     ]
    }
   ],
   "source": [
    "#tracemalloc.start()\n",
    "intial_time = time.time()\n",
    "print(mrr_score(model, test))\n",
    "#current, peak = tracemalloc.get_traced_memory()\n",
    "print(os.getpid())\n",
    "#print(f\"Inital memory usage was {current / 10**6} MB; Peak was {peak / 10**6} MB; and difference is {(peak / 10**6) - (current / 10**6)} MB\")\n",
    "print(f\"The total time is {time.time() - intial_time} seconds\")\n"
   ]
  },
  {
   "cell_type": "code",
   "execution_count": 9,
   "metadata": {},
   "outputs": [
    {
     "name": "stdout",
     "output_type": "stream",
     "text": [
      "Root Mean Squared Error is 1.0671308040618896\n",
      "Inital memory usage was 0.004634 MB; Peak was 0.4079 MB; and difference is 0.40326599999999996 MB\n",
      "The total time is 0.006567955017089844 seconds\n"
     ]
    }
   ],
   "source": [
    "tracemalloc.start()\n",
    "\n",
    "\n",
    "tracemalloc.start()\n",
    "intial_time = time.time()\n",
    "print(f\"Root Mean Squared Error is {rmse_score(model, test)}\")\n",
    "current, peak = tracemalloc.get_traced_memory()\n",
    "\n",
    "print(f\"Inital memory usage was {current / 10**6} MB; Peak was {peak / 10**6} MB; and difference is {(peak / 10**6) - (current / 10**6)} MB\")\n",
    "print(f\"The total time is {time.time() - intial_time} seconds\")"
   ]
  },
  {
   "cell_type": "code",
   "execution_count": null,
   "metadata": {},
   "outputs": [
    {
     "name": "stdout",
     "output_type": "stream",
     "text": [
      "0 0\n",
      "PID is 55242\n",
      "1\n",
      "2\n",
      "<Interactions dataset (609 users x 609 items x 56628 interactions)>\n"
     ]
    }
   ],
   "source": [
    "# scikit-learn bootstrap\n",
    "from sklearn.utils import resample\n",
    "from multiprocessing import Process, Lock, cpu_count, active_children, Value\n",
    "import resource\n",
    "# data sample\n",
    "\n",
    "resample_train_cbn = []\n",
    "resample_test_cbn = []\n",
    "# prepare bootstrap sample\n",
    "for i in range(10,0,-1):\n",
    "    from sklearn.utils import resample\n",
    "    boot_uid = resample(uids, n_samples=int(uids.size * i / 10), random_state=1)\n",
    "    boot_iid = resample(iids, n_samples=int(iids.size * i / 10), random_state=1)\n",
    "#     print(boot_uid.size)\n",
    "    int_uid = []\n",
    "    int_iid = []\n",
    "    int_ratings = []\n",
    "    int_timestamps = []\n",
    "    \n",
    "    temp_sample = ratings_df[ratings_df['userId'].isin(boot_uid)]\n",
    "    final_sample = temp_sample[temp_sample['movieId'].isin(boot_iid)]\n",
    "    #print(final_sample)\n",
    "    int_uid = np.array([uid_map[uid] for uid in final_sample[\"userId\"].values ], dtype=np.int32)\n",
    "    int_iid = np.array([iid_map[iid] for iid in final_sample[\"movieId\"].values ], dtype=np.int32)\n",
    "    int_ratings = final_sample['rating'].values.astype(np.float32)\n",
    "    int_timestamps = final_sample['timestamp'].values.astype(np.int32)\n",
    "\n",
    "    dataset_boot = Interactions(user_ids=int_uid,item_ids=int_uid,ratings=int_ratings,timestamps=int_timestamps)\n",
    "    train, test = random_train_test_split(dataset_boot, test_percentage=0.2)\n",
    "    resample_train_cbn.append(train)\n",
    "    resample_test_cbn.append(test)\n",
    "#     print('---------------------')\n",
    "#     print(len(resample_train_cbn))\n",
    "#     print(len(resample_test_cbn))\n",
    "#     print('---------------------')\n",
    "\n",
    "def train_method(num_1,num_2):\n",
    "    print(num_1,num_2)\n",
    "    print(f\"PID is {os.getpid()}\")\n",
    "#     for line in open(\"/proc/%d/status\" % os.getpid()).readlines():\n",
    "#         print(line)\n",
    "# #         if line.startswith(\"State:\"):\n",
    "# #             return line.split(\":\",1)[1].strip().split(' ')[0]\n",
    "\n",
    "    model = ExplicitFactorizationModel(n_iter=1)\n",
    "    print(1)\n",
    "    intial_time =  resource.getrusage(resource.RUSAGE_SELF); \n",
    "    print(2)\n",
    "    print(resample_train_cbn[num_1])\n",
    "    model.fit(resample_train_cbn[num_1])\n",
    "    print(3)\n",
    "    final_time = resource.getrusage(resource.RUSAGE_SELF); \n",
    "    print(4)\n",
    "    overall_time_s = final_time.ru_stime - intial_time.ru_stime\n",
    "    overall_time_u = final_time.ru_utime - intial_time.ru_utime\n",
    "    print(5)\n",
    "    print(f\"This process‘s system running time is {overall_time_s}\")\n",
    "    print(f\"This process‘s user running time is {overall_time_u}\")\n",
    "    print(f\"Root Mean Squared Error is {rmse_score(model, resample_test_cbn[num_2])}\")\n",
    "#     print(f\"Root Mean Squared Error is {precision_recall_score(model, resample_test_cbn[num_2])}\")\n",
    "\n",
    "\n",
    "\n",
    "# train_method(0,0)\n",
    "\n",
    "if __name__ == '__main__':\n",
    "    \n",
    "    p10 = Process(target=train_method, args=(0,0,))\n",
    "    p9 = Process(target=train_method, args=(1,1,))\n",
    "    p8 = Process(target=train_method, args=(2,2,))\n",
    "    p7 = Process(target=train_method, args=(3,3,))\n",
    "    p6 = Process(target=train_method, args=(4,4,))\n",
    "    p5 = Process(target=train_method, args=(5,5,))\n",
    "    p4 = Process(target=train_method, args=(6,6,))\n",
    "    p3 = Process(target=train_method, args=(7,7,))\n",
    "    p2 = Process(target=train_method, args=(8,8,))\n",
    "    p1 = Process(target=train_method, args=(9,9,))\n",
    "    \n",
    "    p10.start()\n",
    "    p10.join()\n",
    "    p9.start()\n",
    "    p9.join()\n",
    "    p8.start()\n",
    "    p8.join()\n",
    "    p7.start()\n",
    "    p7.join()\n",
    "    p6.start()\n",
    "    p6.join()\n",
    "    p5.start()\n",
    "    p5.join()\n",
    "    p4.start()\n",
    "    p4.join()\n",
    "    p3.start()\n",
    "    p3.join()\n",
    "    p2.start()\n",
    "    p2.join()\n",
    "    p1.start()\n",
    "    p1.join()\n",
    "#     print(\"The number of CPU is:\" + str(cpu_count()))\n",
    "#     for p in active_children():\n",
    "#         print(\"child   p.name:\" + p.name + \"\\tp.id\" + str(p.pid))\n",
    "#     print (\"END!!!!!!!!!!!!!!!!!\")\n",
    "    \n",
    "# #     for num in range(10,0,-1):\n",
    "# #         Process(target=m, args=(lock, resample(i))).start()        \n"
   ]
  },
  {
   "cell_type": "markdown",
   "metadata": {},
   "source": [
    "##### def f(l, i):\n",
    "    l.acquire()\n",
    "    try:\n",
    "        print('hello world', i)\n",
    "    finally:\n",
    "        l.release()\n",
    "\n",
    "if __name__ == '__main__':\n",
    "    lock = Lock()\n",
    "\n",
    "    for num in range(10):\n",
    "        Process(target=f, args=(lock, num)).start()"
   ]
  },
  {
   "cell_type": "code",
   "execution_count": 31,
   "metadata": {},
   "outputs": [
    {
     "name": "stdout",
     "output_type": "stream",
     "text": [
      "main line\n",
      "module name: __main__\n",
      "parent process: 13043\n",
      "process id: 32672\n",
      "function f\n",
      "module name: __main__\n",
      "parent process: 32672\n",
      "process id: 42836\n",
      "hello bob\n"
     ]
    }
   ],
   "source": [
    "from multiprocessing import Process\n",
    "import os\n",
    "\n",
    "def info(title):\n",
    "    print(title)\n",
    "    print('module name:', __name__)\n",
    "    print('parent process:', os.getppid())\n",
    "    print('process id:', os.getpid())\n",
    "\n",
    "def f(name):\n",
    "    info('function f')\n",
    "    print('hello', name)\n",
    "\n",
    "if __name__ == '__main__':\n",
    "    info('main line')\n",
    "    p = Process(target=f, args=('bob',))\n",
    "    p.start()\n",
    "    p.join()"
   ]
  },
  {
   "cell_type": "code",
   "execution_count": null,
   "metadata": {},
   "outputs": [],
   "source": []
  }
 ],
 "metadata": {
  "kernelspec": {
   "display_name": "Python 3",
   "language": "python",
   "name": "python3"
  },
  "language_info": {
   "codemirror_mode": {
    "name": "ipython",
    "version": 3
   },
   "file_extension": ".py",
   "mimetype": "text/x-python",
   "name": "python",
   "nbconvert_exporter": "python",
   "pygments_lexer": "ipython3",
   "version": "3.6.10"
  }
 },
 "nbformat": 4,
 "nbformat_minor": 4
}
