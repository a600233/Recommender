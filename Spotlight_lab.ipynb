{
 "cells": [
  {
   "cell_type": "code",
   "execution_count": 1,
   "metadata": {},
   "outputs": [],
   "source": [
    "from spotlight.cross_validation import user_based_train_test_split\n",
    "from spotlight.datasets.movielens import get_movielens_dataset\n",
    "from spotlight.evaluation import rmse_score,mrr_score\n",
    "from spotlight.factorization.explicit import ExplicitFactorizationModel\n",
    "import pandas as pd\n",
    "import numpy as np"
   ]
  },
  {
   "cell_type": "code",
   "execution_count": 2,
   "metadata": {},
   "outputs": [],
   "source": [
    "ratings_df = pd.read_csv(\"ml-latest-small/ratings.csv\")\n",
    "movies_df = pd.read_csv(\"ml-latest-small/movies.csv\")\n",
    "\n",
    "from collections import defaultdict\n",
    "from itertools import count\n",
    "\n",
    "uid_map = defaultdict(count().__next__)\n",
    "iid_map = defaultdict(count().__next__)\n",
    "uids = np.array([uid_map[uid] for uid in ratings_df[\"userId\"].values ], dtype=np.int32)\n",
    "iids = np.array([iid_map[iid] for iid in ratings_df[\"movieId\"].values ], dtype=np.int32)\n",
    "\n",
    "\n",
    "uid_rev_map = {v: k for k, v in uid_map.items()}\n",
    "iid_rev_map = {v: k for k, v in iid_map.items()}\n",
    "\n",
    "\n",
    "ratings = ratings_df[\"rating\"].values.astype(np.float32)\n",
    "timestamps = ratings_df[\"timestamp\"].values.astype(np.int32)\n",
    "\n",
    "from spotlight.interactions import Interactions\n",
    "from spotlight.cross_validation import random_train_test_split\n",
    "\n",
    "dataset = Interactions(user_ids=uids,item_ids=iids,ratings=ratings,timestamps=timestamps)\n",
    "\n",
    "#lets initialise the seed, so that its repeatable and reproducible \n",
    "train, test = random_train_test_split(dataset, test_percentage=0.2)"
   ]
  },
  {
   "cell_type": "code",
   "execution_count": 3,
   "metadata": {},
   "outputs": [
    {
     "data": {
      "text/plain": [
       "<Interactions dataset (610 users x 9724 items x 100836 interactions)>"
      ]
     },
     "execution_count": 3,
     "metadata": {},
     "output_type": "execute_result"
    }
   ],
   "source": [
    "dataset"
   ]
  },
  {
   "cell_type": "code",
   "execution_count": 4,
   "metadata": {},
   "outputs": [
    {
     "data": {
      "text/plain": [
       "<Interactions dataset (610 users x 9724 items x 80668 interactions)>"
      ]
     },
     "execution_count": 4,
     "metadata": {},
     "output_type": "execute_result"
    }
   ],
   "source": [
    "train"
   ]
  },
  {
   "cell_type": "code",
   "execution_count": 5,
   "metadata": {},
   "outputs": [
    {
     "data": {
      "text/plain": [
       "<Interactions dataset (610 users x 9724 items x 20168 interactions)>"
      ]
     },
     "execution_count": 5,
     "metadata": {},
     "output_type": "execute_result"
    }
   ],
   "source": [
    "test"
   ]
  },
  {
   "cell_type": "code",
   "execution_count": 6,
   "metadata": {},
   "outputs": [
    {
     "name": "stdout",
     "output_type": "stream",
     "text": [
      "32672\n"
     ]
    }
   ],
   "source": [
    "import os\n",
    "print(os.getpid())"
   ]
  },
  {
   "cell_type": "code",
   "execution_count": 7,
   "metadata": {},
   "outputs": [
    {
     "name": "stdout",
     "output_type": "stream",
     "text": [
      "The total time is 1.6274809837341309 seconds\n"
     ]
    }
   ],
   "source": [
    "import tracemalloc\n",
    "import time\n",
    "\n",
    "\n",
    "#tracemalloc.start()\n",
    "model = ExplicitFactorizationModel(n_iter=1)\n",
    "intial_time = time.time()\n",
    "model.fit(train)\n",
    "#current, peak = tracemalloc.get_traced_memory()\n",
    "\n",
    "#print(f\"Inital memory usage was {current / 10**6} MB; Peak was {peak / 10**6} MB; and difference is {(peak / 10**6) - (current / 10**6)} MB\")\n",
    "print(f\"The total time is {time.time() - intial_time} seconds\")\n",
    "\n",
    "tracemalloc.stop()\n",
    "#snapshot2 = tracemalloc.take_snapshot()\n",
    "\n"
   ]
  },
  {
   "cell_type": "code",
   "execution_count": 8,
   "metadata": {},
   "outputs": [
    {
     "name": "stdout",
     "output_type": "stream",
     "text": [
      "[0.00149469 0.00293596 0.00552832 0.02825848 0.01294014 0.00291\n",
      " 0.00177999 0.00674725 0.00042859 0.00194213 0.00465982 0.0005546\n",
      " 0.00365638 0.01476467 0.0040806  0.00607912 0.01065221 0.00549679\n",
      " 0.00233565 0.00079771 0.01286626 0.00474011 0.00285476 0.00337315\n",
      " 0.01356511 0.00988751 0.00798483 0.00342383 0.02136483 0.01249201\n",
      " 0.00250898 0.06027369 0.03242608 0.00232583 0.00489063 0.0010737\n",
      " 0.0184407  0.00867079 0.00551542 0.00222378 0.00349359 0.00195821\n",
      " 0.00261093 0.00119576 0.0017784  0.01724447 0.00233991 0.00165049\n",
      " 0.00940531 0.00138367 0.00788025 0.00398061 0.00033625 0.0373317\n",
      " 0.00549767 0.0068645  0.00676805 0.04554592 0.00279413 0.00836734\n",
      " 0.00501916 0.00323296 0.00747208 0.00202073 0.00148829 0.00226674\n",
      " 0.00728674 0.00327035 0.00821485 0.02667511 0.00451104 0.01043765\n",
      " 0.00165912 0.00476526 0.00460975 0.01896416 0.02064956 0.02380907\n",
      " 0.00198673 0.00244884 0.04927164 0.00378383 0.00856758 0.00491849\n",
      " 0.00082303 0.00647357 0.00091164 0.00338996 0.00247942 0.000556\n",
      " 0.00523612 0.00118971 0.00157204 0.01345014 0.00132903 0.00149695\n",
      " 0.00404303 0.00348438 0.00146822 0.00134145 0.00209236 0.0315868\n",
      " 0.00466055 0.00152116 0.00216991 0.0024669  0.00209346 0.00062778\n",
      " 0.00408688 0.00334935 0.00092474 0.0030473  0.01057742 0.00111034\n",
      " 0.00369557 0.00496104 0.0037463  0.00271243 0.00463254 0.00234356\n",
      " 0.01182967 0.00307664 0.00553583 0.00292965 0.00357603 0.01393187\n",
      " 0.00771328 0.01075955 0.00441443 0.00190111 0.01254378 0.00313079\n",
      " 0.01927235 0.00153202 0.00164209 0.00103747 0.00402815 0.00063387\n",
      " 0.00275112 0.0014723  0.00398349 0.04693848 0.00106449 0.00437488\n",
      " 0.06449498 0.00079459 0.00331099 0.00330286 0.00452717 0.00901488\n",
      " 0.00251094 0.01079363 0.00134911 0.00427788 0.00128037 0.00482308\n",
      " 0.0348066  0.00055286 0.00173404 0.00215644 0.00283657 0.01951233\n",
      " 0.00126715 0.0152839  0.00430415 0.00464869 0.00338249 0.06187856\n",
      " 0.00102112 0.12695117 0.00344924 0.00233347 0.12381461 0.00975794\n",
      " 0.00038041 0.00932417 0.00429491 0.01406096 0.00505209 0.0684406\n",
      " 0.00586455 0.00170647 0.00643275 0.00241204 0.00371231 0.00487049\n",
      " 0.00272512 0.00290833 0.02877748 0.00227406 0.00511789 0.04331663\n",
      " 0.0055262  0.00806091 0.00648424 0.02731323 0.01700641 0.0257606\n",
      " 0.00301777 0.00158576 0.00431766 0.00599598 0.00381252 0.00100747\n",
      " 0.00292258 0.01374725 0.0007718  0.00226046 0.00330965 0.00350298\n",
      " 0.00795544 0.00314105 0.00191654 0.0026744  0.00487561 0.00468826\n",
      " 0.00362805 0.00046464 0.00469914 0.00271451 0.00543577 0.00136173\n",
      " 0.00628154 0.00572211 0.03275014 0.00259424 0.00365776 0.01217015\n",
      " 0.0749255  0.00126091 0.02816088 0.00132802 0.00784085 0.00086359\n",
      " 0.02895709 0.00507614 0.00940768 0.00107016 0.00527708 0.00207473\n",
      " 0.00313415 0.02047392 0.00775136 0.0063038  0.00148445 0.0143466\n",
      " 0.01326239 0.1065585  0.00635938 0.00138794 0.00799733 0.00849533\n",
      " 0.00245836 0.00511492 0.00354292 0.00199337 0.03177022 0.00715491\n",
      " 0.01218718 0.00586944 0.01381287 0.09275183 0.00525079 0.00318421\n",
      " 0.00177142 0.01173214 0.0099953  0.007516   0.00121719 0.00666223\n",
      " 0.001275   0.00315201 0.00088195 0.00178606 0.00231573 0.01236798\n",
      " 0.0005711  0.00049799 0.00834957 0.00227017 0.00146662 0.00450813\n",
      " 0.00698402 0.03187918 0.00389503 0.00339715 0.005063   0.00296681\n",
      " 0.00150701 0.00318213 0.0151732  0.00195399 0.00205131 0.00097062\n",
      " 0.01793086 0.01049581 0.00592291 0.00473115 0.00022915 0.00579864\n",
      " 0.0049102  0.00405957 0.00155538 0.00595779 0.00274893 0.00136633\n",
      " 0.00271764 0.00501274 0.00242216 0.00534215 0.00313682 0.00353367\n",
      " 0.00291859 0.0045162  0.00470253 0.01068675 0.00630395 0.00186212\n",
      " 0.0266881  0.00036741 0.00751976 0.00445754 0.00795706 0.00063727\n",
      " 0.00425258 0.00707575 0.00919828 0.0142234  0.04150779 0.00297489\n",
      " 0.00162679 0.00295234 0.01513744 0.00343828 0.02510619 0.00816166\n",
      " 0.00269919 0.03406346 0.0052377  0.03707834 0.00111445 0.00447189\n",
      " 0.00861816 0.0064197  0.00086087 0.00455323 0.02599334 0.00920199\n",
      " 0.0172674  0.0006581  0.00850926 0.00293034 0.00248075 0.00456166\n",
      " 0.00841989 0.00817029 0.00270204 0.00071903 0.00119095 0.00123247\n",
      " 0.00258225 0.02223853 0.00219204 0.00301376 0.00116289 0.00436395\n",
      " 0.00239502 0.00932493 0.00357903 0.00947986 0.00222114 0.00205677\n",
      " 0.00608011 0.00317052 0.00167726 0.00667079 0.00181791 0.00534872\n",
      " 0.037393   0.00172377 0.0015984  0.00192746 0.00091706 0.00250845\n",
      " 0.02176507 0.02442817 0.00369723 0.00407001 0.00278098 0.00328624\n",
      " 0.0062694  0.00075451 0.00294901 0.0491085  0.01657282 0.01098202\n",
      " 0.00118476 0.00270397 0.00882136 0.0271661  0.00365411 0.03989111\n",
      " 0.00252679 0.08472323 0.00372813 0.00072984 0.00846123 0.00220186\n",
      " 0.00586158 0.0025937  0.00517572 0.00889476 0.00864461 0.00122267\n",
      " 0.00510924 0.00435546 0.08866415 0.00220246 0.00197067 0.00228097\n",
      " 0.00270836 0.00222003 0.00664926 0.00178693 0.00371125 0.00467891\n",
      " 0.00097713 0.00875625 0.00581479 0.002532   0.00182077 0.02096657\n",
      " 0.0160907  0.00874872 0.00543368 0.00260866 0.00401382 0.00136214\n",
      " 0.01643687 0.00131666 0.00630171 0.00074726 0.00837602 0.01225908\n",
      " 0.0068032  0.06214008 0.01202659 0.00117332 0.01474859 0.00455171\n",
      " 0.00150539 0.00242578 0.00203755 0.00404841 0.04132004 0.00877907\n",
      " 0.0391415  0.00483269 0.00668844 0.00226474 0.00197144 0.00156189\n",
      " 0.00368544 0.00458442 0.00205796 0.00238592 0.00060204 0.0204302\n",
      " 0.0042689  0.03123905 0.00503393 0.00591316 0.00137161 0.00251016\n",
      " 0.00211011 0.01717753 0.00154938 0.00138939 0.00144983 0.00161386\n",
      " 0.0003809  0.00258474 0.0045768  0.00122099 0.02238759 0.01121642\n",
      " 0.00813174 0.00554051 0.00132376 0.00336838 0.00085957 0.00648724\n",
      " 0.00592717 0.08456561 0.00259361 0.01018922 0.01760368 0.0160395\n",
      " 0.00253849 0.00486149 0.00939837 0.00127458 0.00583971 0.0014035\n",
      " 0.0053864  0.00216222 0.00825951 0.00261517 0.00241267 0.00339675\n",
      " 0.00370878 0.01629123 0.00954285 0.00145847 0.00394366 0.01302852\n",
      " 0.00586144 0.00073573 0.00080733 0.00987056 0.01021153 0.00625918\n",
      " 0.00200508 0.00382701 0.00400599 0.00313302 0.0040846  0.00333886\n",
      " 0.0015933  0.03840485 0.03562146 0.00333373 0.00349904 0.00109809\n",
      " 0.00237343 0.00314641 0.00916738 0.00237283 0.00092757 0.00157719\n",
      " 0.0181726  0.00269443 0.03679393 0.00122351 0.0005605  0.0009462\n",
      " 0.00129914 0.00310737 0.02132198 0.00213521 0.0433812  0.00247629\n",
      " 0.00808934 0.00170774 0.00943042 0.00382321 0.01661305 0.00112548\n",
      " 0.0357423  0.00500896 0.0030418  0.00192026 0.00108154 0.00517484\n",
      " 0.02997351 0.00816198 0.01570742 0.00332016 0.00142382 0.00314778\n",
      " 0.00107924 0.00252536 0.00428711 0.04323639 0.00549622 0.00051262\n",
      " 0.00416154 0.00057183 0.00469625 0.00357488 0.0054568  0.0451776\n",
      " 0.01131811 0.01560954 0.01540289 0.00187689 0.00275989 0.00794095\n",
      " 0.01290563 0.00323546 0.00254087 0.00183774 0.00683693 0.00096228\n",
      " 0.00096486 0.00215303 0.00218102 0.0031181  0.00177722 0.00214204\n",
      " 0.00397451 0.01055933 0.00191762 0.00675942 0.0010815  0.00249794\n",
      " 0.00415066 0.0018387  0.02344578 0.00293625]\n",
      "32672\n",
      "The total time is 1.1508841514587402 seconds\n"
     ]
    }
   ],
   "source": [
    "#tracemalloc.start()\n",
    "intial_time = time.time()\n",
    "print(mrr_score(model, test))\n",
    "#current, peak = tracemalloc.get_traced_memory()\n",
    "print(os.getpid())\n",
    "#print(f\"Inital memory usage was {current / 10**6} MB; Peak was {peak / 10**6} MB; and difference is {(peak / 10**6) - (current / 10**6)} MB\")\n",
    "print(f\"The total time is {time.time() - intial_time} seconds\")\n"
   ]
  },
  {
   "cell_type": "code",
   "execution_count": 9,
   "metadata": {},
   "outputs": [
    {
     "name": "stdout",
     "output_type": "stream",
     "text": [
      "Root Mean Squared Error is 1.0775507688522339\n",
      "Inital memory usage was 0.004554 MB; Peak was 0.40782 MB; and difference is 0.403266 MB\n",
      "The total time is 0.005848884582519531 seconds\n"
     ]
    }
   ],
   "source": [
    "tracemalloc.start()\n",
    "\n",
    "\n",
    "tracemalloc.start()\n",
    "intial_time = time.time()\n",
    "print(f\"Root Mean Squared Error is {rmse_score(model, test)}\")\n",
    "current, peak = tracemalloc.get_traced_memory()\n",
    "\n",
    "print(f\"Inital memory usage was {current / 10**6} MB; Peak was {peak / 10**6} MB; and difference is {(peak / 10**6) - (current / 10**6)} MB\")\n",
    "print(f\"The total time is {time.time() - intial_time} seconds\")"
   ]
  },
  {
   "cell_type": "code",
   "execution_count": 18,
   "metadata": {},
   "outputs": [
    {
     "name": "stdout",
     "output_type": "stream",
     "text": [
      "100836\n",
      "70786\n",
      "70786\n",
      "70786\n",
      "70786\n",
      "Root Mean Squared Error is 1.015019178390503\n",
      "90752\n",
      "70075\n",
      "70075\n",
      "70075\n",
      "70075\n",
      "Root Mean Squared Error is 1.0068771839141846\n",
      "80668\n",
      "69089\n",
      "69089\n",
      "69089\n",
      "69089\n",
      "Root Mean Squared Error is 1.006486177444458\n",
      "70585\n",
      "67825\n",
      "67825\n",
      "67825\n",
      "67825\n",
      "Root Mean Squared Error is 1.0052525997161865\n",
      "60501\n",
      "66297\n",
      "66297\n",
      "66297\n",
      "66297\n",
      "Root Mean Squared Error is 1.0281777381896973\n",
      "50418\n",
      "64091\n",
      "64091\n",
      "64091\n",
      "64091\n",
      "Root Mean Squared Error is 1.0139468908309937\n",
      "40334\n",
      "61139\n",
      "61139\n",
      "61139\n",
      "61139\n",
      "Root Mean Squared Error is 1.007400393486023\n",
      "30250\n",
      "57361\n",
      "57361\n",
      "57361\n",
      "57361\n",
      "Root Mean Squared Error is 1.0117002725601196\n",
      "20167\n",
      "51564\n",
      "51564\n",
      "51564\n",
      "51564\n",
      "Root Mean Squared Error is 1.0206834077835083\n",
      "10083\n",
      "41689\n",
      "41689\n",
      "41689\n",
      "41689\n",
      "Root Mean Squared Error is 1.010080099105835\n"
     ]
    }
   ],
   "source": [
    "# scikit-learn bootstrap\n",
    "from sklearn.utils import resample\n",
    "# data sample\n",
    "\n",
    "# prepare bootstrap sample\n",
    "for i in range(10,0,-1):\n",
    "    boot_uid = resample(uids, n_samples=int(uids.size * i /10), random_state=1)\n",
    "    boot_iid = resample(iids, n_samples=int(iids.size * i /10), random_state=1)\n",
    "    print(boot_uid.size)\n",
    "    int_uid = []\n",
    "    int_iid = []\n",
    "    int_ratings = []\n",
    "    int_timestamps = []\n",
    "    \n",
    "    temp_sample = ratings_df[ratings_df['userId'].isin(boot_uid)]\n",
    "    final_sample = temp_sample[temp_sample['movieId'].isin(boot_iid)]\n",
    "    #print(final_sample)\n",
    "    int_uid = np.array([uid_map[uid] for uid in final_sample[\"userId\"].values ], dtype=np.int32)\n",
    "    int_iid = np.array([iid_map[iid] for iid in final_sample[\"movieId\"].values ], dtype=np.int32)\n",
    "    int_ratings = final_sample['rating'].values.astype(np.float32)\n",
    "    int_timestamps = final_sample['timestamp'].values.astype(np.int32)\n",
    "\n",
    "    #boot_ratings = resample(ratings, n_samples=int(ratings.size * i /10), random_state=1)\n",
    "    #boot_timestamps = resample(timestamps,n_samples=int(timestamps.size * i /10), random_state=1)\n",
    "    #print(boot_ratings.size)\n",
    "    dataset_boot = Interactions(user_ids=int_uid,item_ids=int_uid,ratings=int_ratings,timestamps=int_timestamps)\n",
    "\n",
    "    #lets initialise the seed, so that its repeatable and reproducible \n",
    "    train, test = random_train_test_split(dataset_boot, test_percentage=0.2)\n",
    "    #tracemalloc.start()\n",
    "    model = ExplicitFactorizationModel(n_iter=1)\n",
    "    #intial_time = time.time()\n",
    "    model.fit(train)\n",
    "    print(f\"Root Mean Squared Error is {rmse_score(model, test)}\")\n",
    "    #current, peak = tracemalloc.get_traced_memory()\n",
    "\n",
    "    #tracemalloc.stop()\n",
    "'''                           \n",
    "    for rt in ratings_df['rating']:\n",
    "        for rt_u in ratings_df.loc[ratings_df['rating'] == rt]['userId']:           \n",
    "            if uid_map[rt_u] in boot_uid:\n",
    "                abc = ratings_df[(ratings_df['rating'] == rt) & (ratings_df['userId'] == rt_u)]\n",
    "                for a in abc['movieId']:\n",
    "                    if iid_map[a] in boot_iid:\n",
    "                        int_iid.append(uid_map[rt_u])\n",
    "                        int_uid.append(iid_map[a])\n",
    "                        int_ratings.append(rt)\n",
    "                        int_timestamps.append(ratings_df[(ratings_df['movieId'] == a) & (ratings_df['userId'] == rt_u)]['timestamp'].values)\n",
    "    \n",
    "'''  "
   ]
  },
  {
   "cell_type": "code",
   "execution_count": null,
   "metadata": {},
   "outputs": [],
   "source": []
  },
  {
   "cell_type": "code",
   "execution_count": null,
   "metadata": {},
   "outputs": [],
   "source": []
  }
 ],
 "metadata": {
  "kernelspec": {
   "display_name": "Python 3",
   "language": "python",
   "name": "python3"
  },
  "language_info": {
   "codemirror_mode": {
    "name": "ipython",
    "version": 3
   },
   "file_extension": ".py",
   "mimetype": "text/x-python",
   "name": "python",
   "nbconvert_exporter": "python",
   "pygments_lexer": "ipython3",
   "version": "3.6.10"
  }
 },
 "nbformat": 4,
 "nbformat_minor": 4
}
