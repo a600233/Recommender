{
 "cells": [
  {
   "cell_type": "code",
   "execution_count": 2,
   "metadata": {},
   "outputs": [],
   "source": [
    "from spotlight.cross_validation import user_based_train_test_split\n",
    "from spotlight.datasets.movielens import get_movielens_dataset\n",
    "from spotlight.evaluation import rmse_score,mrr_score\n",
    "from spotlight.factorization.explicit import ExplicitFactorizationModel\n",
    "import pandas as pd\n",
    "import numpy as np"
   ]
  },
  {
   "cell_type": "code",
   "execution_count": 3,
   "metadata": {},
   "outputs": [],
   "source": [
    "ratings_df = pd.read_csv(\"ml-latest-small/ratings.csv\")\n",
    "movies_df = pd.read_csv(\"ml-latest-small/movies.csv\")\n",
    "\n",
    "from collections import defaultdict\n",
    "from itertools import count\n",
    "\n",
    "uid_map = defaultdict(count().__next__)\n",
    "iid_map = defaultdict(count().__next__)\n",
    "uids = np.array([uid_map[uid] for uid in ratings_df[\"userId\"].values ], dtype=np.int32)\n",
    "iids = np.array([iid_map[iid] for iid in ratings_df[\"movieId\"].values ], dtype=np.int32)\n",
    "\n",
    "uid_rev_map = {v: k for k, v in uid_map.items()}\n",
    "iid_rev_map = {v: k for k, v in iid_map.items()}\n",
    "\n",
    "ratings = ratings_df[\"rating\"].values.astype(np.float32)\n",
    "timestamps = ratings_df[\"timestamp\"].values.astype(np.int32)\n",
    "\n",
    "from spotlight.interactions import Interactions\n",
    "from spotlight.cross_validation import random_train_test_split\n",
    "\n",
    "dataset = Interactions(user_ids=uids,item_ids=iids,ratings=ratings,timestamps=timestamps)\n",
    "\n",
    "#lets initialise the seed, so that its repeatable and reproducible \n",
    "train, test = random_train_test_split(dataset, test_percentage=0.2)"
   ]
  },
  {
   "cell_type": "code",
   "execution_count": 4,
   "metadata": {},
   "outputs": [
    {
     "data": {
      "text/plain": [
       "<Interactions dataset (610 users x 9724 items x 100836 interactions)>"
      ]
     },
     "execution_count": 4,
     "metadata": {},
     "output_type": "execute_result"
    }
   ],
   "source": [
    "dataset"
   ]
  },
  {
   "cell_type": "code",
   "execution_count": 5,
   "metadata": {},
   "outputs": [
    {
     "data": {
      "text/plain": [
       "<Interactions dataset (610 users x 9724 items x 80668 interactions)>"
      ]
     },
     "execution_count": 5,
     "metadata": {},
     "output_type": "execute_result"
    }
   ],
   "source": [
    "train"
   ]
  },
  {
   "cell_type": "code",
   "execution_count": 6,
   "metadata": {},
   "outputs": [
    {
     "data": {
      "text/plain": [
       "<Interactions dataset (610 users x 9724 items x 20168 interactions)>"
      ]
     },
     "execution_count": 6,
     "metadata": {},
     "output_type": "execute_result"
    }
   ],
   "source": [
    "test"
   ]
  },
  {
   "cell_type": "code",
   "execution_count": 11,
   "metadata": {},
   "outputs": [
    {
     "name": "stdout",
     "output_type": "stream",
     "text": [
      "9227\n",
      "The total time is 1.6393001079559326 seconds\n"
     ]
    }
   ],
   "source": [
    "import tracemalloc\n",
    "import time\n",
    "import os\n",
    "\n",
    "#tracemalloc.start()\n",
    "model = ExplicitFactorizationModel(n_iter=1)\n",
    "intial_time = time.time()\n",
    "model.fit(train)\n",
    "print(os.getpid())\n",
    "#current, peak = tracemalloc.get_traced_memory()\n",
    "\n",
    "#print(f\"Inital memory usage was {current / 10**6} MB; Peak was {peak / 10**6} MB; and difference is {(peak / 10**6) - (current / 10**6)} MB\")\n",
    "print(f\"The total time is {time.time() - intial_time} seconds\")\n",
    "\n",
    "tracemalloc.stop()\n",
    "#snapshot2 = tracemalloc.take_snapshot()\n",
    "\n"
   ]
  },
  {
   "cell_type": "code",
   "execution_count": 12,
   "metadata": {},
   "outputs": [
    {
     "name": "stdout",
     "output_type": "stream",
     "text": [
      "[0.00247671 0.00242271 0.00587621 0.00228246 0.00164699 0.01115478\n",
      " 0.00174852 0.00121318 0.00119517 0.00216478 0.00129948 0.0006183\n",
      " 0.00391502 0.0263584  0.00329953 0.00682065 0.00693016 0.00321453\n",
      " 0.00215898 0.00169433 0.00183556 0.00129561 0.00485761 0.00617322\n",
      " 0.00140934 0.01665389 0.00179248 0.00300038 0.00440654 0.00533252\n",
      " 0.00393849 0.01176139 0.00080705 0.00120293 0.00126557 0.01214294\n",
      " 0.01022836 0.00688377 0.00331988 0.00219459 0.02176536 0.0019942\n",
      " 0.0015548  0.00074852 0.00159995 0.00808627 0.00353831 0.00072761\n",
      " 0.00453489 0.00247076 0.00275994 0.0017203  0.00409867 0.01267394\n",
      " 0.00182878 0.0079901  0.00228664 0.00108938 0.00262628 0.00388569\n",
      " 0.00894646 0.00226638 0.00262709 0.00249913 0.00960774 0.00199753\n",
      " 0.00201868 0.00186864 0.00124158 0.03238183 0.00145747 0.00343245\n",
      " 0.0031011  0.0049707  0.0008534  0.0467567  0.00465864 0.03240914\n",
      " 0.01101847 0.00171276 0.00422233 0.00124108 0.00610529 0.0031684\n",
      " 0.00251295 0.00150024 0.00813595 0.01710885 0.00211541 0.05602939\n",
      " 0.00227282 0.00216446 0.00111669 0.0022763  0.00128726 0.00283933\n",
      " 0.00279587 0.00368052 0.00039293 0.00105626 0.00101083 0.09191228\n",
      " 0.0053752  0.00179477 0.00203847 0.00168657 0.00263011 0.0019052\n",
      " 0.01485836 0.00461021 0.00404707 0.00380829 0.00164252 0.00235592\n",
      " 0.0024225  0.00346029 0.00643959 0.00944012 0.0029159  0.00304489\n",
      " 0.00509649 0.00144227 0.00395169 0.00333522 0.00286152 0.03478092\n",
      " 0.00103167 0.00155639 0.00337694 0.0081176  0.00462175 0.00495297\n",
      " 0.0035102  0.00606827 0.00182788 0.00202394 0.00484125 0.00316205\n",
      " 0.001602   0.00204681 0.0140676  0.01165125 0.00137455 0.00204364\n",
      " 0.00307663 0.00038447 0.00180058 0.00819329 0.00116716 0.00067396\n",
      " 0.0005945  0.00418337 0.01101075 0.00259337 0.0005673  0.00203353\n",
      " 0.00234401 0.00098722 0.00206032 0.00105176 0.00689862 0.0052781\n",
      " 0.00543313 0.00171292 0.00165337 0.0041025  0.00251167 0.00374849\n",
      " 0.00088263 0.00263041 0.00992546 0.00271067 0.00152525 0.00609432\n",
      " 0.00032369 0.0068199  0.0071192  0.0041293  0.00717392 0.00657999\n",
      " 0.00220716 0.00308027 0.00166059 0.00334386 0.00131081 0.00315826\n",
      " 0.00617219 0.00070362 0.00930974 0.00411007 0.00532608 0.0301274\n",
      " 0.00956338 0.00179087 0.01337684 0.00430751 0.00111422 0.00483329\n",
      " 0.00334252 0.00352448 0.0012749  0.0050111  0.00139878 0.00236857\n",
      " 0.00266033 0.00223163 0.00848662 0.00056483 0.03700587 0.00123733\n",
      " 0.00392228 0.00984848 0.00101207 0.00164968 0.00200303 0.00798916\n",
      " 0.00140234 0.00609273 0.00296955 0.00251442 0.0021225  0.00430298\n",
      " 0.00161812 0.00160251 0.0012745  0.0048197  0.00787615 0.00898223\n",
      " 0.00272309 0.00112859 0.00697212 0.00143164 0.00589324 0.00080235\n",
      " 0.00872026 0.01134984 0.00095581 0.00125671 0.0028341  0.00165194\n",
      " 0.00370652 0.00279255 0.00165034 0.00137955 0.023912   0.00125693\n",
      " 0.00624997 0.00291096 0.00184373 0.00129837 0.02971518 0.00237299\n",
      " 0.00302415 0.00282171 0.003174   0.00124355 0.00299298 0.00225223\n",
      " 0.00051015 0.00135817 0.00898357 0.00136976 0.0024428  0.00128359\n",
      " 0.00406901 0.00228947 0.00324819 0.00118928 0.00431312 0.00226553\n",
      " 0.00096109 0.00947331 0.00156282 0.00215104 0.00677974 0.00204546\n",
      " 0.00049052 0.00160479 0.00243222 0.00085225 0.00355639 0.00323829\n",
      " 0.00088785 0.00082988 0.00290137 0.0019274  0.00663058 0.00244735\n",
      " 0.00187395 0.00351714 0.00219172 0.00292255 0.0006955  0.00169427\n",
      " 0.0538128  0.0100137  0.00538164 0.00167104 0.0013499  0.01404636\n",
      " 0.00277893 0.00522601 0.00088572 0.00239518 0.00145525 0.04514811\n",
      " 0.00472157 0.00292063 0.00260065 0.01557153 0.00113925 0.00159801\n",
      " 0.00248913 0.00294199 0.00719557 0.00111667 0.00215574 0.00158204\n",
      " 0.01324345 0.00104045 0.01212066 0.00894754 0.00120444 0.00323751\n",
      " 0.00294584 0.00223158 0.00778546 0.00424801 0.00154856 0.00330916\n",
      " 0.00190487 0.00225478 0.00431241 0.00278161 0.04301679 0.00514739\n",
      " 0.00219064 0.00821331 0.0023182  0.0014542  0.00060468 0.00425244\n",
      " 0.0154395  0.00518867 0.0006546  0.00399286 0.03149598 0.00493311\n",
      " 0.00186278 0.00139588 0.00367471 0.00334477 0.01371387 0.0049687\n",
      " 0.00095518 0.00383389 0.00188746 0.00091658 0.0019062  0.00056956\n",
      " 0.00290375 0.00204099 0.00369255 0.00087412 0.00341412 0.00176838\n",
      " 0.0018575  0.0017614  0.0031052  0.00787748 0.00423511 0.00300436\n",
      " 0.00318798 0.01656861 0.00222124 0.00299682 0.00187765 0.0026791\n",
      " 0.1443576  0.00182242 0.00186696 0.00494689 0.00170575 0.00182964\n",
      " 0.00288539 0.00338275 0.00248766 0.00055531 0.00361258 0.00157756\n",
      " 0.00275019 0.00057969 0.00450791 0.01590489 0.00521236 0.02513474\n",
      " 0.00086286 0.00222673 0.00387946 0.00603505 0.00239086 0.00377349\n",
      " 0.00367745 0.00684968 0.00303327 0.00068724 0.00578728 0.00497017\n",
      " 0.00324061 0.00162026 0.00799442 0.00219866 0.00155914 0.00254888\n",
      " 0.00264022 0.00435011 0.01206632 0.00518904 0.00326948 0.0019386\n",
      " 0.00518562 0.00315295 0.00096479 0.00333038 0.00283245 0.00227024\n",
      " 0.00150231 0.00336455 0.0054493  0.00143448 0.05602675 0.00443943\n",
      " 0.0029565  0.00367313 0.00348821 0.0015423  0.00380463 0.00153766\n",
      " 0.00266703 0.00117561 0.00795271 0.00082027 0.00103537 0.02300748\n",
      " 0.0107376  0.00226723 0.01510715 0.00164079 0.0004625  0.00347495\n",
      " 0.00085856 0.00216808 0.00151464 0.00172731 0.04956924 0.00052353\n",
      " 0.00131951 0.00130575 0.00661147 0.00212823 0.00499187 0.00305687\n",
      " 0.00110105 0.00144742 0.00248006 0.00320715 0.00266964 0.00996914\n",
      " 0.00461634 0.05572651 0.00537595 0.00417649 0.00294118 0.002656\n",
      " 0.00197827 0.00149227 0.0016588  0.0008637  0.004468   0.00213026\n",
      " 0.00076593 0.00121112 0.00369007 0.00183813 0.07819704 0.00155618\n",
      " 0.00670394 0.01406973 0.00168555 0.00589967 0.07292196 0.00054588\n",
      " 0.00223346 0.00543995 0.00202818 0.0040168  0.0039556  0.00352013\n",
      " 0.00077331 0.07884435 0.00339504 0.00657308 0.00697253 0.00152954\n",
      " 0.00165487 0.00200305 0.02092974 0.00070444 0.00228309 0.00347734\n",
      " 0.00094204 0.00249191 0.00176954 0.00321667 0.00358137 0.00080688\n",
      " 0.00375988 0.00100869 0.00118844 0.00097375 0.00158028 0.00330955\n",
      " 0.00250211 0.00109312 0.00694415 0.00180043 0.00250837 0.00177167\n",
      " 0.00480855 0.00117766 0.00283681 0.00644603 0.00414433 0.00105488\n",
      " 0.002345   0.00203943 0.0030621  0.00291947 0.00219308 0.00383696\n",
      " 0.00709899 0.00572573 0.00381962 0.00310598 0.00348279 0.0003296\n",
      " 0.0024118  0.00251604 0.08830176 0.00232783 0.00184697 0.00183762\n",
      " 0.00231251 0.00473822 0.01046554 0.00151295 0.00109617 0.00109901\n",
      " 0.00455694 0.00303639 0.00701394 0.00185622 0.00086104 0.00354985\n",
      " 0.0012764  0.00138988 0.00271267 0.00579307 0.10034554 0.00338871\n",
      " 0.014758   0.00256795 0.00717902 0.06877454 0.00099491 0.00050964\n",
      " 0.00121638 0.00035197 0.00051949 0.00283513 0.0028889  0.00383305\n",
      " 0.00091775 0.00237822 0.00465014 0.00201799 0.00234719 0.00857866\n",
      " 0.0092948  0.00237374 0.00116334 0.01010739 0.00331053 0.00078787\n",
      " 0.00085689 0.00201654 0.00383507 0.00044167 0.00278724 0.00292454\n",
      " 0.00306725 0.00253073 0.00404556 0.00135316 0.0060218  0.0029395\n",
      " 0.00312954 0.0021227  0.00150825 0.00144432]\n",
      "9227\n",
      "The total time is 1.1425960063934326 seconds\n"
     ]
    }
   ],
   "source": [
    "#tracemalloc.start()\n",
    "intial_time = time.time()\n",
    "print(mrr_score(model, test))\n",
    "#current, peak = tracemalloc.get_traced_memory()\n",
    "print(os.getpid())\n",
    "#print(f\"Inital memory usage was {current / 10**6} MB; Peak was {peak / 10**6} MB; and difference is {(peak / 10**6) - (current / 10**6)} MB\")\n",
    "print(f\"The total time is {time.time() - intial_time} seconds\")\n"
   ]
  },
  {
   "cell_type": "code",
   "execution_count": 106,
   "metadata": {},
   "outputs": [
    {
     "name": "stdout",
     "output_type": "stream",
     "text": [
      "Root Mean Squared Error is 1.08253812789917\n",
      "Inital memory usage was 0.076533 MB; Peak was 0.859552 MB; and difference is 0.783019 MB\n",
      "The total time is 0.008342981338500977 seconds\n"
     ]
    }
   ],
   "source": [
    "tracemalloc.start()\n",
    "\n",
    "\n",
    "tracemalloc.start()\n",
    "intial_time = time.time()\n",
    "print(f\"Root Mean Squared Error is {rmse_score(model, test)}\")\n",
    "current, peak = tracemalloc.get_traced_memory()\n",
    "\n",
    "print(f\"Inital memory usage was {current / 10**6} MB; Peak was {peak / 10**6} MB; and difference is {(peak / 10**6) - (current / 10**6)} MB\")\n",
    "print(f\"The total time is {time.time() - intial_time} seconds\")"
   ]
  },
  {
   "cell_type": "code",
   "execution_count": 147,
   "metadata": {},
   "outputs": [
    {
     "name": "stdout",
     "output_type": "stream",
     "text": [
      "90752\n",
      "Root Mean Squared Error is 1.011805772781372\n",
      "Root Mean Squared Error is 1.0614092350006104\n",
      "Root Mean Squared Error is 1.110275149345398\n",
      "Root Mean Squared Error is 1.218490481376648\n",
      "Root Mean Squared Error is 1.3490108251571655\n",
      "Root Mean Squared Error is 1.6921112537384033\n",
      "Root Mean Squared Error is 2.150165319442749\n",
      "Root Mean Squared Error is 2.9755358695983887\n",
      "Root Mean Squared Error is 3.3968894481658936\n"
     ]
    }
   ],
   "source": [
    "# scikit-learn bootstrap\n",
    "from sklearn.utils import resample\n",
    "# data sample\n",
    "\n",
    "\n",
    "boot_uid = resample(uids, replace=True, n_samples=int(uids.size * i /10), random_state=1)\n",
    "print(boot_uid.size)\n",
    "\n",
    "\n",
    "# prepare bootstrap sample\n",
    "for i in range(9,0,-1):\n",
    "    boot_uid = resample(uids, replace=True, n_samples=int(uids.size * i /10), random_state=1)\n",
    "    boot_iid = resample(iids, replace=True, n_samples=int(uids.size * i /10), random_state=1)\n",
    "    boot_ratings = resample(ratings, replace=True, n_samples=int(uids.size * i /10), random_state=1)\n",
    "    boot_timestamps = resample(timestamps, replace=True, n_samples=int(uids.size * i /10), random_state=1)\n",
    "    dataset_boot = Interactions(user_ids=boot_uid,item_ids=boot_iid,ratings=boot_ratings,timestamps=boot_timestamps)\n",
    "\n",
    "    #lets initialise the seed, so that its repeatable and reproducible \n",
    "    train, test = random_train_test_split(dataset_boot, test_percentage=0.2)\n",
    "    #tracemalloc.start()\n",
    "    model = ExplicitFactorizationModel(n_iter=1)\n",
    "    #intial_time = time.time()\n",
    "    model.fit(train)\n",
    "    print(f\"Root Mean Squared Error is {rmse_score(model, test)}\")\n",
    "    #current, peak = tracemalloc.get_traced_memory()\n",
    "\n",
    "    #print(f\"Inital memory usage was {current / 10**6} MB; Peak was {peak / 10**6} MB; and difference is {(peak / 10**6) - (current / 10**6)} MB\")\n",
    "    #print(f\"The total time is {time.time() - intial_time} seconds\")\n",
    "\n",
    "    #tracemalloc.stop()\n",
    "\n",
    "\n",
    "    \n",
    "    \n",
    "\n",
    "\n",
    "\n",
    "\n"
   ]
  },
  {
   "cell_type": "code",
   "execution_count": null,
   "metadata": {},
   "outputs": [],
   "source": []
  },
  {
   "cell_type": "code",
   "execution_count": null,
   "metadata": {},
   "outputs": [],
   "source": []
  }
 ],
 "metadata": {
  "kernelspec": {
   "display_name": "Python 3",
   "language": "python",
   "name": "python3"
  },
  "language_info": {
   "codemirror_mode": {
    "name": "ipython",
    "version": 3
   },
   "file_extension": ".py",
   "mimetype": "text/x-python",
   "name": "python",
   "nbconvert_exporter": "python",
   "pygments_lexer": "ipython3",
   "version": "3.6.10"
  }
 },
 "nbformat": 4,
 "nbformat_minor": 4
}
