{
 "cells": [
  {
   "cell_type": "code",
   "execution_count": 1,
   "metadata": {},
   "outputs": [],
   "source": [
    "from spotlight.cross_validation import user_based_train_test_split\n",
    "from spotlight.datasets.movielens import get_movielens_dataset\n",
    "from spotlight.evaluation import rmse_score,mrr_score,precision_recall_score\n",
    "from spotlight.factorization.explicit import ExplicitFactorizationModel\n",
    "import pandas as pd\n",
    "import numpy as np\n",
    "import os\n"
   ]
  },
  {
   "cell_type": "code",
   "execution_count": 2,
   "metadata": {},
   "outputs": [],
   "source": [
    "ratings_df = pd.read_csv(\"ml-latest-small/ratings.csv\")\n",
    "movies_df = pd.read_csv(\"ml-latest-small/movies.csv\")\n",
    "\n",
    "from collections import defaultdict\n",
    "from itertools import count\n",
    "\n",
    "uid_map = defaultdict(count().__next__)\n",
    "iid_map = defaultdict(count().__next__)\n",
    "uids = np.array([uid_map[uid] for uid in ratings_df[\"userId\"].values ], dtype=np.int32)\n",
    "iids = np.array([iid_map[iid] for iid in ratings_df[\"movieId\"].values ], dtype=np.int32)\n",
    "\n",
    "\n",
    "uid_rev_map = {v: k for k, v in uid_map.items()}\n",
    "iid_rev_map = {v: k for k, v in iid_map.items()}\n",
    "\n",
    "\n",
    "ratings = ratings_df[\"rating\"].values.astype(np.float32)\n",
    "timestamps = ratings_df[\"timestamp\"].values.astype(np.int32)\n",
    "\n",
    "from spotlight.interactions import Interactions\n",
    "from spotlight.cross_validation import random_train_test_split\n",
    "\n",
    "dataset = Interactions(user_ids=uids,item_ids=iids,ratings=ratings,timestamps=timestamps)\n",
    "\n",
    "#lets initialise the seed, so that its repeatable and reproducible \n",
    "train, test = random_train_test_split(dataset, test_percentage=0.2)"
   ]
  },
  {
   "cell_type": "code",
   "execution_count": 3,
   "metadata": {},
   "outputs": [
    {
     "data": {
      "text/plain": [
       "<Interactions dataset (610 users x 9724 items x 100836 interactions)>"
      ]
     },
     "execution_count": 3,
     "metadata": {},
     "output_type": "execute_result"
    }
   ],
   "source": [
    "dataset"
   ]
  },
  {
   "cell_type": "code",
   "execution_count": 4,
   "metadata": {},
   "outputs": [
    {
     "data": {
      "text/plain": [
       "<Interactions dataset (610 users x 9724 items x 80668 interactions)>"
      ]
     },
     "execution_count": 4,
     "metadata": {},
     "output_type": "execute_result"
    }
   ],
   "source": [
    "train"
   ]
  },
  {
   "cell_type": "code",
   "execution_count": 5,
   "metadata": {},
   "outputs": [
    {
     "data": {
      "text/plain": [
       "<Interactions dataset (610 users x 9724 items x 20168 interactions)>"
      ]
     },
     "execution_count": 5,
     "metadata": {},
     "output_type": "execute_result"
    }
   ],
   "source": [
    "test"
   ]
  },
  {
   "cell_type": "code",
   "execution_count": 6,
   "metadata": {},
   "outputs": [
    {
     "name": "stdout",
     "output_type": "stream",
     "text": [
      "54187\n"
     ]
    }
   ],
   "source": [
    "import os\n",
    "print(os.getpid())"
   ]
  },
  {
   "cell_type": "code",
   "execution_count": 7,
   "metadata": {},
   "outputs": [
    {
     "name": "stdout",
     "output_type": "stream",
     "text": [
      "The total time is 1.728585958480835 seconds\n"
     ]
    }
   ],
   "source": [
    "import tracemalloc\n",
    "import time\n",
    "\n",
    "\n",
    "#tracemalloc.start()\n",
    "model = ExplicitFactorizationModel(n_iter=1)\n",
    "intial_time = time.time()\n",
    "model.fit(train)\n",
    "#current, peak = tracemalloc.get_traced_memory()\n",
    "\n",
    "#print(f\"Inital memory usage was {current / 10**6} MB; Peak was {peak / 10**6} MB; and difference is {(peak / 10**6) - (current / 10**6)} MB\")\n",
    "print(f\"The total time is {time.time() - intial_time} seconds\")\n",
    "\n",
    "tracemalloc.stop()\n",
    "#snapshot2 = tracemalloc.take_snapshot()\n",
    "\n"
   ]
  },
  {
   "cell_type": "code",
   "execution_count": 8,
   "metadata": {},
   "outputs": [
    {
     "name": "stdout",
     "output_type": "stream",
     "text": [
      "[1.88265619e-03 2.59680544e-03 3.62936963e-03 3.15752752e-03\n",
      " 7.96320300e-03 2.18093874e-03 1.50394559e-03 1.23412579e-03\n",
      " 2.28978259e-03 1.57991841e-03 1.30073256e-03 5.99576279e-04\n",
      " 1.63444048e-03 1.09141497e-02 2.81478823e-03 2.89648191e-03\n",
      " 4.74275587e-03 1.59781585e-03 4.38325917e-03 1.61170186e-03\n",
      " 1.81745418e-03 4.00764234e-03 2.31844663e-03 1.18219720e-03\n",
      " 8.83454658e-03 2.65955903e-03 1.63661180e-02 2.17161111e-03\n",
      " 4.07463621e-03 5.88832455e-03 1.87121297e-03 5.69184953e-03\n",
      " 2.91325884e-03 2.31502089e-03 2.46036255e-03 2.75726568e-03\n",
      " 5.61327019e-03 6.39249120e-03 2.05672317e-03 1.82746636e-03\n",
      " 1.36599608e-02 1.34281911e-03 3.21467441e-03 1.66659749e-03\n",
      " 5.21059185e-03 5.23341335e-03 2.90397364e-03 7.70463030e-03\n",
      " 6.94778413e-03 5.98426670e-03 1.96977883e-03 3.63156703e-03\n",
      " 2.83890985e-03 9.82676375e-04 1.27140658e-01 4.68734582e-03\n",
      " 3.09955459e-03 2.47552165e-03 1.57268503e-03 1.68971918e-03\n",
      " 1.04516287e-02 1.08273626e-02 2.94571868e-03 2.25298474e-03\n",
      " 2.85802521e-03 2.01833497e-03 3.97340696e-03 2.57286103e-03\n",
      " 6.16950644e-03 1.17800577e-02 4.26507852e-03 3.85359557e-03\n",
      " 4.44442707e-03 2.79993068e-03 1.58979057e-03 1.46775524e-02\n",
      " 4.06456876e-03 5.30333125e-03 2.00982982e-03 1.93604922e-02\n",
      " 7.92393027e-04 1.29345731e-03 6.83272846e-03 3.40991078e-03\n",
      " 7.06677399e-04 1.43124885e-03 2.56799145e-03 3.66671089e-03\n",
      " 7.12746749e-04 9.43055334e-03 3.07315272e-03 1.65620577e-03\n",
      " 3.49608618e-03 7.20527628e-03 1.80108144e-03 2.49938582e-03\n",
      " 3.53982957e-03 2.57547051e-03 1.67388899e-02 1.52014277e-03\n",
      " 9.42828925e-04 1.49078987e-02 1.61219795e-03 3.10760244e-03\n",
      " 2.74247050e-03 2.87151326e-03 9.38595335e-03 1.73583526e-03\n",
      " 1.40137030e-03 1.95376559e-03 3.96507095e-03 1.41687987e-03\n",
      " 1.99063908e-03 2.20059369e-03 1.07591915e-03 3.15900930e-03\n",
      " 1.49491714e-03 5.35714547e-03 2.38019686e-03 1.29230973e-03\n",
      " 4.51866218e-03 2.73350664e-03 1.91528090e-03 2.95747237e-03\n",
      " 1.75113106e-03 1.77026896e-01 1.13702042e-03 6.01271771e-03\n",
      " 2.26762801e-03 1.82959689e-02 2.86304098e-03 2.04287521e-03\n",
      " 1.58639564e-03 2.06246361e-03 1.86667181e-03 4.32777389e-03\n",
      " 3.36413539e-03 3.61925443e-04 2.26375570e-03 3.00945532e-03\n",
      " 3.06646511e-03 6.99700599e-03 3.92978935e-02 1.98317525e-03\n",
      " 1.64189113e-02 5.83881172e-04 4.21285661e-04 4.78886574e-03\n",
      " 3.11884487e-03 9.72654770e-04 8.64076352e-04 5.69513957e-03\n",
      " 6.49997458e-03 3.95671661e-03 9.21252648e-04 7.92041802e-03\n",
      " 1.72929065e-03 2.37501960e-04 4.36179173e-03 2.51147221e-03\n",
      " 7.65942897e-03 1.89841785e-03 1.62318897e-03 3.09091301e-03\n",
      " 2.54762072e-03 2.39786352e-03 2.59751169e-03 3.09709980e-03\n",
      " 3.47586307e-03 5.01680168e-03 2.35190634e-03 3.96973395e-03\n",
      " 8.58826696e-03 1.21283897e-02 5.05418038e-04 3.92985367e-03\n",
      " 9.68155959e-03 2.88743019e-03 1.56579624e-02 7.02001564e-03\n",
      " 1.78460749e-03 1.68685486e-03 2.89062217e-03 3.29972992e-02\n",
      " 4.26769895e-03 4.68606768e-03 4.35997085e-03 1.94877390e-03\n",
      " 1.56195803e-03 2.28237908e-03 1.51720712e-03 2.24274438e-03\n",
      " 2.36639493e-03 6.33717370e-04 3.79763439e-03 4.24486528e-03\n",
      " 3.07814875e-03 2.02428589e-03 3.49618997e-03 1.90921803e-03\n",
      " 1.15053241e-03 2.27341578e-03 1.83508226e-03 4.57333586e-03\n",
      " 4.96811831e-03 5.87363823e-03 1.06305759e-03 2.89049052e-03\n",
      " 1.66920219e-02 2.31231123e-03 3.13102379e-03 5.24062389e-03\n",
      " 7.41357857e-04 3.67803285e-03 2.91824350e-03 2.50890899e-03\n",
      " 2.55861491e-03 2.65476753e-03 2.77717048e-03 1.82779970e-03\n",
      " 5.28533261e-03 3.59974513e-03 4.07831995e-03 2.28792092e-03\n",
      " 1.97796377e-03 1.60455246e-03 4.47562273e-03 9.27737899e-04\n",
      " 1.34359479e-02 2.67006867e-03 1.25219443e-02 1.29861810e-03\n",
      " 3.31453363e-02 1.38483747e-03 1.47535528e-02 2.85431532e-03\n",
      " 1.00755845e-02 4.47206371e-04 3.25284849e-03 1.66889437e-03\n",
      " 4.69568446e-03 1.21695550e-02 1.16905746e-03 1.16521842e-03\n",
      " 3.82987111e-04 9.65912956e-03 4.79935037e-03 1.44058067e-03\n",
      " 2.49815779e-03 2.07655259e-03 2.68511730e-02 3.26766150e-02\n",
      " 2.49381361e-03 2.62559792e-03 1.57446758e-03 1.12860634e-03\n",
      " 9.82829721e-04 9.26281307e-03 1.08138683e-03 2.65244312e-03\n",
      " 8.43015545e-03 1.30332200e-02 9.33227493e-03 1.83598354e-03\n",
      " 1.31873338e-03 2.65079257e-03 2.02951825e-03 6.21853756e-03\n",
      " 2.49052896e-03 8.83028639e-04 5.52689267e-03 1.61360689e-02\n",
      " 1.41471132e-03 1.42477653e-03 2.03194908e-03 1.34365219e-03\n",
      " 3.55228616e-03 9.90099010e-04 4.87159168e-03 8.55708821e-04\n",
      " 1.30155248e-03 2.23582765e-03 4.08570115e-03 2.55973014e-03\n",
      " 2.95221527e-03 4.60351431e-03 2.95264090e-03 3.27480960e-03\n",
      " 2.15464001e-03 9.86353359e-03 1.89984466e-03 1.86439456e-03\n",
      " 4.95034805e-04 1.09554576e-03 1.75473101e-03 1.48612562e-03\n",
      " 1.81638248e-03 2.98593785e-03 2.43332909e-03 7.06248909e-03\n",
      " 6.18455460e-03 3.55930420e-03 1.11166297e-03 1.43298091e-03\n",
      " 2.36879886e-03 1.56659825e-03 3.30369553e-03 7.79718049e-03\n",
      " 2.84830755e-03 1.08766328e-03 5.65383278e-03 2.35102063e-03\n",
      " 2.59264636e-03 4.73845624e-03 3.39222111e-04 3.29987399e-03\n",
      " 1.04530210e-02 2.26546073e-03 1.72974385e-03 2.93548547e-03\n",
      " 4.49008162e-03 6.08753118e-03 3.93190739e-03 9.43276867e-04\n",
      " 2.17378921e-03 3.78135668e-03 3.41280723e-03 1.67444026e-02\n",
      " 1.35085063e-02 2.53605441e-03 1.74221183e-03 2.17794123e-03\n",
      " 5.13849058e-03 2.51701377e-03 2.37277459e-02 2.12143740e-03\n",
      " 2.13456528e-03 5.57300587e-03 5.73041067e-03 1.64719178e-03\n",
      " 2.46374050e-03 2.40624018e-03 7.87009357e-03 4.85339892e-03\n",
      " 1.47036670e-03 2.41819506e-03 3.49677977e-03 1.65677017e-02\n",
      " 5.11454108e-03 3.91685226e-03 2.36317853e-03 7.48167396e-03\n",
      " 3.88285819e-03 1.90720244e-03 6.08361318e-04 3.49147643e-03\n",
      " 2.40854270e-03 1.27516007e-03 6.43330084e-03 5.14482352e-04\n",
      " 9.72360375e-03 1.66461035e-03 2.65756114e-03 5.08838534e-04\n",
      " 1.53774133e-03 1.99801497e-03 1.61943218e-03 3.45425630e-03\n",
      " 3.51765756e-03 3.78800290e-03 1.62475737e-03 2.45719741e-03\n",
      " 3.32991962e-03 1.87727696e-03 1.10582492e-03 5.90600202e-03\n",
      " 9.25165942e-04 5.80262220e-03 1.31086872e-01 5.40054662e-03\n",
      " 3.45616149e-03 1.32313140e-03 5.09316038e-03 8.61065669e-04\n",
      " 3.34418891e-03 7.29794237e-04 3.60455681e-03 6.66052401e-04\n",
      " 1.33963290e-03 3.51224064e-03 2.34902975e-03 4.55102730e-04\n",
      " 3.38755550e-03 1.65865234e-02 1.38181386e-03 5.23023872e-03\n",
      " 4.67089953e-03 4.45830947e-03 2.40688313e-03 2.08225767e-03\n",
      " 2.66565054e-03 8.08548566e-03 7.49913429e-04 5.39811338e-03\n",
      " 3.92171504e-03 9.17776968e-04 3.82634794e-02 2.03209284e-03\n",
      " 3.25484672e-03 2.14836273e-03 1.17312131e-02 1.85031274e-03\n",
      " 1.14819353e-03 1.40980464e-03 7.51063628e-03 2.88184680e-03\n",
      " 2.94322220e-03 2.09933869e-03 2.73312092e-03 2.00928217e-03\n",
      " 9.74688007e-03 1.69968265e-03 1.06226449e-02 2.14478002e-03\n",
      " 2.65627853e-03 5.17604078e-03 1.36173088e-03 1.72590397e-03\n",
      " 1.35548346e-03 9.89486740e-04 4.38319742e-04 2.56649332e-03\n",
      " 1.06373161e-02 3.06442386e-03 1.16720521e-03 4.35298221e-03\n",
      " 9.16517539e-03 5.43298064e-03 5.42533381e-02 1.45516654e-03\n",
      " 4.80190391e-03 5.84327365e-04 5.49628612e-03 4.58198622e-03\n",
      " 3.75193915e-03 5.42338966e-03 2.42817728e-03 1.03728841e-03\n",
      " 3.44616668e-03 1.80393686e-03 1.22444110e-03 1.61472115e-03\n",
      " 1.51275203e-03 4.94019735e-03 5.11552719e-02 1.45554877e-03\n",
      " 1.86906049e-03 9.49889777e-03 2.25502023e-03 3.87248156e-03\n",
      " 4.24941296e-02 2.69496164e-03 8.26437771e-04 1.14149354e-03\n",
      " 7.96921346e-03 2.36614586e-03 4.18851072e-03 2.84685212e-03\n",
      " 2.64064665e-03 6.20952873e-03 2.75243094e-03 2.45544665e-03\n",
      " 1.38641163e-04 3.61263661e-03 3.09525028e-03 1.06977504e-02\n",
      " 2.17229755e-03 1.61827890e-03 1.02621713e-03 1.81209072e-03\n",
      " 3.13161142e-04 7.74944761e-04 1.83533742e-03 3.77805166e-03\n",
      " 1.70367756e-02 2.07005380e-03 1.05589876e-02 6.67822678e-03\n",
      " 2.21661815e-03 2.80464365e-03 1.40478973e-03 2.23480331e-03\n",
      " 5.59154163e-03 4.75101435e-03 3.28349441e-03 6.94803330e-03\n",
      " 5.66766232e-03 1.68964424e-02 5.17010086e-04 2.64337235e-03\n",
      " 8.59533586e-04 2.26073203e-03 2.67885910e-03 7.55316899e-03\n",
      " 1.62354356e-03 8.96027306e-04 4.38518218e-03 1.10514449e-03\n",
      " 6.17240658e-03 3.91069768e-03 2.26239380e-03 4.62414487e-03\n",
      " 2.13935320e-03 2.22390977e-03 2.13703399e-03 1.76844128e-03\n",
      " 2.66651553e-03 1.64603794e-03 5.53877299e-04 1.33955947e-03\n",
      " 1.98115499e-03 2.97578565e-03 2.89847987e-03 6.36430268e-03\n",
      " 4.31726852e-03 2.76881200e-03 5.33248114e-03 2.22387440e-03\n",
      " 5.40396761e-04 2.14405961e-03 2.87218242e-03 3.07598003e-03\n",
      " 9.77343751e-04 1.53660114e-03 9.07229306e-04 5.34573291e-03\n",
      " 6.57098799e-03 2.84448547e-03 1.05302046e-02 1.62372140e-03\n",
      " 3.94170153e-03 3.56681837e-03 8.97240287e-03 6.76676315e-03\n",
      " 1.91026510e-03 3.48315543e-04 2.02524295e-03 4.71675527e-04\n",
      " 7.45301076e-03 2.59695686e-03 1.59080914e-03 3.58348110e-03\n",
      " 2.68115164e-03 2.49071437e-03 8.49315207e-04 1.07479593e-03\n",
      " 4.78536727e-03 2.61487573e-03 1.80172739e-03 1.90900151e-03\n",
      " 3.29435223e-03 1.92526576e-03 1.64162146e-03 1.81900742e-03\n",
      " 1.97460974e-02 5.70165654e-03 1.09285164e-03 5.64771909e-03\n",
      " 1.86822218e-03 4.80840232e-03 4.06547455e-04 3.08363247e-02\n",
      " 1.99971870e-02 5.00000000e-02 1.47300504e-04 5.74747665e-04\n",
      " 2.64384058e-03 3.07634830e-04 1.06969588e-03 4.53591001e-03\n",
      " 8.41474640e-03 1.03447963e-02 2.98775455e-03 2.20456846e-03\n",
      " 3.21571128e-03 1.12456167e-02 3.56828283e-03 1.19726980e-03\n",
      " 1.20089385e-02 4.26335594e-03 4.49860934e-03 5.45097621e-03\n",
      " 3.44179809e-03 8.13605507e-04 2.36996109e-03 1.59244311e-03\n",
      " 2.21710199e-03 1.49992246e-03 1.07505506e-03 2.18111919e-03\n",
      " 4.77673435e-03 8.22180010e-03 3.19309490e-03 1.30256528e-03\n",
      " 1.44402611e-03 2.88519095e-03 3.20461988e-03 7.53133090e-03\n",
      " 2.25816612e-02 1.62350458e-03]\n",
      "54187\n",
      "The total time is 1.2190158367156982 seconds\n"
     ]
    }
   ],
   "source": [
    "#tracemalloc.start()\n",
    "intial_time = time.time()\n",
    "print(mrr_score(model, test))\n",
    "#current, peak = tracemalloc.get_traced_memory()\n",
    "print(os.getpid())\n",
    "#print(f\"Inital memory usage was {current / 10**6} MB; Peak was {peak / 10**6} MB; and difference is {(peak / 10**6) - (current / 10**6)} MB\")\n",
    "print(f\"The total time is {time.time() - intial_time} seconds\")\n"
   ]
  },
  {
   "cell_type": "code",
   "execution_count": 9,
   "metadata": {},
   "outputs": [
    {
     "name": "stdout",
     "output_type": "stream",
     "text": [
      "Root Mean Squared Error is 1.074101448059082\n",
      "Inital memory usage was 0.004577 MB; Peak was 0.407844 MB; and difference is 0.403267 MB\n",
      "The total time is 0.006211042404174805 seconds\n"
     ]
    }
   ],
   "source": [
    "tracemalloc.start()\n",
    "\n",
    "\n",
    "tracemalloc.start()\n",
    "intial_time = time.time()\n",
    "print(f\"Root Mean Squared Error is {rmse_score(model, test)}\")\n",
    "current, peak = tracemalloc.get_traced_memory()\n",
    "\n",
    "print(f\"Inital memory usage was {current / 10**6} MB; Peak was {peak / 10**6} MB; and difference is {(peak / 10**6) - (current / 10**6)} MB\")\n",
    "print(f\"The total time is {time.time() - intial_time} seconds\")"
   ]
  },
  {
   "cell_type": "code",
   "execution_count": 10,
   "metadata": {},
   "outputs": [
    {
     "name": "stdout",
     "output_type": "stream",
     "text": [
      "PID is 54192\n"
     ]
    }
   ],
   "source": [
    "# scikit-learn bootstrap\n",
    "from sklearn.utils import resample\n",
    "from multiprocessing import Process, Lock, cpu_count, active_children, Value\n",
    "import resource\n",
    "# data sample\n",
    "\n",
    "resample_train_cbn = []\n",
    "resample_test_cbn = []\n",
    "# prepare bootstrap sample\n",
    "for i in range(10,0,-1):\n",
    "    from sklearn.utils import resample\n",
    "    boot_uid = resample(uids, n_samples=int(uids.size * i / 10), random_state=1)\n",
    "    boot_iid = resample(iids, n_samples=int(iids.size * i / 10), random_state=1)\n",
    "#     print(boot_uid.size)\n",
    "    int_uid = []\n",
    "    int_iid = []\n",
    "    int_ratings = []\n",
    "    int_timestamps = []\n",
    "    \n",
    "    temp_sample = ratings_df[ratings_df['userId'].isin(boot_uid)]\n",
    "    final_sample = temp_sample[temp_sample['movieId'].isin(boot_iid)]\n",
    "    #print(final_sample)\n",
    "    int_uid = np.array([uid_map[uid] for uid in final_sample[\"userId\"].values ], dtype=np.int32)\n",
    "    int_iid = np.array([iid_map[iid] for iid in final_sample[\"movieId\"].values ], dtype=np.int32)\n",
    "    int_ratings = final_sample['rating'].values.astype(np.float32)\n",
    "    int_timestamps = final_sample['timestamp'].values.astype(np.int32)\n",
    "\n",
    "    dataset_boot = Interactions(user_ids=int_uid,item_ids=int_uid,ratings=int_ratings,timestamps=int_timestamps)\n",
    "    train, test = random_train_test_split(dataset_boot, test_percentage=0.2)\n",
    "    resample_train_cbn.append(train)\n",
    "    resample_test_cbn.append(test)\n",
    "#     print('---------------------')\n",
    "#     print(len(resample_train_cbn))\n",
    "#     print(len(resample_test_cbn))\n",
    "#     print('---------------------')\n",
    "\n",
    "def train_method(num_1,num_2):\n",
    "    print(f\"PID is {os.getpid()}\")\n",
    "    model = ExplicitFactorizationModel(n_iter=1)\n",
    "    intial_time =  resource.getrusage(resource.RUSAGE_SELF); \n",
    "    model.fit(resample_train_cbn[num_1])\n",
    "    final_time = resource.getrusage(resource.RUSAGE_SELF); \n",
    "    overall_time = final_time.ru_stime - intial_time.ru_stime\n",
    "    print(overall_time)\n",
    "    print(f\"Root Mean Squared Error is {rmse_score(model, resample_test_cbn[num_2])}\")\n",
    "#     print(f\"Root Mean Squared Error is {precision_recall_score(model, resample_test_cbn[num_2])}\")\n",
    "    #print(f\"Root Mean Squared Error is {rmse_score(model, test)}\")\n",
    "\n",
    "\n",
    "#train_method(0,0)\n",
    "\n",
    "if __name__ == '__main__':\n",
    "    \n",
    "    p10 = Process(target=train_method, args=(0,0,))\n",
    "#     p9 = Process(target=train_method, args=(1,1,))\n",
    "#     p8 = Process(target=train_method, args=(2,2,))\n",
    "#     p7 = Process(target=train_method, args=(3,3,))\n",
    "#     p6 = Process(target=train_method, args=(4,4,))\n",
    "#     p5 = Process(target=train_method, args=(5,5,))\n",
    "#     p4 = Process(target=train_method, args=(6,6,))\n",
    "#     p3 = Process(target=train_method, args=(7,7,))\n",
    "#     p2 = Process(target=train_method, args=(8,8,))\n",
    "#     p1 = Process(target=train_method, args=(9,9,))\n",
    "    \n",
    "    p10.start()\n",
    "#     p10.join()\n",
    "#     p9.start()\n",
    "#     p9.join()\n",
    "#     p8.start()\n",
    "#     p8.join()\n",
    "#     p7.start()\n",
    "#     p7.join()\n",
    "#     p6.start()\n",
    "#     p6.join()\n",
    "#     p5.start()\n",
    "#     p5.join()\n",
    "#     p4.start()\n",
    "#     p4.join()\n",
    "#     p3.start()\n",
    "#     p3.join()\n",
    "#     p2.start()\n",
    "#     p2.join()\n",
    "#     p1.start()\n",
    "#     p1.join()\n",
    "#     print(\"The number of CPU is:\" + str(cpu_count()))\n",
    "#     for p in active_children():\n",
    "#         print(\"child   p.name:\" + p.name + \"\\tp.id\" + str(p.pid))\n",
    "#     print (\"END!!!!!!!!!!!!!!!!!\")\n",
    "    \n",
    "# #     for num in range(10,0,-1):\n",
    "# #         Process(target=m, args=(lock, resample(i))).start()        \n"
   ]
  },
  {
   "cell_type": "code",
   "execution_count": 11,
   "metadata": {},
   "outputs": [
    {
     "name": "stdout",
     "output_type": "stream",
     "text": [
      "hello world 0\n",
      "hello world1 \n",
      "hello world 2\n",
      "hello world3 \n",
      "hello world 4\n",
      "hello world 5\n",
      "hello world 6\n",
      "hello world 7\n",
      "hello world 8\n",
      "hello world 9\n"
     ]
    }
   ],
   "source": [
    "\n",
    "def f(l, i):\n",
    "    l.acquire()\n",
    "    try:\n",
    "        print('hello world', i)\n",
    "    finally:\n",
    "        l.release()\n",
    "\n",
    "if __name__ == '__main__':\n",
    "    lock = Lock()\n",
    "\n",
    "    for num in range(10):\n",
    "        Process(target=f, args=(lock, num)).start()"
   ]
  },
  {
   "cell_type": "code",
   "execution_count": 31,
   "metadata": {},
   "outputs": [
    {
     "name": "stdout",
     "output_type": "stream",
     "text": [
      "main line\n",
      "module name: __main__\n",
      "parent process: 13043\n",
      "process id: 32672\n",
      "function f\n",
      "module name: __main__\n",
      "parent process: 32672\n",
      "process id: 42836\n",
      "hello bob\n"
     ]
    }
   ],
   "source": [
    "from multiprocessing import Process\n",
    "import os\n",
    "\n",
    "def info(title):\n",
    "    print(title)\n",
    "    print('module name:', __name__)\n",
    "    print('parent process:', os.getppid())\n",
    "    print('process id:', os.getpid())\n",
    "\n",
    "def f(name):\n",
    "    info('function f')\n",
    "    print('hello', name)\n",
    "\n",
    "if __name__ == '__main__':\n",
    "    info('main line')\n",
    "    p = Process(target=f, args=('bob',))\n",
    "    p.start()\n",
    "    p.join()"
   ]
  },
  {
   "cell_type": "code",
   "execution_count": null,
   "metadata": {},
   "outputs": [],
   "source": []
  }
 ],
 "metadata": {
  "kernelspec": {
   "display_name": "Python 3",
   "language": "python",
   "name": "python3"
  },
  "language_info": {
   "codemirror_mode": {
    "name": "ipython",
    "version": 3
   },
   "file_extension": ".py",
   "mimetype": "text/x-python",
   "name": "python",
   "nbconvert_exporter": "python",
   "pygments_lexer": "ipython3",
   "version": "3.6.10"
  }
 },
 "nbformat": 4,
 "nbformat_minor": 4
}
