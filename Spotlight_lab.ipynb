{
 "cells": [
  {
   "cell_type": "code",
   "execution_count": 1,
   "metadata": {},
   "outputs": [],
   "source": [
    "from spotlight.cross_validation import user_based_train_test_split\n",
    "from spotlight.datasets.movielens import get_movielens_dataset\n",
    "from spotlight.evaluation import rmse_score,mrr_score,precision_recall_score\n",
    "from spotlight.factorization.explicit import ExplicitFactorizationModel\n",
    "import pandas as pd\n",
    "import numpy as np"
   ]
  },
  {
   "cell_type": "code",
   "execution_count": 2,
   "metadata": {},
   "outputs": [],
   "source": [
    "ratings_df = pd.read_csv(\"ml-latest-small/ratings.csv\")\n",
    "movies_df = pd.read_csv(\"ml-latest-small/movies.csv\")\n",
    "\n",
    "from collections import defaultdict\n",
    "from itertools import count\n",
    "\n",
    "uid_map = defaultdict(count().__next__)\n",
    "iid_map = defaultdict(count().__next__)\n",
    "uids = np.array([uid_map[uid] for uid in ratings_df[\"userId\"].values ], dtype=np.int32)\n",
    "iids = np.array([iid_map[iid] for iid in ratings_df[\"movieId\"].values ], dtype=np.int32)\n",
    "\n",
    "\n",
    "uid_rev_map = {v: k for k, v in uid_map.items()}\n",
    "iid_rev_map = {v: k for k, v in iid_map.items()}\n",
    "\n",
    "\n",
    "ratings = ratings_df[\"rating\"].values.astype(np.float32)\n",
    "timestamps = ratings_df[\"timestamp\"].values.astype(np.int32)\n",
    "\n",
    "from spotlight.interactions import Interactions\n",
    "from spotlight.cross_validation import random_train_test_split\n",
    "\n",
    "dataset = Interactions(user_ids=uids,item_ids=iids,ratings=ratings,timestamps=timestamps)\n",
    "\n",
    "#lets initialise the seed, so that its repeatable and reproducible \n",
    "train, test = random_train_test_split(dataset, test_percentage=0.2)"
   ]
  },
  {
   "cell_type": "code",
   "execution_count": 3,
   "metadata": {},
   "outputs": [
    {
     "data": {
      "text/plain": [
       "<Interactions dataset (610 users x 9724 items x 100836 interactions)>"
      ]
     },
     "execution_count": 3,
     "metadata": {},
     "output_type": "execute_result"
    }
   ],
   "source": [
    "dataset"
   ]
  },
  {
   "cell_type": "code",
   "execution_count": 4,
   "metadata": {},
   "outputs": [
    {
     "data": {
      "text/plain": [
       "<Interactions dataset (610 users x 9724 items x 80668 interactions)>"
      ]
     },
     "execution_count": 4,
     "metadata": {},
     "output_type": "execute_result"
    }
   ],
   "source": [
    "train"
   ]
  },
  {
   "cell_type": "code",
   "execution_count": 5,
   "metadata": {},
   "outputs": [
    {
     "data": {
      "text/plain": [
       "<Interactions dataset (610 users x 9724 items x 20168 interactions)>"
      ]
     },
     "execution_count": 5,
     "metadata": {},
     "output_type": "execute_result"
    }
   ],
   "source": [
    "test"
   ]
  },
  {
   "cell_type": "code",
   "execution_count": 6,
   "metadata": {},
   "outputs": [
    {
     "name": "stdout",
     "output_type": "stream",
     "text": [
      "50310\n"
     ]
    }
   ],
   "source": [
    "import os\n",
    "print(os.getpid())"
   ]
  },
  {
   "cell_type": "code",
   "execution_count": 7,
   "metadata": {},
   "outputs": [
    {
     "name": "stdout",
     "output_type": "stream",
     "text": [
      "The total time is 1.741980791091919 seconds\n"
     ]
    }
   ],
   "source": [
    "import tracemalloc\n",
    "import time\n",
    "\n",
    "\n",
    "#tracemalloc.start()\n",
    "model = ExplicitFactorizationModel(n_iter=1)\n",
    "intial_time = time.time()\n",
    "model.fit(train)\n",
    "#current, peak = tracemalloc.get_traced_memory()\n",
    "\n",
    "#print(f\"Inital memory usage was {current / 10**6} MB; Peak was {peak / 10**6} MB; and difference is {(peak / 10**6) - (current / 10**6)} MB\")\n",
    "print(f\"The total time is {time.time() - intial_time} seconds\")\n",
    "\n",
    "tracemalloc.stop()\n",
    "#snapshot2 = tracemalloc.take_snapshot()\n",
    "\n"
   ]
  },
  {
   "cell_type": "code",
   "execution_count": 8,
   "metadata": {},
   "outputs": [
    {
     "name": "stdout",
     "output_type": "stream",
     "text": [
      "[0.01384568 0.00371565 0.00068255 0.00893842 0.02497375 0.00308549\n",
      " 0.0021226  0.0158528  0.00527613 0.00127559 0.00143893 0.00065225\n",
      " 0.0013179  0.00480994 0.01036695 0.01078346 0.00941135 0.00453576\n",
      " 0.00204751 0.00118723 0.00304763 0.00661666 0.00454634 0.00214611\n",
      " 0.00263105 0.00506843 0.00402386 0.00662681 0.01239005 0.00704696\n",
      " 0.00152101 0.00658425 0.01841745 0.00151906 0.08423974 0.00244654\n",
      " 0.0193082  0.03272271 0.01159391 0.01342264 0.00179444 0.00141136\n",
      " 0.00219772 0.0021053  0.00198837 0.03366072 0.00215349 0.00295902\n",
      " 0.00317736 0.00249096 0.00343177 0.00183049 0.01048372 0.04470015\n",
      " 0.00198894 0.01971769 0.00362935 0.01467669 0.00412951 0.00100863\n",
      " 0.01078182 0.00377763 0.00884867 0.00775572 0.00962144 0.0024\n",
      " 0.0051236  0.00312802 0.0036493  0.00154631 0.00261772 0.004189\n",
      " 0.00235175 0.00240003 0.0076801  0.00457066 0.00585499 0.01441395\n",
      " 0.00933867 0.00271137 0.0285768  0.00152814 0.01305126 0.00411758\n",
      " 0.01291079 0.00300113 0.00434051 0.00556714 0.00058332 0.00088461\n",
      " 0.00217889 0.00113348 0.00239978 0.06360825 0.00175962 0.00247261\n",
      " 0.0008023  0.00433655 0.06767486 0.02196669 0.00295004 0.02198489\n",
      " 0.0024542  0.00299731 0.00226458 0.00190288 0.00980462 0.00108639\n",
      " 0.00139768 0.00640638 0.00147597 0.00328852 0.00327769 0.00273779\n",
      " 0.00168133 0.01971255 0.00387737 0.00159521 0.0024274  0.00460813\n",
      " 0.01275571 0.00748364 0.0035699  0.00213647 0.00204974 0.02621162\n",
      " 0.00073441 0.00392323 0.00212655 0.02220526 0.0367031  0.00206861\n",
      " 0.00342008 0.00274358 0.00934989 0.00720327 0.00389398 0.00455452\n",
      " 0.00282766 0.00371639 0.00342334 0.02583906 0.001011   0.00515275\n",
      " 0.01807941 0.00047422 0.00120935 0.00125259 0.00256062 0.00311327\n",
      " 0.0008563  0.01564856 0.00895214 0.00395256 0.00276502 0.00189286\n",
      " 0.0010086  0.00058685 0.00575519 0.00171834 0.00084648 0.01989008\n",
      " 0.00131746 0.00531559 0.00246325 0.00525822 0.00222719 0.00562686\n",
      " 0.00191259 0.00906293 0.00471272 0.0010835  0.00350425 0.02414979\n",
      " 0.00080037 0.03268644 0.00205064 0.0044996  0.00738257 0.06364772\n",
      " 0.00400693 0.0050406  0.00195353 0.005663   0.00261246 0.00277549\n",
      " 0.00462431 0.00393795 0.00187843 0.00658379 0.00212766 0.00599623\n",
      " 0.00068324 0.00436832 0.00251492 0.00886327 0.00567969 0.01037321\n",
      " 0.00400636 0.00129964 0.00310838 0.00977614 0.0046456  0.00260231\n",
      " 0.00156227 0.00131837 0.00706626 0.00183062 0.00307279 0.01029306\n",
      " 0.00288212 0.00150236 0.00056367 0.0044546  0.00526149 0.00324605\n",
      " 0.00526437 0.00285188 0.00669774 0.00442513 0.00627416 0.01696742\n",
      " 0.00325393 0.00203479 0.00230185 0.00737463 0.00145845 0.00863562\n",
      " 0.00366092 0.00292859 0.00116634 0.00619786 0.00116541 0.01332264\n",
      " 0.00079076 0.00180162 0.00306175 0.00249017 0.04507344 0.00602581\n",
      " 0.03081812 0.00253989 0.001281   0.03035982 0.00476927 0.00526898\n",
      " 0.00335168 0.00163548 0.00245862 0.00130865 0.00107792 0.00264163\n",
      " 0.00472587 0.00624312 0.00164595 0.00469102 0.00477946 0.00078523\n",
      " 0.00702422 0.00671655 0.00145435 0.00251137 0.01227116 0.00325802\n",
      " 0.00362878 0.00232473 0.00175029 0.00040568 0.02531241 0.00208061\n",
      " 0.00425375 0.00372769 0.00207898 0.00249985 0.00447706 0.00266978\n",
      " 0.00356142 0.00645109 0.00110817 0.00665188 0.00392829 0.00521444\n",
      " 0.07958585 0.00359106 0.00186096 0.00133758 0.00271301 0.00099241\n",
      " 0.00542959 0.00211264 0.00291467 0.00195142 0.00268766 0.00487679\n",
      " 0.00703018 0.00088514 0.00796403 0.00214241 0.00251853 0.00315343\n",
      " 0.00493719 0.00687658 0.00910916 0.00273725 0.00142696 0.00127173\n",
      " 0.00353277 0.00527281 0.00533993 0.00147014 0.00225201 0.0027235\n",
      " 0.00571455 0.00455808 0.0015553  0.01133649 0.00213787 0.00265548\n",
      " 0.00800922 0.02960019 0.01420195 0.00952399 0.00149687 0.00141213\n",
      " 0.00397628 0.00335564 0.00289838 0.00413788 0.0054856  0.00153687\n",
      " 0.00548356 0.00094668 0.00376713 0.03438278 0.00148024 0.00188377\n",
      " 0.00940218 0.00773499 0.02510755 0.00170406 0.00088701 0.00493086\n",
      " 0.00240601 0.0008776  0.0045401  0.02579114 0.02023411 0.0055315\n",
      " 0.00275984 0.00464029 0.00364573 0.00383025 0.00388362 0.00053128\n",
      " 0.00216963 0.00215504 0.00155328 0.00343751 0.0004764  0.00194992\n",
      " 0.00278451 0.001846   0.00300231 0.01408931 0.00113609 0.0029009\n",
      " 0.00690179 0.00418727 0.0139717  0.0029883  0.00665929 0.15621417\n",
      " 0.00270859 0.00668774 0.0067231  0.00741774 0.01811487 0.00151696\n",
      " 0.00211701 0.00352647 0.00208865 0.00198169 0.00751493 0.08246793\n",
      " 0.00338258 0.00055514 0.00187738 0.00632222 0.00315181 0.00099768\n",
      " 0.00827116 0.00298531 0.00423344 0.00846182 0.00054669 0.00299334\n",
      " 0.00442398 0.00766868 0.00151248 0.08765124 0.05983138 0.00207992\n",
      " 0.00555172 0.00037436 0.00759844 0.00244138 0.00454512 0.00231598\n",
      " 0.01455021 0.00491588 0.01874993 0.00148993 0.01057221 0.05891151\n",
      " 0.00376141 0.00296123 0.01146674 0.00329673 0.00121114 0.00869234\n",
      " 0.00464352 0.00142927 0.00342183 0.00299595 0.00147855 0.00362437\n",
      " 0.00351104 0.0019401  0.0007016  0.00276605 0.00824255 0.00677376\n",
      " 0.0093521  0.00313708 0.00793533 0.00103269 0.0177005  0.01033808\n",
      " 0.01226107 0.00207571 0.00126607 0.00647522 0.01311775 0.00284201\n",
      " 0.00571096 0.00430291 0.00213194 0.00103381 0.00132836 0.00156723\n",
      " 0.00162378 0.00537155 0.09485057 0.00085653 0.0019598  0.09897903\n",
      " 0.00131882 0.00549244 0.0018823  0.00345027 0.00097785 0.01455976\n",
      " 0.0025192  0.002792   0.00063498 0.00213447 0.00397153 0.00361187\n",
      " 0.00187738 0.00681211 0.00169073 0.00318286 0.00280652 0.0077305\n",
      " 0.00288701 0.00216587 0.0011993  0.00212031 0.00053334 0.00106595\n",
      " 0.00201717 0.00128219 0.23764797 0.0344535  0.00949597 0.00555731\n",
      " 0.00140767 0.00639658 0.00319967 0.00270043 0.00189556 0.0038074\n",
      " 0.00151506 0.00089695 0.00574962 0.00694234 0.00073553 0.00316295\n",
      " 0.01377271 0.000358   0.001466   0.00156764 0.0023095  0.00124976\n",
      " 0.02128483 0.01305006 0.00375349 0.00431848 0.00246359 0.00151819\n",
      " 0.00201535 0.00503922 0.00408787 0.00200785 0.00263796 0.00190441\n",
      " 0.0006098  0.00513412 0.00100273 0.0028302  0.00672641 0.00472686\n",
      " 0.00144518 0.00797406 0.00440942 0.02767881 0.00445743 0.01863958\n",
      " 0.00330634 0.00252622 0.00190631 0.00179159 0.00516809 0.00905629\n",
      " 0.00312603 0.00216599 0.00288996 0.00684266 0.01102877 0.00323204\n",
      " 0.00202169 0.00103353 0.00090496 0.0013426  0.00223352 0.00527944\n",
      " 0.00502853 0.00307269 0.00204836 0.00852476 0.00537412 0.00164409\n",
      " 0.00222739 0.00446514 0.00337908 0.00475528 0.00245692 0.00243007\n",
      " 0.00368002 0.00122551 0.00124621 0.0202365  0.05320412 0.00387673\n",
      " 0.00179607 0.0107021  0.00170152 0.00053692 0.00671545 0.00197766\n",
      " 0.00826633 0.00242302 0.00341391 0.02001318 0.00047597 0.00099793\n",
      " 0.00201188 0.00594236 0.0047276  0.00369918 0.00901771 0.02268096\n",
      " 0.00321603 0.00377402 0.00609177 0.01880406 0.00439489 0.00130646\n",
      " 0.01490023 0.00816024 0.00213662 0.00299457 0.00200597 0.00322171\n",
      " 0.00098131 0.00208975 0.00945296 0.00824412 0.00420661 0.00261945\n",
      " 0.0019374  0.00145852 0.00229876 0.00119409 0.00137128 0.00202255\n",
      " 0.00149835]\n",
      "50310\n",
      "The total time is 1.1891591548919678 seconds\n"
     ]
    }
   ],
   "source": [
    "#tracemalloc.start()\n",
    "intial_time = time.time()\n",
    "print(mrr_score(model, test))\n",
    "#current, peak = tracemalloc.get_traced_memory()\n",
    "print(os.getpid())\n",
    "#print(f\"Inital memory usage was {current / 10**6} MB; Peak was {peak / 10**6} MB; and difference is {(peak / 10**6) - (current / 10**6)} MB\")\n",
    "print(f\"The total time is {time.time() - intial_time} seconds\")\n"
   ]
  },
  {
   "cell_type": "code",
   "execution_count": 9,
   "metadata": {},
   "outputs": [
    {
     "name": "stdout",
     "output_type": "stream",
     "text": [
      "Root Mean Squared Error is 1.0830034017562866\n",
      "Inital memory usage was 0.004638 MB; Peak was 0.4079 MB; and difference is 0.403262 MB\n",
      "The total time is 0.006904125213623047 seconds\n"
     ]
    }
   ],
   "source": [
    "tracemalloc.start()\n",
    "\n",
    "\n",
    "tracemalloc.start()\n",
    "intial_time = time.time()\n",
    "print(f\"Root Mean Squared Error is {rmse_score(model, test)}\")\n",
    "current, peak = tracemalloc.get_traced_memory()\n",
    "\n",
    "print(f\"Inital memory usage was {current / 10**6} MB; Peak was {peak / 10**6} MB; and difference is {(peak / 10**6) - (current / 10**6)} MB\")\n",
    "print(f\"The total time is {time.time() - intial_time} seconds\")"
   ]
  },
  {
   "cell_type": "code",
   "execution_count": 22,
   "metadata": {},
   "outputs": [
    {
     "name": "stdout",
     "output_type": "stream",
     "text": [
      "100836\n",
      "---------------------\n",
      "1\n",
      "1\n",
      "---------------------\n",
      "90752\n",
      "---------------------\n",
      "2\n",
      "2\n",
      "---------------------\n",
      "80668\n",
      "---------------------\n",
      "3\n",
      "3\n",
      "---------------------\n",
      "70585\n",
      "---------------------\n",
      "4\n",
      "4\n",
      "---------------------\n",
      "60501\n",
      "---------------------\n",
      "5\n",
      "5\n",
      "---------------------\n",
      "50418\n",
      "---------------------\n",
      "6\n",
      "6\n",
      "---------------------\n",
      "40334\n",
      "---------------------\n",
      "7\n",
      "7\n",
      "---------------------\n",
      "30250\n",
      "---------------------\n",
      "8\n",
      "8\n",
      "---------------------\n",
      "20167\n",
      "---------------------\n",
      "9\n",
      "9\n",
      "---------------------\n",
      "10083\n",
      "---------------------\n",
      "10\n",
      "10\n",
      "---------------------\n",
      "0.060502000000000056\n",
      "Root Mean Squared Error is 1.0141733884811401\n"
     ]
    },
    {
     "ename": "NameError",
     "evalue": "name 'precision_recall_score' is not defined",
     "output_type": "error",
     "traceback": [
      "\u001b[0;31m---------------------------------------------------------------------------\u001b[0m",
      "\u001b[0;31mNameError\u001b[0m                                 Traceback (most recent call last)",
      "\u001b[0;32m<ipython-input-22-045b5cfd298f>\u001b[0m in \u001b[0;36m<module>\u001b[0;34m\u001b[0m\n\u001b[1;32m     47\u001b[0m     \u001b[0;31m#print(f\"Root Mean Squared Error is {rmse_score(model, test)}\")\u001b[0m\u001b[0;34m\u001b[0m\u001b[0;34m\u001b[0m\u001b[0;34m\u001b[0m\u001b[0m\n\u001b[1;32m     48\u001b[0m \u001b[0;34m\u001b[0m\u001b[0m\n\u001b[0;32m---> 49\u001b[0;31m \u001b[0mtrain_method\u001b[0m\u001b[0;34m(\u001b[0m\u001b[0;36m0\u001b[0m\u001b[0;34m,\u001b[0m\u001b[0;36m0\u001b[0m\u001b[0;34m)\u001b[0m\u001b[0;34m\u001b[0m\u001b[0;34m\u001b[0m\u001b[0m\n\u001b[0m\u001b[1;32m     50\u001b[0m '''\n\u001b[1;32m     51\u001b[0m \u001b[0;32mif\u001b[0m \u001b[0m__name__\u001b[0m \u001b[0;34m==\u001b[0m \u001b[0;34m'__main__'\u001b[0m\u001b[0;34m:\u001b[0m\u001b[0;34m\u001b[0m\u001b[0;34m\u001b[0m\u001b[0m\n",
      "\u001b[0;32m<ipython-input-22-045b5cfd298f>\u001b[0m in \u001b[0;36mtrain_method\u001b[0;34m(num_1, num_2)\u001b[0m\n\u001b[1;32m     44\u001b[0m     \u001b[0mprint\u001b[0m\u001b[0;34m(\u001b[0m\u001b[0moverall_time\u001b[0m\u001b[0;34m)\u001b[0m\u001b[0;34m\u001b[0m\u001b[0;34m\u001b[0m\u001b[0m\n\u001b[1;32m     45\u001b[0m     \u001b[0mprint\u001b[0m\u001b[0;34m(\u001b[0m\u001b[0;34mf\"Root Mean Squared Error is {rmse_score(model, resample_test_cbn[num_2])}\"\u001b[0m\u001b[0;34m)\u001b[0m\u001b[0;34m\u001b[0m\u001b[0;34m\u001b[0m\u001b[0m\n\u001b[0;32m---> 46\u001b[0;31m     \u001b[0mprint\u001b[0m\u001b[0;34m(\u001b[0m\u001b[0;34mf\"Root Mean Squared Error is {precision_recall_score(model, resample_test_cbn[num_2])}\"\u001b[0m\u001b[0;34m)\u001b[0m\u001b[0;34m\u001b[0m\u001b[0;34m\u001b[0m\u001b[0m\n\u001b[0m\u001b[1;32m     47\u001b[0m     \u001b[0;31m#print(f\"Root Mean Squared Error is {rmse_score(model, test)}\")\u001b[0m\u001b[0;34m\u001b[0m\u001b[0;34m\u001b[0m\u001b[0;34m\u001b[0m\u001b[0m\n\u001b[1;32m     48\u001b[0m \u001b[0;34m\u001b[0m\u001b[0m\n",
      "\u001b[0;31mNameError\u001b[0m: name 'precision_recall_score' is not defined"
     ]
    }
   ],
   "source": [
    "# scikit-learn bootstrap\n",
    "from sklearn.utils import resample\n",
    "from multiprocessing import Process, Lock, cpu_count, active_children, Value\n",
    "import resource\n",
    "# data sample\n",
    "\n",
    "resample_train_cbn = []\n",
    "resample_test_cbn = []\n",
    "# prepare bootstrap sample\n",
    "for i in range(10,0,-1):\n",
    "    from sklearn.utils import resample\n",
    "    boot_uid = resample(uids, n_samples=int(uids.size * i / 10), random_state=1)\n",
    "    boot_iid = resample(iids, n_samples=int(iids.size * i / 10), random_state=1)\n",
    "    print(boot_uid.size)\n",
    "    int_uid = []\n",
    "    int_iid = []\n",
    "    int_ratings = []\n",
    "    int_timestamps = []\n",
    "    \n",
    "    temp_sample = ratings_df[ratings_df['userId'].isin(boot_uid)]\n",
    "    final_sample = temp_sample[temp_sample['movieId'].isin(boot_iid)]\n",
    "    #print(final_sample)\n",
    "    int_uid = np.array([uid_map[uid] for uid in final_sample[\"userId\"].values ], dtype=np.int32)\n",
    "    int_iid = np.array([iid_map[iid] for iid in final_sample[\"movieId\"].values ], dtype=np.int32)\n",
    "    int_ratings = final_sample['rating'].values.astype(np.float32)\n",
    "    int_timestamps = final_sample['timestamp'].values.astype(np.int32)\n",
    "\n",
    "    dataset_boot = Interactions(user_ids=int_uid,item_ids=int_uid,ratings=int_ratings,timestamps=int_timestamps)\n",
    "    train, test = random_train_test_split(dataset_boot, test_percentage=0.2)\n",
    "    resample_train_cbn.append(train)\n",
    "    resample_test_cbn.append(test)\n",
    "    print('---------------------')\n",
    "    print(len(resample_train_cbn))\n",
    "    print(len(resample_test_cbn))\n",
    "    print('---------------------')\n",
    "\n",
    "def train_method(num_1,num_2):\n",
    "    \n",
    "    model = ExplicitFactorizationModel(n_iter=1)\n",
    "    intial_time =  resource.getrusage(resource.RUSAGE_SELF); \n",
    "    model.fit(resample_train_cbn[num_1])\n",
    "    final_time = resource.getrusage(resource.RUSAGE_SELF); \n",
    "    overall_time = final_time.ru_stime - intial_time.ru_stime\n",
    "    print(overall_time)\n",
    "    print(f\"Root Mean Squared Error is {rmse_score(model, resample_test_cbn[num_2])}\")\n",
    "    print(f\"Root Mean Squared Error is {precision_recall_score(model, resample_test_cbn[num_2])}\")\n",
    "    #print(f\"Root Mean Squared Error is {rmse_score(model, test)}\")\n",
    "\n",
    "train_method(0,0)\n",
    "'''\n",
    "if __name__ == '__main__':\n",
    "    \n",
    "    p10 = Process(target=train_method, args=(0,))\n",
    "    p9 = Process(target=train_method, args=(1,))\n",
    "    p8 = Process(target=train_method, args=(2,))\n",
    "    p7 = Process(target=train_method, args=(3,))\n",
    "    p6 = Process(target=train_method, args=(4,))\n",
    "    p5 = Process(target=train_method, args=(5,))\n",
    "    p4 = Process(target=train_method, args=(6,))\n",
    "    p3 = Process(target=train_method, args=(7,))\n",
    "    p2 = Process(target=train_method, args=(8,))\n",
    "    p1 = Process(target=train_method, args=(9,))\n",
    "    \n",
    "    p10.start()\n",
    "    p10.join()\n",
    "    p9.start()\n",
    "    p9.join()\n",
    "    p8.start()\n",
    "    p8.join()\n",
    "    p7.start()\n",
    "    p7.join()\n",
    "    p6.start()\n",
    "    p6.join()\n",
    "    p5.start()\n",
    "    p5.join()\n",
    "    p4.start()\n",
    "    p4.join()\n",
    "    p3.start()\n",
    "    p3.join()\n",
    "    p2.start()\n",
    "    p2.join()\n",
    "    p1.start()\n",
    "    p1.join()\n",
    "#     print(\"The number of CPU is:\" + str(cpu_count()))\n",
    "#     for p in active_children():\n",
    "#         print(\"child   p.name:\" + p.name + \"\\tp.id\" + str(p.pid))\n",
    "#     print (\"END!!!!!!!!!!!!!!!!!\")\n",
    "    \n",
    "# #     for num in range(10,0,-1):\n",
    "# #         Process(target=m, args=(lock, resample(i))).start()        \n",
    "'''"
   ]
  },
  {
   "cell_type": "code",
   "execution_count": null,
   "metadata": {},
   "outputs": [],
   "source": [
    "\n",
    "def f(l, i):\n",
    "    l.acquire()\n",
    "    try:\n",
    "        print('hello world', i)\n",
    "    finally:\n",
    "        l.release()\n",
    "\n",
    "if __name__ == '__main__':\n",
    "    lock = Lock()\n",
    "\n",
    "    for num in range(10):\n",
    "        Process(target=f, args=(lock, num)).start()"
   ]
  },
  {
   "cell_type": "code",
   "execution_count": 31,
   "metadata": {},
   "outputs": [
    {
     "name": "stdout",
     "output_type": "stream",
     "text": [
      "main line\n",
      "module name: __main__\n",
      "parent process: 13043\n",
      "process id: 32672\n",
      "function f\n",
      "module name: __main__\n",
      "parent process: 32672\n",
      "process id: 42836\n",
      "hello bob\n"
     ]
    }
   ],
   "source": [
    "from multiprocessing import Process\n",
    "import os\n",
    "\n",
    "def info(title):\n",
    "    print(title)\n",
    "    print('module name:', __name__)\n",
    "    print('parent process:', os.getppid())\n",
    "    print('process id:', os.getpid())\n",
    "\n",
    "def f(name):\n",
    "    info('function f')\n",
    "    print('hello', name)\n",
    "\n",
    "if __name__ == '__main__':\n",
    "    info('main line')\n",
    "    p = Process(target=f, args=('bob',))\n",
    "    p.start()\n",
    "    p.join()"
   ]
  },
  {
   "cell_type": "code",
   "execution_count": null,
   "metadata": {},
   "outputs": [],
   "source": []
  }
 ],
 "metadata": {
  "kernelspec": {
   "display_name": "Python 3",
   "language": "python",
   "name": "python3"
  },
  "language_info": {
   "codemirror_mode": {
    "name": "ipython",
    "version": 3
   },
   "file_extension": ".py",
   "mimetype": "text/x-python",
   "name": "python",
   "nbconvert_exporter": "python",
   "pygments_lexer": "ipython3",
   "version": "3.6.10"
  }
 },
 "nbformat": 4,
 "nbformat_minor": 4
}
