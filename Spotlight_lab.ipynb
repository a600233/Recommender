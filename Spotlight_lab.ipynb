{
 "cells": [
  {
   "cell_type": "code",
   "execution_count": 3,
   "metadata": {},
   "outputs": [],
   "source": [
    "from spotlight.cross_validation import user_based_train_test_split\n",
    "from spotlight.datasets.movielens import get_movielens_dataset\n",
    "from spotlight.evaluation import rmse_score,mrr_score\n",
    "from spotlight.factorization.explicit import ExplicitFactorizationModel\n",
    "import pandas as pd\n",
    "import numpy as np"
   ]
  },
  {
   "cell_type": "code",
   "execution_count": 4,
   "metadata": {},
   "outputs": [],
   "source": [
    "ratings_df = pd.read_csv(\"ml-latest-small/ratings.csv\")\n",
    "movies_df = pd.read_csv(\"ml-latest-small/movies.csv\")\n",
    "\n",
    "from collections import defaultdict\n",
    "from itertools import count\n",
    "\n",
    "uid_map = defaultdict(count().__next__)\n",
    "iid_map = defaultdict(count().__next__)\n",
    "uids = np.array([uid_map[uid] for uid in ratings_df[\"userId\"].values ], dtype=np.int32)\n",
    "iids = np.array([iid_map[iid] for iid in ratings_df[\"movieId\"].values ], dtype=np.int32)\n",
    "\n",
    "uid_rev_map = {v: k for k, v in uid_map.items()}\n",
    "iid_rev_map = {v: k for k, v in iid_map.items()}\n",
    "\n",
    "ratings = ratings_df[\"rating\"].values.astype(np.float32)\n",
    "timestamps = ratings_df[\"timestamp\"].values.astype(np.int32)\n",
    "\n",
    "from spotlight.interactions import Interactions\n",
    "from spotlight.cross_validation import random_train_test_split\n",
    "\n",
    "dataset = Interactions(user_ids=uids,item_ids=iids,ratings=ratings,timestamps=timestamps)\n",
    "\n",
    "#lets initialise the seed, so that its repeatable and reproducible \n",
    "train, test = random_train_test_split(dataset, test_percentage=0.2)"
   ]
  },
  {
   "cell_type": "code",
   "execution_count": 5,
   "metadata": {},
   "outputs": [
    {
     "data": {
      "text/plain": [
       "<Interactions dataset (610 users x 9724 items x 100836 interactions)>"
      ]
     },
     "execution_count": 5,
     "metadata": {},
     "output_type": "execute_result"
    }
   ],
   "source": [
    "dataset"
   ]
  },
  {
   "cell_type": "code",
   "execution_count": 6,
   "metadata": {},
   "outputs": [
    {
     "data": {
      "text/plain": [
       "<Interactions dataset (610 users x 9724 items x 80668 interactions)>"
      ]
     },
     "execution_count": 6,
     "metadata": {},
     "output_type": "execute_result"
    }
   ],
   "source": [
    "train"
   ]
  },
  {
   "cell_type": "code",
   "execution_count": 7,
   "metadata": {},
   "outputs": [
    {
     "data": {
      "text/plain": [
       "<Interactions dataset (610 users x 9724 items x 20168 interactions)>"
      ]
     },
     "execution_count": 7,
     "metadata": {},
     "output_type": "execute_result"
    }
   ],
   "source": [
    "test"
   ]
  },
  {
   "cell_type": "code",
   "execution_count": 8,
   "metadata": {},
   "outputs": [
    {
     "name": "stdout",
     "output_type": "stream",
     "text": [
      "13075\n"
     ]
    }
   ],
   "source": [
    "import os\n",
    "print(os.getpid())"
   ]
  },
  {
   "cell_type": "code",
   "execution_count": 9,
   "metadata": {},
   "outputs": [
    {
     "name": "stdout",
     "output_type": "stream",
     "text": [
      "The total time is 1.66420316696167 seconds\n"
     ]
    }
   ],
   "source": [
    "import tracemalloc\n",
    "import time\n",
    "\n",
    "\n",
    "#tracemalloc.start()\n",
    "model = ExplicitFactorizationModel(n_iter=1)\n",
    "intial_time = time.time()\n",
    "model.fit(train)\n",
    "#current, peak = tracemalloc.get_traced_memory()\n",
    "\n",
    "#print(f\"Inital memory usage was {current / 10**6} MB; Peak was {peak / 10**6} MB; and difference is {(peak / 10**6) - (current / 10**6)} MB\")\n",
    "print(f\"The total time is {time.time() - intial_time} seconds\")\n",
    "\n",
    "tracemalloc.stop()\n",
    "#snapshot2 = tracemalloc.take_snapshot()\n",
    "\n"
   ]
  },
  {
   "cell_type": "code",
   "execution_count": 10,
   "metadata": {},
   "outputs": [
    {
     "name": "stdout",
     "output_type": "stream",
     "text": [
      "[1.61083490e-03 4.41273806e-03 1.93473901e-03 5.71102026e-03\n",
      " 6.70354271e-02 6.17115497e-03 4.39624832e-03 3.77967655e-02\n",
      " 2.10935461e-03 3.53699619e-03 4.08826274e-03 2.13824585e-03\n",
      " 5.19917063e-04 5.46675179e-03 2.58002484e-03 7.42047208e-03\n",
      " 5.03623669e-03 2.61629555e-03 2.98533078e-03 3.87751625e-03\n",
      " 2.97212073e-03 4.11745226e-03 3.67907137e-03 2.24710824e-03\n",
      " 2.44553201e-03 1.60816874e-02 2.79894318e-03 2.29003725e-03\n",
      " 1.08111748e-02 9.33023859e-03 3.26063026e-03 7.07072166e-03\n",
      " 5.71375242e-03 1.37206360e-03 7.97209403e-03 1.03623419e-03\n",
      " 1.04501132e-01 1.90443837e-02 1.12921747e-02 2.82190353e-02\n",
      " 5.25222835e-03 3.14677611e-03 6.42234492e-03 7.01531514e-04\n",
      " 1.99874802e-03 3.85453201e-02 1.67070244e-03 2.11023594e-03\n",
      " 1.43643963e-03 3.11029301e-03 1.36631824e-03 2.79922977e-03\n",
      " 6.00970450e-04 1.66069730e-02 1.80215072e-03 4.48887739e-02\n",
      " 5.93202142e-03 9.67444428e-03 1.57407655e-03 7.86687471e-03\n",
      " 2.18586382e-03 1.81822041e-03 5.02204178e-03 1.89512044e-03\n",
      " 2.82136760e-03 1.99278980e-03 3.18933060e-03 7.48901680e-03\n",
      " 3.94308182e-03 6.20524503e-03 3.47138916e-03 7.82727823e-03\n",
      " 1.27186100e-03 1.63366675e-03 5.31349979e-03 7.30278278e-03\n",
      " 1.92185894e-02 3.60568320e-03 1.70929087e-03 2.08643415e-03\n",
      " 1.26370851e-01 2.61847099e-03 5.43571129e-03 3.11766791e-03\n",
      " 5.32821384e-03 3.78197617e-03 2.82406100e-04 3.50760420e-03\n",
      " 5.83418106e-04 6.39778959e-04 5.23472391e-03 4.94156077e-04\n",
      " 2.53931081e-03 9.13497218e-03 1.84187437e-03 5.32542180e-03\n",
      " 3.93486292e-03 1.19520506e-03 3.73821599e-02 1.73013478e-02\n",
      " 9.34143710e-03 1.63876401e-02 5.65982582e-03 4.05675551e-03\n",
      " 2.49913893e-03 1.62110508e-03 4.78483287e-03 6.08125147e-04\n",
      " 6.40531767e-03 5.00715806e-03 1.58159739e-03 3.38688047e-03\n",
      " 1.33089716e-03 2.12746142e-03 3.62315840e-03 7.37231477e-03\n",
      " 1.04364255e-02 1.29062805e-03 2.69815597e-03 5.90092246e-03\n",
      " 1.31698699e-02 1.89509992e-02 2.17289392e-03 1.06870274e-02\n",
      " 3.59959016e-03 4.06797029e-02 1.81112378e-03 4.04952712e-03\n",
      " 2.30406200e-03 1.79622333e-02 7.22254278e-03 4.17137010e-03\n",
      " 1.89744364e-02 1.34171889e-02 2.43178359e-03 7.85321805e-03\n",
      " 7.62112861e-03 6.71344552e-02 3.01197509e-03 1.76536844e-03\n",
      " 1.47206159e-03 7.22256095e-02 1.29846618e-03 2.10042515e-03\n",
      " 2.88456003e-02 5.53109364e-04 3.12900666e-04 5.05776731e-03\n",
      " 2.67984501e-03 3.20370661e-03 4.57482038e-04 4.28287181e-03\n",
      " 7.94274019e-03 1.47315596e-03 1.14907316e-03 5.09705147e-03\n",
      " 1.45524034e-02 1.92975124e-04 2.71994363e-03 3.39488463e-03\n",
      " 1.88873678e-03 1.16633692e-02 1.30336681e-03 4.71817961e-03\n",
      " 1.14630971e-03 3.82833352e-03 4.37781771e-03 2.12393981e-03\n",
      " 9.64946876e-04 1.63759230e-02 2.12086192e-03 1.88427180e-03\n",
      " 8.52160593e-03 5.99140120e-03 2.72460834e-04 1.79179723e-02\n",
      " 3.06082430e-03 2.92710032e-03 3.20248439e-02 6.15347801e-04\n",
      " 4.51955295e-03 4.18141024e-03 4.70736302e-03 3.62710993e-03\n",
      " 1.97451497e-03 2.29300323e-03 2.08013032e-03 2.52959605e-03\n",
      " 4.46401723e-03 2.96796695e-03 3.68670649e-03 9.85137230e-03\n",
      " 6.31333890e-03 1.20756660e-03 4.48116971e-03 7.34400502e-03\n",
      " 4.23110147e-02 7.37532650e-03 2.29983879e-03 2.85261285e-03\n",
      " 1.45770086e-03 6.74545453e-03 3.05844370e-02 1.84160940e-03\n",
      " 7.58260397e-04 3.22580645e-03 1.35723365e-02 4.27358359e-03\n",
      " 2.36661380e-03 1.00363070e-03 5.93415842e-03 3.67414651e-03\n",
      " 1.33488994e-03 4.92084661e-03 2.15289351e-03 1.65194858e-03\n",
      " 3.38420522e-03 1.77199891e-03 4.38059866e-03 2.55983058e-03\n",
      " 4.90767405e-03 1.64956612e-03 3.07573629e-03 1.98327511e-03\n",
      " 1.02623719e-02 2.09696166e-03 2.18237293e-03 9.52732890e-04\n",
      " 4.60864034e-02 1.11798172e-03 3.91052670e-03 1.29208537e-03\n",
      " 1.07944812e-02 1.69631637e-03 7.23009972e-03 7.30052207e-04\n",
      " 2.61213510e-03 2.74784124e-03 4.27386804e-03 8.67225174e-03\n",
      " 3.86116911e-03 3.30430425e-02 4.42522163e-03 1.92285802e-02\n",
      " 1.61535995e-02 1.50373557e-03 7.09254822e-03 7.96141803e-03\n",
      " 1.62447799e-03 7.08807157e-04 8.00153624e-03 1.62428298e-03\n",
      " 9.27004029e-04 3.48286451e-03 2.18093856e-03 3.68579782e-03\n",
      " 2.98619014e-03 1.60518505e-02 8.62210495e-04 3.72298568e-03\n",
      " 2.26735283e-03 1.11768830e-02 3.80417156e-03 8.81872880e-04\n",
      " 2.73037917e-03 2.01214630e-03 1.64564873e-03 3.34576020e-03\n",
      " 2.13993244e-03 3.66260367e-03 1.65251108e-03 5.74933333e-03\n",
      " 5.39181528e-03 2.21057410e-03 2.47420142e-03 3.35752308e-03\n",
      " 6.98716669e-03 5.89720007e-04 7.67573701e-03 1.81231439e-03\n",
      " 1.88517749e-03 3.07996743e-03 2.79940422e-02 2.78366574e-02\n",
      " 8.25661459e-03 2.07393050e-03 1.68952043e-03 2.48493726e-03\n",
      " 6.12824166e-04 7.35321101e-03 4.73652723e-03 1.41073873e-03\n",
      " 3.01611033e-03 1.88289964e-03 3.15188149e-02 1.30231399e-03\n",
      " 3.65106804e-03 3.52845121e-03 9.43010713e-03 3.55866026e-03\n",
      " 2.77563285e-03 1.38031059e-03 2.13491499e-03 2.71862141e-03\n",
      " 1.46916866e-03 2.32176069e-03 4.15394130e-03 5.60737311e-03\n",
      " 8.91425175e-04 7.06501218e-04 3.45389601e-03 5.38432092e-03\n",
      " 2.24309856e-03 7.83720344e-04 1.65650337e-03 2.67993511e-03\n",
      " 2.24103291e-03 2.83912596e-03 2.09746379e-03 1.23067397e-02\n",
      " 6.59994901e-03 8.34362320e-03 1.71013147e-03 2.20987919e-03\n",
      " 3.09593542e-03 6.09836375e-03 3.32807635e-03 5.57826205e-03\n",
      " 2.42129940e-02 3.26949958e-03 2.61116909e-03 4.06250561e-04\n",
      " 6.00027614e-03 1.55815771e-01 5.06981888e-03 3.65423949e-03\n",
      " 2.71950445e-03 3.48771181e-03 4.33631644e-03 2.06160861e-03\n",
      " 7.97623295e-04 5.33378554e-03 4.22186806e-03 8.66732719e-04\n",
      " 3.41565161e-03 3.83940492e-03 2.95553310e-03 1.59940729e-03\n",
      " 1.88157577e-03 1.45931399e-03 1.98147144e-03 9.36741794e-03\n",
      " 2.74000706e-03 1.05644819e-03 1.25173460e-03 1.79100160e-03\n",
      " 5.87379970e-04 2.05071838e-03 3.19387340e-04 1.93870675e-03\n",
      " 2.00414520e-03 1.88861656e-02 3.20563626e-03 1.34693339e-03\n",
      " 1.37353932e-03 1.72767240e-03 1.76599173e-03 2.53116075e-03\n",
      " 6.52522438e-02 5.04788370e-03 9.04217600e-03 1.72339446e-03\n",
      " 1.27372776e-01 1.63620078e-03 4.82220394e-03 1.29165751e-03\n",
      " 1.15276518e-02 1.47383465e-01 1.31461561e-03 1.57870997e-03\n",
      " 1.91041780e-03 1.25420331e-03 4.18260633e-04 2.34838016e-02\n",
      " 4.84028416e-03 7.68010062e-03 1.06931301e-03 3.65802870e-03\n",
      " 1.05495359e-02 2.67272983e-03 7.55395659e-04 4.89548621e-03\n",
      " 1.47928994e-03 7.93468151e-03 5.01922641e-03 1.72806401e-02\n",
      " 3.21338562e-03 5.76578075e-03 6.05075360e-03 2.72721100e-03\n",
      " 2.88516429e-03 1.40537562e-03 6.91339757e-03 3.66226990e-03\n",
      " 5.64865624e-04 1.43528935e-03 1.84728699e-03 6.92609914e-03\n",
      " 2.20105979e-03 1.43762292e-02 7.96415314e-03 2.99726706e-03\n",
      " 2.16802062e-03 7.25386692e-03 1.63110222e-03 2.15547670e-03\n",
      " 1.72535232e-03 1.51108799e-03 2.66818799e-03 7.46676978e-03\n",
      " 6.36889485e-03 5.20395173e-02 4.62431729e-03 2.39822958e-03\n",
      " 2.07543049e-03 9.01765247e-04 1.64554216e-03 2.38824961e-02\n",
      " 6.58893982e-03 4.01987746e-03 3.10200844e-03 1.48510651e-02\n",
      " 4.27431856e-03 9.57928825e-04 1.11932376e-02 1.63586834e-03\n",
      " 1.48208651e-03 3.18563020e-03 7.96962994e-04 5.11939073e-03\n",
      " 8.14994255e-04 1.77255066e-03 9.06072439e-02 5.49408375e-03\n",
      " 1.53702025e-02 1.64901732e-02 8.46491057e-04 4.79979586e-03\n",
      " 1.89016144e-03 1.00483278e-03 2.99426459e-03 7.44852078e-03\n",
      " 1.37148431e-03 1.42044681e-01 1.36936723e-03 2.85734885e-03\n",
      " 1.32060998e-02 2.89327445e-03 3.21799892e-03 9.59246954e-03\n",
      " 1.81213389e-03 1.94608726e-03 4.77639459e-03 3.37170742e-03\n",
      " 3.93178813e-03 4.85507699e-03 2.95553876e-02 3.37905058e-03\n",
      " 1.21782618e-02 1.14999790e-03 2.93359112e-03 8.12306324e-04\n",
      " 3.20387281e-03 2.29880263e-03 1.78423466e-02 2.56235994e-03\n",
      " 2.96255838e-03 9.16605676e-04 1.98662670e-03 5.03467381e-04\n",
      " 1.38272505e-03 3.59367329e-03 8.89090662e-04 5.88235294e-02\n",
      " 1.69906791e-03 7.12486946e-03 5.10329294e-03 3.31862113e-03\n",
      " 2.28761194e-03 1.01337320e-03 1.52109138e-03 2.37932873e-03\n",
      " 8.00775909e-03 2.21422213e-03 1.11696985e-03 4.39110715e-03\n",
      " 1.82270696e-03 1.42799421e-03 4.04132231e-03 2.42404798e-02\n",
      " 3.80304433e-04 2.79776651e-03 1.65419731e-03 2.58822640e-03\n",
      " 3.14726952e-03 7.55199961e-03 1.47414275e-03 4.03287607e-03\n",
      " 5.06286309e-03 3.67795896e-03 1.34578146e-02 2.77641262e-03\n",
      " 2.70198709e-03 1.13179089e-02 1.07631590e-03 1.48959360e-02\n",
      " 5.10272834e-04 2.61451390e-03 1.40708429e-03 1.64790860e-03\n",
      " 1.03087632e-02 2.06017800e-03 2.83207514e-03 4.28884389e-03\n",
      " 1.20835627e-03 4.73233456e-03 5.41003249e-03 1.22502389e-03\n",
      " 1.21751054e-02 3.08091235e-04 2.16471842e-03 3.98375931e-03\n",
      " 1.12461047e-03 6.11621255e-04 1.94246656e-02 2.73672414e-03\n",
      " 1.23144518e-03 3.78445888e-03 1.34466078e-03 4.44496176e-03\n",
      " 2.69792322e-03 2.29273544e-03 2.92740047e-04 1.53523892e-03\n",
      " 1.03841422e-03 1.46164822e-03 5.06259635e-04 3.08476190e-03\n",
      " 5.74984262e-03 5.54258312e-03 4.60547063e-03 8.31640202e-03\n",
      " 2.22970453e-03 1.71335276e-03 8.46712512e-03 8.54411145e-03\n",
      " 1.85755480e-03 3.58013483e-03 1.59408471e-02 4.44637526e-03\n",
      " 2.20273101e-03 2.88742427e-03 2.26848215e-03 5.05707426e-02\n",
      " 4.53834615e-02 1.09894408e-03 1.59159851e-02 2.30519613e-01\n",
      " 2.12210664e-03 6.09587325e-04 2.84177086e-03 2.32833454e-03\n",
      " 7.17619442e-02 8.99733756e-04 3.57291248e-04 2.49508473e-02\n",
      " 2.73296043e-04 1.98051472e-03 6.10414337e-03 3.52488713e-03\n",
      " 1.29811706e-02 1.71476634e-03 2.93426642e-02 1.88304508e-03\n",
      " 2.08989756e-03 6.69026181e-03 4.26462011e-02 1.56467782e-03\n",
      " 3.89268993e-03 4.24623676e-03 6.40759214e-02 2.97983430e-03\n",
      " 5.41985246e-03 8.65544998e-03 2.13239158e-03 2.75264156e-03\n",
      " 7.83498499e-03 2.90869827e-03 8.36072520e-03 3.71439334e-03\n",
      " 2.86420765e-02 1.79929654e-03 4.34563198e-03 1.04726554e-03\n",
      " 2.24136046e-03 4.09879148e-03 1.54154136e-03 5.16827058e-03\n",
      " 2.62777544e-03]\n",
      "13075\n",
      "The total time is 1.114819049835205 seconds\n"
     ]
    }
   ],
   "source": [
    "#tracemalloc.start()\n",
    "intial_time = time.time()\n",
    "print(mrr_score(model, test))\n",
    "#current, peak = tracemalloc.get_traced_memory()\n",
    "print(os.getpid())\n",
    "#print(f\"Inital memory usage was {current / 10**6} MB; Peak was {peak / 10**6} MB; and difference is {(peak / 10**6) - (current / 10**6)} MB\")\n",
    "print(f\"The total time is {time.time() - intial_time} seconds\")\n"
   ]
  },
  {
   "cell_type": "code",
   "execution_count": 11,
   "metadata": {},
   "outputs": [
    {
     "name": "stdout",
     "output_type": "stream",
     "text": [
      "Root Mean Squared Error is 1.0714614391326904\n",
      "Inital memory usage was 0.003938 MB; Peak was 0.407204 MB; and difference is 0.403266 MB\n",
      "The total time is 0.006630897521972656 seconds\n"
     ]
    }
   ],
   "source": [
    "tracemalloc.start()\n",
    "\n",
    "\n",
    "tracemalloc.start()\n",
    "intial_time = time.time()\n",
    "print(f\"Root Mean Squared Error is {rmse_score(model, test)}\")\n",
    "current, peak = tracemalloc.get_traced_memory()\n",
    "\n",
    "print(f\"Inital memory usage was {current / 10**6} MB; Peak was {peak / 10**6} MB; and difference is {(peak / 10**6) - (current / 10**6)} MB\")\n",
    "print(f\"The total time is {time.time() - intial_time} seconds\")"
   ]
  },
  {
   "cell_type": "code",
   "execution_count": 22,
   "metadata": {},
   "outputs": [
    {
     "name": "stdout",
     "output_type": "stream",
     "text": [
      "90752\n",
      "90752\n",
      "Root Mean Squared Error is 1.0128930807113647\n",
      "80668\n",
      "80668\n",
      "Root Mean Squared Error is 1.0671584606170654\n",
      "70585\n",
      "70585\n",
      "Root Mean Squared Error is 1.112313151359558\n",
      "60501\n",
      "60501\n",
      "Root Mean Squared Error is 1.2214707136154175\n",
      "50418\n",
      "50418\n",
      "Root Mean Squared Error is 1.3641984462738037\n",
      "40334\n",
      "40334\n",
      "Root Mean Squared Error is 1.6188830137252808\n",
      "30250\n",
      "30250\n",
      "Root Mean Squared Error is 2.292501449584961\n",
      "20167\n",
      "20167\n",
      "Root Mean Squared Error is 2.9873688220977783\n",
      "10083\n",
      "10083\n",
      "Root Mean Squared Error is 3.379795551300049\n"
     ]
    }
   ],
   "source": [
    "# scikit-learn bootstrap\n",
    "from sklearn.utils import resample\n",
    "# data sample\n",
    "\n",
    "# prepare bootstrap sample\n",
    "for i in range(9,0,-1):\n",
    "    boot_uid = resample(uids, n_samples=int(uids.size * i /10), random_state=1)\n",
    "    boot_iid = resample(iids, n_samples=int(iids.size * i /10), random_state=1)\n",
    "    print(boot_uid.size)\n",
    "    \n",
    "    boot_ratings = resample(ratings, n_samples=int(ratings.size * i /10), random_state=1)\n",
    "    boot_timestamps = resample(timestamps,n_samples=int(timestamps.size * i /10), random_state=1)\n",
    "    print(boot_ratings.size)\n",
    "    dataset_boot = Interactions(user_ids=boot_uid,item_ids=boot_iid,ratings=boot_ratings,timestamps=boot_timestamps)\n",
    "\n",
    "    #lets initialise the seed, so that its repeatable and reproducible \n",
    "    train, test = random_train_test_split(dataset_boot, test_percentage=0.2)\n",
    "    #tracemalloc.start()\n",
    "    model = ExplicitFactorizationModel(n_iter=1)\n",
    "    #intial_time = time.time()\n",
    "    model.fit(train)\n",
    "    print(f\"Root Mean Squared Error is {rmse_score(model, test)}\")\n",
    "    #current, peak = tracemalloc.get_traced_memory()\n",
    "\n",
    "    #print(f\"Inital memory usage was {current / 10**6} MB; Peak was {peak / 10**6} MB; and difference is {(peak / 10**6) - (current / 10**6)} MB\")\n",
    "    #print(f\"The total time is {time.time() - intial_time} seconds\")\n",
    "\n",
    "    #tracemalloc.stop()\n",
    "\n",
    "\n",
    "    \n",
    "    \n",
    "\n",
    "\n",
    "\n",
    "\n"
   ]
  },
  {
   "cell_type": "code",
   "execution_count": null,
   "metadata": {},
   "outputs": [],
   "source": []
  },
  {
   "cell_type": "code",
   "execution_count": null,
   "metadata": {},
   "outputs": [],
   "source": []
  }
 ],
 "metadata": {
  "kernelspec": {
   "display_name": "Python 3",
   "language": "python",
   "name": "python3"
  },
  "language_info": {
   "codemirror_mode": {
    "name": "ipython",
    "version": 3
   },
   "file_extension": ".py",
   "mimetype": "text/x-python",
   "name": "python",
   "nbconvert_exporter": "python",
   "pygments_lexer": "ipython3",
   "version": "3.6.10"
  }
 },
 "nbformat": 4,
 "nbformat_minor": 4
}
