{
 "cells": [
  {
   "cell_type": "code",
   "execution_count": 1,
   "metadata": {},
   "outputs": [],
   "source": [
    "from spotlight.cross_validation import user_based_train_test_split\n",
    "from spotlight.datasets.movielens import get_movielens_dataset\n",
    "from spotlight.evaluation import rmse_score,mrr_score\n",
    "from spotlight.factorization.explicit import ExplicitFactorizationModel\n",
    "import pandas as pd\n",
    "import numpy as np"
   ]
  },
  {
   "cell_type": "code",
   "execution_count": 2,
   "metadata": {},
   "outputs": [],
   "source": [
    "ratings_df = pd.read_csv(\"ml-latest-small/ratings.csv\")\n",
    "movies_df = pd.read_csv(\"ml-latest-small/movies.csv\")\n",
    "\n",
    "from collections import defaultdict\n",
    "from itertools import count\n",
    "\n",
    "uid_map = defaultdict(count().__next__)\n",
    "iid_map = defaultdict(count().__next__)\n",
    "uids = np.array([uid_map[uid] for uid in ratings_df[\"userId\"].values ], dtype=np.int32)\n",
    "iids = np.array([iid_map[iid] for iid in ratings_df[\"movieId\"].values ], dtype=np.int32)\n",
    "\n",
    "\n",
    "uid_rev_map = {v: k for k, v in uid_map.items()}\n",
    "iid_rev_map = {v: k for k, v in iid_map.items()}\n",
    "\n",
    "\n",
    "ratings = ratings_df[\"rating\"].values.astype(np.float32)\n",
    "timestamps = ratings_df[\"timestamp\"].values.astype(np.int32)\n",
    "\n",
    "from spotlight.interactions import Interactions\n",
    "from spotlight.cross_validation import random_train_test_split\n",
    "\n",
    "dataset = Interactions(user_ids=uids,item_ids=iids,ratings=ratings,timestamps=timestamps)\n",
    "\n",
    "#lets initialise the seed, so that its repeatable and reproducible \n",
    "train, test = random_train_test_split(dataset, test_percentage=0.2)"
   ]
  },
  {
   "cell_type": "code",
   "execution_count": 3,
   "metadata": {},
   "outputs": [
    {
     "data": {
      "text/plain": [
       "<Interactions dataset (610 users x 9724 items x 100836 interactions)>"
      ]
     },
     "execution_count": 3,
     "metadata": {},
     "output_type": "execute_result"
    }
   ],
   "source": [
    "dataset"
   ]
  },
  {
   "cell_type": "code",
   "execution_count": 4,
   "metadata": {},
   "outputs": [
    {
     "data": {
      "text/plain": [
       "<Interactions dataset (610 users x 9724 items x 80668 interactions)>"
      ]
     },
     "execution_count": 4,
     "metadata": {},
     "output_type": "execute_result"
    }
   ],
   "source": [
    "train"
   ]
  },
  {
   "cell_type": "code",
   "execution_count": 5,
   "metadata": {},
   "outputs": [
    {
     "data": {
      "text/plain": [
       "<Interactions dataset (610 users x 9724 items x 20168 interactions)>"
      ]
     },
     "execution_count": 5,
     "metadata": {},
     "output_type": "execute_result"
    }
   ],
   "source": [
    "test"
   ]
  },
  {
   "cell_type": "code",
   "execution_count": 6,
   "metadata": {},
   "outputs": [
    {
     "name": "stdout",
     "output_type": "stream",
     "text": [
      "32212\n"
     ]
    }
   ],
   "source": [
    "import os\n",
    "print(os.getpid())"
   ]
  },
  {
   "cell_type": "code",
   "execution_count": 7,
   "metadata": {},
   "outputs": [
    {
     "name": "stdout",
     "output_type": "stream",
     "text": [
      "The total time is 1.6932282447814941 seconds\n"
     ]
    }
   ],
   "source": [
    "import tracemalloc\n",
    "import time\n",
    "\n",
    "\n",
    "#tracemalloc.start()\n",
    "model = ExplicitFactorizationModel(n_iter=1)\n",
    "intial_time = time.time()\n",
    "model.fit(train)\n",
    "#current, peak = tracemalloc.get_traced_memory()\n",
    "\n",
    "#print(f\"Inital memory usage was {current / 10**6} MB; Peak was {peak / 10**6} MB; and difference is {(peak / 10**6) - (current / 10**6)} MB\")\n",
    "print(f\"The total time is {time.time() - intial_time} seconds\")\n",
    "\n",
    "tracemalloc.stop()\n",
    "#snapshot2 = tracemalloc.take_snapshot()\n",
    "\n"
   ]
  },
  {
   "cell_type": "code",
   "execution_count": 8,
   "metadata": {},
   "outputs": [
    {
     "name": "stdout",
     "output_type": "stream",
     "text": [
      "[2.00234926e-03 1.05978307e-02 4.51471994e-04 2.31754161e-03\n",
      " 1.36842740e-02 3.75362181e-03 2.21120406e-03 3.80223890e-03\n",
      " 6.84733436e-04 1.47308539e-03 1.58687127e-03 8.58676068e-04\n",
      " 4.18118676e-03 6.95549517e-03 3.45339013e-03 4.71027333e-03\n",
      " 5.62293928e-03 7.05923867e-03 1.56520051e-03 8.59024986e-04\n",
      " 1.78980824e-03 5.95786047e-03 7.64973668e-03 2.10116999e-03\n",
      " 2.11511956e-03 1.17896715e-03 2.93003789e-03 5.16887324e-03\n",
      " 5.17057675e-03 1.41886864e-02 8.69838202e-04 4.32888394e-03\n",
      " 3.80739573e-03 9.17878249e-04 1.45908926e-02 1.09013968e-02\n",
      " 5.57790692e-02 7.09697082e-02 2.85505953e-03 3.77903520e-03\n",
      " 3.51218400e-03 1.25895688e-03 1.93230070e-03 5.64327244e-04\n",
      " 1.27720322e-03 7.93256758e-02 1.73287799e-03 6.89407557e-04\n",
      " 1.56250000e-02 9.24863282e-04 2.57828845e-03 3.29685927e-03\n",
      " 8.02557907e-03 4.06125554e-03 2.78054841e-03 5.71253438e-02\n",
      " 2.35684169e-03 4.70106399e-03 5.43935786e-03 1.15057199e-03\n",
      " 3.46652192e-03 3.63272276e-03 4.02079718e-03 3.00719423e-03\n",
      " 4.13598293e-03 4.79135402e-03 6.89862325e-03 5.48994759e-03\n",
      " 2.33934340e-03 3.55846468e-03 3.57142660e-03 2.56472010e-03\n",
      " 1.87961585e-03 2.97657207e-03 2.44250942e-03 1.00386503e-02\n",
      " 1.88068576e-02 4.03612166e-03 5.22300297e-03 1.62252861e-03\n",
      " 2.75203820e-03 2.84776062e-03 4.29179793e-03 3.55518244e-03\n",
      " 4.92394443e-04 1.49609542e-03 9.00900901e-03 9.10489757e-03\n",
      " 6.50532238e-03 6.15758056e-04 3.44537301e-03 8.71774695e-04\n",
      " 5.78809200e-03 8.31286570e-03 2.05642308e-03 2.36924124e-03\n",
      " 1.47361081e-03 1.83667645e-03 1.81997267e-03 1.70818921e-03\n",
      " 8.91662932e-04 1.81284066e-02 2.96304324e-03 1.84609567e-03\n",
      " 5.27905302e-03 5.83573609e-03 3.22580645e-02 1.16946823e-03\n",
      " 2.32867188e-03 6.84091197e-03 1.89574649e-03 1.03539543e-02\n",
      " 1.11357506e-03 3.63447558e-03 3.80835334e-03 5.44718178e-03\n",
      " 2.08043654e-03 2.31944990e-03 3.28858733e-03 1.22225293e-03\n",
      " 2.44107605e-03 2.67136769e-03 1.09505765e-03 3.24464851e-03\n",
      " 1.68338656e-03 2.51767638e-02 1.94153914e-03 3.10904328e-03\n",
      " 2.56949758e-03 3.70111701e-02 2.42174165e-03 2.78497735e-03\n",
      " 1.66831889e-01 6.39099759e-03 1.88526029e-03 1.56101434e-03\n",
      " 6.20170422e-03 1.67770978e-03 7.15312315e-03 2.32509789e-03\n",
      " 3.55871863e-03 2.05508540e-02 3.45245482e-03 6.76375334e-03\n",
      " 6.76589986e-04 5.09361499e-04 1.74368227e-03 5.78373649e-03\n",
      " 2.84687387e-03 6.71140940e-03 9.04339395e-04 8.95136616e-03\n",
      " 1.93713324e-02 9.03648623e-03 1.11260156e-03 2.52968689e-03\n",
      " 4.04676587e-03 2.58817891e-04 1.27442423e-02 3.70978902e-03\n",
      " 1.50012294e-02 8.29783415e-03 1.27795738e-03 6.93636164e-04\n",
      " 2.91795325e-03 2.83302251e-03 3.67161421e-03 2.82979030e-03\n",
      " 1.83254747e-03 1.44436729e-02 1.36510318e-03 9.15591858e-04\n",
      " 1.00650428e-02 1.91852980e-02 2.42745061e-03 1.41748804e-02\n",
      " 2.93898728e-03 3.68915199e-03 4.73917234e-03 6.29211064e-03\n",
      " 6.34883853e-03 1.80353537e-03 2.65307168e-02 2.34255052e-03\n",
      " 6.07720646e-03 1.65727995e-03 4.39637968e-03 1.66911005e-03\n",
      " 1.66270266e-02 4.99448210e-03 1.17665261e-03 6.29301862e-02\n",
      " 3.97055830e-03 4.67930219e-04 4.56602995e-03 3.33009544e-03\n",
      " 6.54319478e-03 3.63887644e-03 7.25123398e-03 2.03408101e-03\n",
      " 3.62512001e-03 6.47663005e-03 2.12740068e-03 6.03013267e-03\n",
      " 1.70046831e-03 1.51863334e-03 1.51034503e-03 2.91793900e-03\n",
      " 1.92828328e-03 7.16162942e-03 5.23542118e-03 3.39020393e-03\n",
      " 1.36300027e-03 4.19139069e-02 7.02720501e-03 3.44290861e-03\n",
      " 3.18593548e-03 1.24556464e-03 4.55661685e-03 4.40466745e-03\n",
      " 5.90229232e-03 1.00171351e-02 6.70879268e-03 4.44480971e-03\n",
      " 1.90390839e-03 2.10054176e-03 5.17519706e-03 6.23368102e-04\n",
      " 9.89221780e-03 1.52429445e-03 1.12093831e-02 1.44775139e-03\n",
      " 3.66882155e-03 3.25835088e-03 5.59570245e-03 4.23164689e-04\n",
      " 2.79235821e-03 3.65882712e-03 2.42897027e-03 9.18788847e-03\n",
      " 1.47459981e-03 1.64872211e-01 1.17392476e-02 8.11608033e-04\n",
      " 2.73463212e-03 3.91423636e-03 4.31399678e-03 2.34774398e-03\n",
      " 1.37962787e-03 4.62411116e-04 5.40205819e-03 2.87227922e-03\n",
      " 2.92248028e-03 3.16719015e-03 3.07694219e-03 1.86932122e-03\n",
      " 1.67311054e-03 1.04720072e-02 1.61837841e-03 6.29598294e-03\n",
      " 1.98133569e-02 1.87890289e-03 1.81581829e-03 5.50356304e-03\n",
      " 3.31295568e-02 5.19026363e-03 1.89222318e-03 1.89364440e-03\n",
      " 1.39801422e-03 4.75740426e-03 5.31719820e-03 5.83249928e-03\n",
      " 5.45606383e-03 5.69579161e-03 5.03891870e-03 4.26629998e-03\n",
      " 1.70511384e-02 8.20266772e-04 4.57016349e-03 1.30778300e-03\n",
      " 7.35015764e-04 2.62284926e-03 5.16205349e-03 6.52851329e-04\n",
      " 7.75168951e-03 2.48174566e-03 6.03446442e-03 3.22135252e-03\n",
      " 3.09415533e-03 6.23174247e-03 3.12185428e-03 3.35501104e-03\n",
      " 1.02091529e-03 2.49050456e-03 3.02612464e-03 5.61879111e-03\n",
      " 3.07200940e-03 2.63079513e-03 1.29454279e-03 5.36104435e-03\n",
      " 2.17168250e-03 9.46993757e-03 2.87462030e-03 2.57717420e-02\n",
      " 1.72447038e-03 1.21360336e-03 6.46770787e-03 9.41492118e-03\n",
      " 1.76110986e-03 4.39515044e-03 2.81384844e-04 3.66260095e-03\n",
      " 3.57504988e-03 1.53947240e-02 5.38916010e-03 1.46421100e-03\n",
      " 3.05965218e-03 2.99305517e-03 5.29610337e-03 1.48688588e-03\n",
      " 2.20806357e-02 2.91594353e-03 2.91864138e-02 1.85326576e-03\n",
      " 1.96783169e-03 1.07097180e-02 5.65444304e-03 1.01229406e-02\n",
      " 6.54105148e-03 2.51890359e-03 2.49678941e-03 1.56168748e-03\n",
      " 1.46994212e-03 5.60234592e-03 6.54393476e-03 1.96062100e-03\n",
      " 6.03006402e-03 1.08604513e-04 1.74170412e-03 6.89075664e-02\n",
      " 6.66480266e-04 2.81499228e-03 4.58873758e-03 2.64197244e-03\n",
      " 3.61252211e-03 2.66477926e-03 7.47385307e-02 2.20906527e-03\n",
      " 3.62428239e-02 8.48289037e-02 2.21588454e-03 3.25369898e-03\n",
      " 1.55589622e-03 1.68211324e-03 4.42810429e-04 1.83265126e-03\n",
      " 2.49329423e-03 4.96511252e-04 1.77596291e-03 3.04845571e-02\n",
      " 1.39365736e-03 2.99205237e-03 1.03552412e-02 3.56290449e-03\n",
      " 3.59375740e-03 3.55839199e-03 4.20142469e-03 4.72556166e-03\n",
      " 1.31793231e-03 4.50250868e-03 1.96099085e-03 1.52119508e-02\n",
      " 1.66002006e-03 5.54126693e-03 1.03065937e-03 1.11875637e-03\n",
      " 1.13042210e-03 1.07901753e-02 3.15934522e-02 1.63660436e-03\n",
      " 2.85498238e-03 2.09508417e-03 8.68959986e-03 1.26615331e-02\n",
      " 3.95522007e-03 4.31884094e-03 5.29859572e-03 1.68492536e-03\n",
      " 7.09440024e-04 7.94162678e-04 1.66255893e-02 3.68025815e-03\n",
      " 2.73721529e-03 7.03231293e-02 2.64164417e-03 2.57616047e-03\n",
      " 1.29742795e-03 1.32895882e-03 4.33429401e-03 2.98889700e-03\n",
      " 1.96722717e-03 5.27464008e-03 3.74189860e-03 1.87341534e-02\n",
      " 2.81948654e-03 3.64660264e-04 4.65646621e-03 5.60778865e-03\n",
      " 3.25575879e-03 1.42926223e-03 3.90559113e-02 2.66410371e-03\n",
      " 2.74479482e-03 1.66314088e-03 3.27957554e-03 4.84512389e-03\n",
      " 3.81212287e-03 1.87368274e-03 8.32488830e-04 3.50067167e-03\n",
      " 3.53010852e-03 2.00685562e-03 5.60004878e-03 3.36698346e-03\n",
      " 2.98863084e-03 8.16330977e-03 1.42715162e-03 3.73651611e-03\n",
      " 6.18796401e-03 2.46563489e-03 2.39234450e-04 3.59557428e-03\n",
      " 1.67967613e-03 1.19166461e-02 3.84469130e-03 8.28187879e-04\n",
      " 1.55121156e-02 1.27711215e-03 1.07367000e-03 7.93406495e-04\n",
      " 2.92284844e-03 2.59240179e-03 3.44224279e-03 2.25787738e-03\n",
      " 7.75862907e-03 2.11876282e-02 6.29935664e-03 1.22816914e-03\n",
      " 2.39120257e-03 1.77562321e-03 2.60986030e-03 9.50525700e-03\n",
      " 2.04831268e-03 2.13137397e-03 2.01893855e-02 5.47078943e-04\n",
      " 3.47168055e-03 1.44818012e-02 2.10253175e-03 2.76191591e-03\n",
      " 3.93587081e-03 7.89962527e-03 3.26337631e-03 3.69373515e-03\n",
      " 2.87051116e-03 3.05102736e-03 7.26465369e-04 7.89932255e-03\n",
      " 4.36620030e-03 5.18657678e-02 7.73277186e-03 3.27636788e-03\n",
      " 1.14234754e-03 2.78265000e-03 2.96988089e-03 4.13637813e-03\n",
      " 2.53601300e-03 1.41350508e-03 7.66238616e-04 1.62966786e-03\n",
      " 3.44940861e-02 1.24350074e-03 1.42191176e-03 8.07531028e-03\n",
      " 6.83650168e-02 2.14259496e-03 1.01818744e-02 3.21748929e-03\n",
      " 3.21448163e-03 2.86680319e-03 1.27314574e-03 2.22408879e-03\n",
      " 1.29189792e-02 1.68160644e-02 1.96721356e-03 1.48033753e-03\n",
      " 4.56915575e-03 3.42152168e-03 1.63113634e-03 3.75619493e-03\n",
      " 2.14417951e-03 8.37196855e-04 2.10579055e-03 1.60916032e-03\n",
      " 2.25693328e-03 8.65798421e-04 1.50032932e-02 1.35839408e-03\n",
      " 3.51470519e-03 1.23579022e-03 1.13005022e-02 3.12270766e-02\n",
      " 8.93884547e-03 1.17019312e-02 6.02895463e-03 2.12334116e-02\n",
      " 6.74697358e-03 2.20150665e-03 1.39128171e-03 2.51221988e-02\n",
      " 1.44812723e-03 3.13525960e-03 2.67429273e-03 1.46480579e-02\n",
      " 1.39846669e-02 2.86813533e-03 1.62929108e-03 7.87235981e-03\n",
      " 6.04827491e-02 6.75481903e-02 7.01609787e-03 2.88933816e-03\n",
      " 5.58455711e-03 2.20353016e-03 3.88757449e-04 8.35335708e-03\n",
      " 1.68767425e-02 2.77352203e-03 1.12502620e-03 3.62769527e-03\n",
      " 6.55421968e-03 8.68719135e-04 5.56620954e-03 5.13699251e-04\n",
      " 3.16613443e-04 1.41440146e-03 4.93607426e-03 3.62271725e-04\n",
      " 1.81723249e-03 6.20675952e-03 3.76773311e-03 2.27118724e-03\n",
      " 1.91724755e-03 2.96047552e-03 1.08115029e-02 3.31288677e-03\n",
      " 1.32476261e-02 1.36765370e-03 1.73127766e-03 2.27822702e-03\n",
      " 2.08395360e-03 2.93976800e-03 3.95644174e-03 5.15727857e-03\n",
      " 1.01113028e-01 1.08864581e-02 1.52923988e-03 6.60253580e-03\n",
      " 8.18242214e-02 6.22120777e-03 4.90098074e-04 2.99679056e-03\n",
      " 2.85767102e-03 1.72011976e-02 7.71450895e-04 5.61585068e-03\n",
      " 2.36680521e-03 1.48715729e-04 2.87682376e-03 5.21881763e-03\n",
      " 5.42082969e-03 8.40133700e-03 1.02511460e-03 7.47451664e-03\n",
      " 1.29236259e-03 1.41986049e-03 3.21889419e-03 3.57819059e-03\n",
      " 6.03384129e-03 6.27170356e-03 5.50814280e-04 9.65030061e-03\n",
      " 1.94582797e-03 1.97714962e-03 5.66097505e-04 2.41332998e-03\n",
      " 9.68043471e-03 3.04220575e-03 2.48036822e-03 2.05965291e-03\n",
      " 5.76771599e-03 4.47589724e-03 2.39279119e-03 2.35344442e-03\n",
      " 2.01780404e-03 1.45903580e-03 1.58458036e-03 3.05224318e-03\n",
      " 1.11669924e-02 1.91007227e-03]\n",
      "32212\n",
      "The total time is 1.146134853363037 seconds\n"
     ]
    }
   ],
   "source": [
    "#tracemalloc.start()\n",
    "intial_time = time.time()\n",
    "print(mrr_score(model, test))\n",
    "#current, peak = tracemalloc.get_traced_memory()\n",
    "print(os.getpid())\n",
    "#print(f\"Inital memory usage was {current / 10**6} MB; Peak was {peak / 10**6} MB; and difference is {(peak / 10**6) - (current / 10**6)} MB\")\n",
    "print(f\"The total time is {time.time() - intial_time} seconds\")\n"
   ]
  },
  {
   "cell_type": "code",
   "execution_count": 9,
   "metadata": {},
   "outputs": [
    {
     "name": "stdout",
     "output_type": "stream",
     "text": [
      "Root Mean Squared Error is 1.0727179050445557\n",
      "Inital memory usage was 0.004474 MB; Peak was 0.40774 MB; and difference is 0.403266 MB\n",
      "The total time is 0.00690007209777832 seconds\n"
     ]
    }
   ],
   "source": [
    "tracemalloc.start()\n",
    "\n",
    "\n",
    "tracemalloc.start()\n",
    "intial_time = time.time()\n",
    "print(f\"Root Mean Squared Error is {rmse_score(model, test)}\")\n",
    "current, peak = tracemalloc.get_traced_memory()\n",
    "\n",
    "print(f\"Inital memory usage was {current / 10**6} MB; Peak was {peak / 10**6} MB; and difference is {(peak / 10**6) - (current / 10**6)} MB\")\n",
    "print(f\"The total time is {time.time() - intial_time} seconds\")"
   ]
  },
  {
   "cell_type": "code",
   "execution_count": null,
   "metadata": {},
   "outputs": [
    {
     "name": "stdout",
     "output_type": "stream",
     "text": [
      "90752\n"
     ]
    }
   ],
   "source": [
    "# scikit-learn bootstrap\n",
    "from sklearn.utils import resample\n",
    "# data sample\n",
    "\n",
    "# prepare bootstrap sample\n",
    "for i in range(9,0,-1):\n",
    "    boot_uid = resample(uids, n_samples=int(uids.size * i /10), random_state=1)\n",
    "    boot_iid = resample(iids, n_samples=int(iids.size * i /10), random_state=1)\n",
    "    print(boot_uid.size)\n",
    "    int_iid = []\n",
    "    int_uid = []\n",
    "    int_ratings = []\n",
    "    int_timestamps = []\n",
    "    for rt in ratings_df['rating']:\n",
    "        for rt_u in ratings_df.loc[ratings_df['rating'] == rt]['userId']:           \n",
    "            if uid_map[rt_u] in boot_uid:\n",
    "                abc = ratings_df[(ratings_df['rating'] == rt) & (ratings_df['userId'] == rt_u)]\n",
    "                for a in abc['movieId']:\n",
    "                    if iid_map[a] in boot_iid:\n",
    "                        int_iid.append(uid_map[rt_u])\n",
    "                        int_uid.append(iid_map[a])\n",
    "                        int_ratings.append(rt)\n",
    "                        int_timestamps.append(ratings_df[(ratings_df['movieId'] == a) & (ratings_df['userId'] == rt_u)]['timestamp'].values)\n",
    "    \n",
    "       \n",
    "\n",
    "\n",
    "    print(np.array(int_iid).size)\n",
    "    print(np.array(int_uid).size)\n",
    "    print(np.array(int_ratings).size)\n",
    "    print(np.array(int_timestamps).size)\n",
    "\n",
    "\n",
    "    #boot_ratings = resample(ratings, n_samples=int(ratings.size * i /10), random_state=1)\n",
    "    #boot_timestamps = resample(timestamps,n_samples=int(timestamps.size * i /10), random_state=1)\n",
    "    #print(boot_ratings.size)\n",
    "    dataset_boot = Interactions(user_ids=int_uid,item_ids=int_uid,ratings=int_ratings,timestamps=int_timestamps)\n",
    "\n",
    "    #lets initialise the seed, so that its repeatable and reproducible \n",
    "    train, test = random_train_test_split(dataset_boot, test_percentage=0.2)\n",
    "    #tracemalloc.start()\n",
    "    model = ExplicitFactorizationModel(n_iter=1)\n",
    "    #intial_time = time.time()\n",
    "    model.fit(train)\n",
    "    print(f\"Root Mean Squared Error is {rmse_score(model, test)}\")\n",
    "    #current, peak = tracemalloc.get_traced_memory()\n",
    "\n",
    "    #tracemalloc.stop()\n",
    "    #     for a in np.array(list(set(boot_uid))):\n",
    "#         all_id = ratings_df.loc[ratings_df['userId'] == uid_rev_map[a]]\n",
    "#         bid = all_id['movieId']\n",
    "#         b_iid = [iid_map[iid] for iid in bid]\n",
    "#         for b in b_iid:\n",
    "#             boot_iid.append(b)\n",
    "#         br = all_id['rating']\n",
    "#         for c in br:\n",
    "#             boot_ratings.append(c)\n",
    "#         bts = all_id['timestamp']\n",
    "#         for d in bts:\n",
    "#             boot_timestamps.append(d)\n",
    "\n",
    "    \n",
    "    \n",
    "\n",
    "\n",
    "\n",
    "\n"
   ]
  },
  {
   "cell_type": "code",
   "execution_count": null,
   "metadata": {},
   "outputs": [],
   "source": []
  },
  {
   "cell_type": "code",
   "execution_count": null,
   "metadata": {},
   "outputs": [],
   "source": []
  }
 ],
 "metadata": {
  "kernelspec": {
   "display_name": "Python 3",
   "language": "python",
   "name": "python3"
  },
  "language_info": {
   "codemirror_mode": {
    "name": "ipython",
    "version": 3
   },
   "file_extension": ".py",
   "mimetype": "text/x-python",
   "name": "python",
   "nbconvert_exporter": "python",
   "pygments_lexer": "ipython3",
   "version": "3.6.10"
  }
 },
 "nbformat": 4,
 "nbformat_minor": 4
}
