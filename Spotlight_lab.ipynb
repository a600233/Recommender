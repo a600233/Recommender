{
 "cells": [
  {
   "cell_type": "code",
   "execution_count": 23,
   "metadata": {},
   "outputs": [],
   "source": [
    "from spotlight.cross_validation import user_based_train_test_split\n",
    "from spotlight.datasets.movielens import get_movielens_dataset\n",
    "from spotlight.evaluation import rmse_score,mrr_score,precision_recall_score\n",
    "from spotlight.factorization.explicit import ExplicitFactorizationModel\n",
    "import pandas as pd\n",
    "import numpy as np\n",
    "import os\n"
   ]
  },
  {
   "cell_type": "code",
   "execution_count": 24,
   "metadata": {},
   "outputs": [],
   "source": [
    "ratings_df = pd.read_csv(\"ml-latest-small/ratings.csv\")\n",
    "movies_df = pd.read_csv(\"ml-latest-small/movies.csv\")\n",
    "\n",
    "from collections import defaultdict\n",
    "from itertools import count\n",
    "\n",
    "uid_map = defaultdict(count().__next__)\n",
    "iid_map = defaultdict(count().__next__)\n",
    "uids = np.array([uid_map[uid] for uid in ratings_df[\"userId\"].values ], dtype=np.int32)\n",
    "iids = np.array([iid_map[iid] for iid in ratings_df[\"movieId\"].values ], dtype=np.int32)\n",
    "\n",
    "\n",
    "uid_rev_map = {v: k for k, v in uid_map.items()}\n",
    "iid_rev_map = {v: k for k, v in iid_map.items()}\n",
    "\n",
    "\n",
    "ratings = ratings_df[\"rating\"].values.astype(np.float32)\n",
    "timestamps = ratings_df[\"timestamp\"].values.astype(np.int32)\n",
    "\n",
    "from spotlight.interactions import Interactions\n",
    "from spotlight.cross_validation import random_train_test_split\n",
    "\n",
    "dataset = Interactions(user_ids=uids,item_ids=iids,ratings=ratings,timestamps=timestamps)\n",
    "\n",
    "#lets initialise the seed, so that its repeatable and reproducible \n",
    "train, test = random_train_test_split(dataset, test_percentage=0.2)"
   ]
  },
  {
   "cell_type": "code",
   "execution_count": 25,
   "metadata": {},
   "outputs": [
    {
     "data": {
      "text/plain": [
       "<Interactions dataset (610 users x 9724 items x 100836 interactions)>"
      ]
     },
     "execution_count": 25,
     "metadata": {},
     "output_type": "execute_result"
    }
   ],
   "source": [
    "dataset"
   ]
  },
  {
   "cell_type": "code",
   "execution_count": 26,
   "metadata": {},
   "outputs": [
    {
     "data": {
      "text/plain": [
       "<Interactions dataset (610 users x 9724 items x 80668 interactions)>"
      ]
     },
     "execution_count": 26,
     "metadata": {},
     "output_type": "execute_result"
    }
   ],
   "source": [
    "train"
   ]
  },
  {
   "cell_type": "code",
   "execution_count": 27,
   "metadata": {},
   "outputs": [
    {
     "data": {
      "text/plain": [
       "<Interactions dataset (610 users x 9724 items x 20168 interactions)>"
      ]
     },
     "execution_count": 27,
     "metadata": {},
     "output_type": "execute_result"
    }
   ],
   "source": [
    "test"
   ]
  },
  {
   "cell_type": "code",
   "execution_count": 28,
   "metadata": {},
   "outputs": [
    {
     "name": "stdout",
     "output_type": "stream",
     "text": [
      "50310\n"
     ]
    }
   ],
   "source": [
    "import os\n",
    "print(os.getpid())"
   ]
  },
  {
   "cell_type": "code",
   "execution_count": 29,
   "metadata": {},
   "outputs": [
    {
     "name": "stdout",
     "output_type": "stream",
     "text": [
      "The total time is 1.6610691547393799 seconds\n"
     ]
    }
   ],
   "source": [
    "import tracemalloc\n",
    "import time\n",
    "\n",
    "\n",
    "#tracemalloc.start()\n",
    "model = ExplicitFactorizationModel(n_iter=1)\n",
    "intial_time = time.time()\n",
    "model.fit(train)\n",
    "#current, peak = tracemalloc.get_traced_memory()\n",
    "\n",
    "#print(f\"Inital memory usage was {current / 10**6} MB; Peak was {peak / 10**6} MB; and difference is {(peak / 10**6) - (current / 10**6)} MB\")\n",
    "print(f\"The total time is {time.time() - intial_time} seconds\")\n",
    "\n",
    "tracemalloc.stop()\n",
    "#snapshot2 = tracemalloc.take_snapshot()\n",
    "\n"
   ]
  },
  {
   "cell_type": "code",
   "execution_count": 30,
   "metadata": {},
   "outputs": [
    {
     "name": "stdout",
     "output_type": "stream",
     "text": [
      "[0.0021206  0.0025118  0.00812398 0.00260971 0.00506422 0.00360756\n",
      " 0.0011882  0.02260296 0.00131675 0.00308321 0.00065737 0.0016475\n",
      " 0.00262124 0.01251009 0.00150383 0.01091646 0.02661984 0.00270073\n",
      " 0.00154309 0.00058714 0.00213852 0.0050239  0.00433856 0.00441526\n",
      " 0.00713473 0.05287494 0.00385681 0.00313741 0.00810544 0.00147735\n",
      " 0.0014817  0.01127782 0.00798321 0.0010063  0.00323253 0.00123535\n",
      " 0.08401195 0.0015726  0.00330375 0.00717042 0.00354771 0.00141058\n",
      " 0.00319982 0.00096736 0.00192814 0.02649895 0.00107377 0.00194781\n",
      " 0.00505103 0.00189646 0.0012827  0.00297903 0.00210274 0.01699128\n",
      " 0.00221265 0.00325838 0.00281727 0.01145128 0.0047016  0.07246772\n",
      " 0.04644429 0.00190383 0.00616485 0.00247489 0.01557392 0.00436669\n",
      " 0.00272555 0.00222172 0.00113871 0.00213023 0.00195728 0.01775662\n",
      " 0.00373525 0.00346921 0.00753746 0.00505399 0.00850366 0.0054245\n",
      " 0.0071511  0.0011181  0.05913835 0.0021182  0.00411063 0.01256974\n",
      " 0.00510731 0.00329401 0.00057871 0.00284256 0.00135605 0.0024219\n",
      " 0.00180756 0.0005394  0.00278998 0.00679395 0.00332181 0.00606116\n",
      " 0.00922124 0.00386652 0.00096339 0.00585591 0.00076462 0.02167335\n",
      " 0.00291625 0.00348098 0.0045111  0.00118086 0.00670803 0.00120733\n",
      " 0.01446619 0.00028703 0.00239457 0.00738368 0.00374584 0.00107752\n",
      " 0.0026918  0.00222997 0.00311093 0.01102052 0.00562559 0.0014157\n",
      " 0.01601762 0.00216972 0.00344464 0.0038596  0.00177599 0.18611162\n",
      " 0.00118089 0.00234538 0.00125047 0.01097047 0.00448452 0.00436045\n",
      " 0.04529536 0.01921981 0.0021623  0.00501024 0.01953125 0.00312007\n",
      " 0.01651371 0.00301329 0.00368459 0.00571841 0.01079451 0.00363906\n",
      " 0.00914689 0.00067112 0.00094618 0.00905479 0.00240417 0.00150034\n",
      " 0.00184959 0.00190464 0.01283449 0.02963174 0.00032439 0.00375704\n",
      " 0.00423996 0.00036801 0.00595382 0.00181026 0.00329858 0.00180173\n",
      " 0.00058663 0.00078668 0.07854041 0.00453534 0.0130787  0.00303273\n",
      " 0.00179949 0.00518497 0.01361663 0.0009261  0.00718211 0.00639565\n",
      " 0.00024666 0.00154334 0.00288059 0.00406294 0.02064764 0.00425402\n",
      " 0.00911786 0.00288256 0.00773223 0.00107162 0.00236909 0.00342973\n",
      " 0.00500882 0.00205595 0.0193635  0.0061267  0.01653274 0.00865467\n",
      " 0.00832186 0.00144778 0.00626763 0.02329109 0.00304253 0.00212034\n",
      " 0.00680305 0.00367099 0.00161024 0.00391972 0.00253883 0.00246304\n",
      " 0.00136631 0.01100003 0.00101609 0.00083362 0.01043264 0.00142123\n",
      " 0.00268975 0.00275753 0.00142177 0.00096987 0.00619408 0.03231404\n",
      " 0.00328036 0.002195   0.01528141 0.00213702 0.00491909 0.00309433\n",
      " 0.00759422 0.00205254 0.00250452 0.00385471 0.00309678 0.0027683\n",
      " 0.00243424 0.00680648 0.0059432  0.00150481 0.0035271  0.00089899\n",
      " 0.06367143 0.00319927 0.00247434 0.00211931 0.00765594 0.00635355\n",
      " 0.00246815 0.0030985  0.0016615  0.00434765 0.00814243 0.00342237\n",
      " 0.00389545 0.00612063 0.00292163 0.00123753 0.00851333 0.00242581\n",
      " 0.00297513 0.00269421 0.00099807 0.00197234 0.00502513 0.03780976\n",
      " 0.00219754 0.01338245 0.02500097 0.01244586 0.00353965 0.00587661\n",
      " 0.00254472 0.01006541 0.00587615 0.00617832 0.00093325 0.00551991\n",
      " 0.00091263 0.0047664  0.00308567 0.00247317 0.00316176 0.01814214\n",
      " 0.00039468 0.00064453 0.00480056 0.00289808 0.00279773 0.00289661\n",
      " 0.00164251 0.00391596 0.00193677 0.00424313 0.00705094 0.00223083\n",
      " 0.00076168 0.00970777 0.00182384 0.00258729 0.00250272 0.001357\n",
      " 0.00147659 0.00382321 0.00043591 0.00289304 0.00364741 0.0057479\n",
      " 0.00402071 0.00211392 0.0021907  0.00346055 0.00306994 0.00150359\n",
      " 0.00285863 0.00152878 0.0030387  0.00327469 0.01711681 0.00286665\n",
      " 0.00174664 0.01047319 0.00273129 0.00056816 0.0044208  0.00210485\n",
      " 0.00254905 0.00080113 0.0031229  0.00547171 0.00640255 0.000681\n",
      " 0.0018889  0.00327427 0.00503871 0.00470536 0.00798941 0.00706246\n",
      " 0.00367317 0.00460557 0.00088339 0.0061786  0.00741023 0.01185864\n",
      " 0.0096803  0.00607048 0.0024772  0.04249811 0.00208185 0.00061962\n",
      " 0.00298215 0.0024782  0.00058152 0.00322656 0.00206815 0.00568469\n",
      " 0.0101029  0.00321303 0.00149829 0.00307615 0.00183937 0.0027261\n",
      " 0.00248922 0.01104357 0.00329474 0.00116342 0.01679519 0.00106043\n",
      " 0.00082419 0.00505926 0.00561578 0.00373231 0.00145371 0.00310414\n",
      " 0.00824582 0.00470376 0.00283203 0.01972738 0.01678457 0.00446684\n",
      " 0.00270353 0.01644705 0.00065263 0.0020358  0.00273775 0.00353594\n",
      " 0.01427838 0.00256178 0.00416926 0.00255521 0.00132189 0.00062742\n",
      " 0.01092219 0.02054923 0.00173455 0.00038033 0.00752736 0.01268115\n",
      " 0.00339491 0.00151943 0.00171043 0.02523381 0.00132085 0.01697002\n",
      " 0.00457355 0.00229164 0.00273673 0.01551424 0.00080007 0.00126621\n",
      " 0.00740734 0.00229748 0.00107145 0.00378474 0.01085784 0.00150155\n",
      " 0.00146778 0.00281856 0.02741517 0.00202067 0.00690869 0.00186854\n",
      " 0.00587499 0.00090209 0.00138161 0.00160502 0.00386012 0.00148552\n",
      " 0.00164152 0.00293133 0.00256178 0.00283183 0.00215967 0.00352041\n",
      " 0.00125841 0.00383998 0.00305285 0.00241595 0.00127394 0.00465174\n",
      " 0.00479001 0.00884304 0.0241872  0.00820101 0.01072316 0.00140135\n",
      " 0.00070748 0.00307621 0.00355388 0.00079196 0.00355142 0.00857039\n",
      " 0.00531221 0.0063258  0.01930376 0.00110019 0.02063466 0.00220825\n",
      " 0.00298944 0.00116565 0.00122271 0.00090441 0.01415443 0.00037038\n",
      " 0.00318012 0.00574659 0.01273406 0.01241082 0.00446298 0.00263433\n",
      " 0.00278211 0.00643955 0.00392698 0.00625361 0.00039401 0.00194822\n",
      " 0.00353948 0.03528162 0.00225757 0.01435189 0.00517629 0.00280543\n",
      " 0.00159618 0.00154343 0.01040004 0.01043261 0.00125715 0.00262578\n",
      " 0.00094538 0.00367277 0.00201881 0.00227939 0.02670721 0.00126111\n",
      " 0.00884701 0.00641253 0.00366335 0.00916779 0.00217291 0.0015799\n",
      " 0.003052   0.00501562 0.00189046 0.00198614 0.00694109 0.02445631\n",
      " 0.00576645 0.00782317 0.00833071 0.00091372 0.00261362 0.0009244\n",
      " 0.00506047 0.00256279 0.00399785 0.00112288 0.00530687 0.00192981\n",
      " 0.00471647 0.01888798 0.00816804 0.00397945 0.00603379 0.00099505\n",
      " 0.00281533 0.0034269  0.00101293 0.00238664 0.00170432 0.00407956\n",
      " 0.00340787 0.00552079 0.00181953 0.00564542 0.00222384 0.00817433\n",
      " 0.01010284 0.00117435 0.00279856 0.01416548 0.00377516 0.00131019\n",
      " 0.00088983 0.00207817 0.00572803 0.00499563 0.00132049 0.00296289\n",
      " 0.01224929 0.00211886 0.00208106 0.0010837  0.00032901 0.00074373\n",
      " 0.00508423 0.00082387 0.0456096  0.00097858 0.00604742 0.00201445\n",
      " 0.0165968  0.00255959 0.0033563  0.00395911 0.00154825 0.00092303\n",
      " 0.00109184 0.00258006 0.00261247 0.00245038 0.00163917 0.00188656\n",
      " 0.00113507 0.01524828 0.00176992 0.00815419 0.05271912 0.00683597\n",
      " 0.00252943 0.0043334  0.00389363 0.00472512 0.00310857 0.01666389\n",
      " 0.00552833 0.00024323 0.00107304 0.0030336  0.00535611 0.0027355\n",
      " 0.01276866 0.00427722 0.00272822 0.00233438 0.00599556 0.00699578\n",
      " 0.00194578 0.00332674 0.00274284 0.00328785 0.00547245 0.00081675\n",
      " 0.00075636 0.0017965  0.00389173 0.00573589 0.00128329 0.00151179\n",
      " 0.00322567 0.01186885 0.00207446 0.00670152 0.00711919 0.00222629\n",
      " 0.00135783 0.0013376  0.00493213 0.00156248]\n",
      "50310\n",
      "The total time is 1.1285009384155273 seconds\n"
     ]
    }
   ],
   "source": [
    "#tracemalloc.start()\n",
    "intial_time = time.time()\n",
    "print(mrr_score(model, test))\n",
    "#current, peak = tracemalloc.get_traced_memory()\n",
    "print(os.getpid())\n",
    "#print(f\"Inital memory usage was {current / 10**6} MB; Peak was {peak / 10**6} MB; and difference is {(peak / 10**6) - (current / 10**6)} MB\")\n",
    "print(f\"The total time is {time.time() - intial_time} seconds\")\n"
   ]
  },
  {
   "cell_type": "code",
   "execution_count": 31,
   "metadata": {},
   "outputs": [
    {
     "name": "stdout",
     "output_type": "stream",
     "text": [
      "Root Mean Squared Error is 1.0843638181686401\n",
      "Inital memory usage was 0.002346 MB; Peak was 0.405612 MB; and difference is 0.40326599999999996 MB\n",
      "The total time is 0.006367921829223633 seconds\n"
     ]
    }
   ],
   "source": [
    "tracemalloc.start()\n",
    "\n",
    "\n",
    "tracemalloc.start()\n",
    "intial_time = time.time()\n",
    "print(f\"Root Mean Squared Error is {rmse_score(model, test)}\")\n",
    "current, peak = tracemalloc.get_traced_memory()\n",
    "\n",
    "print(f\"Inital memory usage was {current / 10**6} MB; Peak was {peak / 10**6} MB; and difference is {(peak / 10**6) - (current / 10**6)} MB\")\n",
    "print(f\"The total time is {time.time() - intial_time} seconds\")"
   ]
  },
  {
   "cell_type": "code",
   "execution_count": null,
   "metadata": {},
   "outputs": [
    {
     "name": "stdout",
     "output_type": "stream",
     "text": [
      "PID is 53740\n"
     ]
    }
   ],
   "source": [
    "# scikit-learn bootstrap\n",
    "from sklearn.utils import resample\n",
    "from multiprocessing import Process, Lock, cpu_count, active_children, Value\n",
    "import resource\n",
    "# data sample\n",
    "\n",
    "resample_train_cbn = []\n",
    "resample_test_cbn = []\n",
    "# prepare bootstrap sample\n",
    "for i in range(10,0,-1):\n",
    "    from sklearn.utils import resample\n",
    "    boot_uid = resample(uids, n_samples=int(uids.size * i / 10), random_state=1)\n",
    "    boot_iid = resample(iids, n_samples=int(iids.size * i / 10), random_state=1)\n",
    "#     print(boot_uid.size)\n",
    "    int_uid = []\n",
    "    int_iid = []\n",
    "    int_ratings = []\n",
    "    int_timestamps = []\n",
    "    \n",
    "    temp_sample = ratings_df[ratings_df['userId'].isin(boot_uid)]\n",
    "    final_sample = temp_sample[temp_sample['movieId'].isin(boot_iid)]\n",
    "    #print(final_sample)\n",
    "    int_uid = np.array([uid_map[uid] for uid in final_sample[\"userId\"].values ], dtype=np.int32)\n",
    "    int_iid = np.array([iid_map[iid] for iid in final_sample[\"movieId\"].values ], dtype=np.int32)\n",
    "    int_ratings = final_sample['rating'].values.astype(np.float32)\n",
    "    int_timestamps = final_sample['timestamp'].values.astype(np.int32)\n",
    "\n",
    "    dataset_boot = Interactions(user_ids=int_uid,item_ids=int_uid,ratings=int_ratings,timestamps=int_timestamps)\n",
    "    train, test = random_train_test_split(dataset_boot, test_percentage=0.2)\n",
    "    resample_train_cbn.append(train)\n",
    "    resample_test_cbn.append(test)\n",
    "#     print('---------------------')\n",
    "#     print(len(resample_train_cbn))\n",
    "#     print(len(resample_test_cbn))\n",
    "#     print('---------------------')\n",
    "\n",
    "def train_method(num_1,num_2):\n",
    "    print(f\"PID is {os.getpid()}\")\n",
    "    model = ExplicitFactorizationModel(n_iter=1)\n",
    "    intial_time =  resource.getrusage(resource.RUSAGE_SELF); \n",
    "    model.fit(resample_train_cbn[num_1])\n",
    "    final_time = resource.getrusage(resource.RUSAGE_SELF); \n",
    "    overall_time = final_time.ru_stime - intial_time.ru_stime\n",
    "    print(overall_time)\n",
    "    print(f\"Root Mean Squared Error is {rmse_score(model, resample_test_cbn[num_2])}\")\n",
    "#     print(f\"Root Mean Squared Error is {precision_recall_score(model, resample_test_cbn[num_2])}\")\n",
    "    #print(f\"Root Mean Squared Error is {rmse_score(model, test)}\")\n",
    "\n",
    "\n",
    "#train_method(0,0)\n",
    "\n",
    "if __name__ == '__main__':\n",
    "    \n",
    "    p10 = Process(target=train_method, args=(0,0,))\n",
    "    p9 = Process(target=train_method, args=(1,1,))\n",
    "    p8 = Process(target=train_method, args=(2,2,))\n",
    "    p7 = Process(target=train_method, args=(3,3,))\n",
    "    p6 = Process(target=train_method, args=(4,4,))\n",
    "    p5 = Process(target=train_method, args=(5,5,))\n",
    "    p4 = Process(target=train_method, args=(6,6,))\n",
    "    p3 = Process(target=train_method, args=(7,7,))\n",
    "    p2 = Process(target=train_method, args=(8,8,))\n",
    "    p1 = Process(target=train_method, args=(9,9,))\n",
    "    \n",
    "    p10.start()\n",
    "    p10.join()\n",
    "    p9.start()\n",
    "    p9.join()\n",
    "    p8.start()\n",
    "    p8.join()\n",
    "    p7.start()\n",
    "    p7.join()\n",
    "    p6.start()\n",
    "    p6.join()\n",
    "    p5.start()\n",
    "    p5.join()\n",
    "    p4.start()\n",
    "    p4.join()\n",
    "    p3.start()\n",
    "    p3.join()\n",
    "    p2.start()\n",
    "    p2.join()\n",
    "    p1.start()\n",
    "    p1.join()\n",
    "#     print(\"The number of CPU is:\" + str(cpu_count()))\n",
    "#     for p in active_children():\n",
    "#         print(\"child   p.name:\" + p.name + \"\\tp.id\" + str(p.pid))\n",
    "#     print (\"END!!!!!!!!!!!!!!!!!\")\n",
    "    \n",
    "# #     for num in range(10,0,-1):\n",
    "# #         Process(target=m, args=(lock, resample(i))).start()        \n"
   ]
  },
  {
   "cell_type": "code",
   "execution_count": null,
   "metadata": {},
   "outputs": [],
   "source": [
    "\n",
    "def f(l, i):\n",
    "    l.acquire()\n",
    "    try:\n",
    "        print('hello world', i)\n",
    "    finally:\n",
    "        l.release()\n",
    "\n",
    "if __name__ == '__main__':\n",
    "    lock = Lock()\n",
    "\n",
    "    for num in range(10):\n",
    "        Process(target=f, args=(lock, num)).start()"
   ]
  },
  {
   "cell_type": "code",
   "execution_count": 31,
   "metadata": {},
   "outputs": [
    {
     "name": "stdout",
     "output_type": "stream",
     "text": [
      "main line\n",
      "module name: __main__\n",
      "parent process: 13043\n",
      "process id: 32672\n",
      "function f\n",
      "module name: __main__\n",
      "parent process: 32672\n",
      "process id: 42836\n",
      "hello bob\n"
     ]
    }
   ],
   "source": [
    "from multiprocessing import Process\n",
    "import os\n",
    "\n",
    "def info(title):\n",
    "    print(title)\n",
    "    print('module name:', __name__)\n",
    "    print('parent process:', os.getppid())\n",
    "    print('process id:', os.getpid())\n",
    "\n",
    "def f(name):\n",
    "    info('function f')\n",
    "    print('hello', name)\n",
    "\n",
    "if __name__ == '__main__':\n",
    "    info('main line')\n",
    "    p = Process(target=f, args=('bob',))\n",
    "    p.start()\n",
    "    p.join()"
   ]
  },
  {
   "cell_type": "code",
   "execution_count": null,
   "metadata": {},
   "outputs": [],
   "source": []
  }
 ],
 "metadata": {
  "kernelspec": {
   "display_name": "Python 3",
   "language": "python",
   "name": "python3"
  },
  "language_info": {
   "codemirror_mode": {
    "name": "ipython",
    "version": 3
   },
   "file_extension": ".py",
   "mimetype": "text/x-python",
   "name": "python",
   "nbconvert_exporter": "python",
   "pygments_lexer": "ipython3",
   "version": "3.6.10"
  }
 },
 "nbformat": 4,
 "nbformat_minor": 4
}
